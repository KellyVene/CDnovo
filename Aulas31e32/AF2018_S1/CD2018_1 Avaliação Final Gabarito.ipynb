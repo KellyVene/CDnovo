{
 "cells": [
  {
   "cell_type": "markdown",
   "metadata": {},
   "source": [
    "# Avaliação Final de Ciência dos dados"
   ]
  },
  {
   "cell_type": "markdown",
   "metadata": {},
   "source": [
    "___\n",
    "# Nome: GABARITO"
   ]
  },
  {
   "cell_type": "markdown",
   "metadata": {},
   "source": [
    "___\n",
    "### Leia atentamente as instruções da AF descritas na parte em papel e que devem ser seguidas rigorosamente aqui!"
   ]
  },
  {
   "cell_type": "markdown",
   "metadata": {},
   "source": [
    "___\n"
   ]
  },
  {
   "cell_type": "code",
   "execution_count": 3,
   "metadata": {},
   "outputs": [],
   "source": [
    "%matplotlib inline\n",
    "\n",
    "import pandas as pd\n",
    "import numpy as np\n",
    "import matplotlib.pyplot as plt\n",
    "from scipy.stats import norm"
   ]
  },
  {
   "cell_type": "code",
   "execution_count": 4,
   "metadata": {},
   "outputs": [],
   "source": [
    "dados = pd.read_excel(\"houseAF.xlsx\")"
   ]
  },
  {
   "cell_type": "code",
   "execution_count": 5,
   "metadata": {},
   "outputs": [
    {
     "data": {
      "text/html": [
       "<div>\n",
       "<style scoped>\n",
       "    .dataframe tbody tr th:only-of-type {\n",
       "        vertical-align: middle;\n",
       "    }\n",
       "\n",
       "    .dataframe tbody tr th {\n",
       "        vertical-align: top;\n",
       "    }\n",
       "\n",
       "    .dataframe thead th {\n",
       "        text-align: right;\n",
       "    }\n",
       "</style>\n",
       "<table border=\"1\" class=\"dataframe\">\n",
       "  <thead>\n",
       "    <tr style=\"text-align: right;\">\n",
       "      <th></th>\n",
       "      <th>SalePrice</th>\n",
       "      <th>OverallQual</th>\n",
       "      <th>LotArea</th>\n",
       "      <th>X1stFlrSF</th>\n",
       "      <th>X2ndFlrSF</th>\n",
       "      <th>GarageCars</th>\n",
       "      <th>Fireplaces</th>\n",
       "      <th>CentralAir</th>\n",
       "      <th>YearBuilt</th>\n",
       "      <th>YrSold</th>\n",
       "    </tr>\n",
       "  </thead>\n",
       "  <tbody>\n",
       "    <tr>\n",
       "      <th>0</th>\n",
       "      <td>208500</td>\n",
       "      <td>7</td>\n",
       "      <td>8450</td>\n",
       "      <td>856</td>\n",
       "      <td>854</td>\n",
       "      <td>2</td>\n",
       "      <td>0</td>\n",
       "      <td>1</td>\n",
       "      <td>2003</td>\n",
       "      <td>2008</td>\n",
       "    </tr>\n",
       "    <tr>\n",
       "      <th>1</th>\n",
       "      <td>181500</td>\n",
       "      <td>6</td>\n",
       "      <td>9600</td>\n",
       "      <td>1262</td>\n",
       "      <td>0</td>\n",
       "      <td>2</td>\n",
       "      <td>1</td>\n",
       "      <td>1</td>\n",
       "      <td>1976</td>\n",
       "      <td>2007</td>\n",
       "    </tr>\n",
       "    <tr>\n",
       "      <th>2</th>\n",
       "      <td>223500</td>\n",
       "      <td>7</td>\n",
       "      <td>11250</td>\n",
       "      <td>920</td>\n",
       "      <td>866</td>\n",
       "      <td>2</td>\n",
       "      <td>1</td>\n",
       "      <td>1</td>\n",
       "      <td>2001</td>\n",
       "      <td>2008</td>\n",
       "    </tr>\n",
       "    <tr>\n",
       "      <th>3</th>\n",
       "      <td>140000</td>\n",
       "      <td>7</td>\n",
       "      <td>9550</td>\n",
       "      <td>961</td>\n",
       "      <td>756</td>\n",
       "      <td>3</td>\n",
       "      <td>1</td>\n",
       "      <td>1</td>\n",
       "      <td>1915</td>\n",
       "      <td>2006</td>\n",
       "    </tr>\n",
       "    <tr>\n",
       "      <th>4</th>\n",
       "      <td>250000</td>\n",
       "      <td>8</td>\n",
       "      <td>14260</td>\n",
       "      <td>1145</td>\n",
       "      <td>1053</td>\n",
       "      <td>3</td>\n",
       "      <td>1</td>\n",
       "      <td>1</td>\n",
       "      <td>2000</td>\n",
       "      <td>2008</td>\n",
       "    </tr>\n",
       "  </tbody>\n",
       "</table>\n",
       "</div>"
      ],
      "text/plain": [
       "   SalePrice  OverallQual  LotArea  X1stFlrSF  X2ndFlrSF  GarageCars  \\\n",
       "0     208500            7     8450        856        854           2   \n",
       "1     181500            6     9600       1262          0           2   \n",
       "2     223500            7    11250        920        866           2   \n",
       "3     140000            7     9550        961        756           3   \n",
       "4     250000            8    14260       1145       1053           3   \n",
       "\n",
       "   Fireplaces  CentralAir  YearBuilt  YrSold  \n",
       "0           0           1       2003    2008  \n",
       "1           1           1       1976    2007  \n",
       "2           1           1       2001    2008  \n",
       "3           1           1       1915    2006  \n",
       "4           1           1       2000    2008  "
      ]
     },
     "execution_count": 5,
     "metadata": {},
     "output_type": "execute_result"
    }
   ],
   "source": [
    "dados.head()"
   ]
  },
  {
   "cell_type": "code",
   "execution_count": 6,
   "metadata": {},
   "outputs": [
    {
     "data": {
      "text/plain": [
       "Index(['SalePrice', 'OverallQual', 'LotArea', 'X1stFlrSF', 'X2ndFlrSF',\n",
       "       'GarageCars', 'Fireplaces', 'CentralAir', 'YearBuilt', 'YrSold'],\n",
       "      dtype='object')"
      ]
     },
     "execution_count": 6,
     "metadata": {},
     "output_type": "execute_result"
    }
   ],
   "source": [
    "dados.columns"
   ]
  },
  {
   "cell_type": "markdown",
   "metadata": {},
   "source": [
    "___\n",
    "## (5,0 pontos) MODELO DE PREDIÇÃO"
   ]
  },
  {
   "cell_type": "markdown",
   "metadata": {},
   "source": [
    "___\n",
    "#### Considere que a variável `SalePrice` é a variável-alvo a ser predita e as demais variáveis da base de dados são as variáveis explicativas\n",
    "\n",
    "#### Considerando a variável-alvo `SalePrice`, ajuste o modelo abaixo:\n",
    "\n",
    "    o MODELO DE REGRESSÃO LINEAR (Multiple Linear Regression)\n",
    " \n",
    "    \n",
    "#### Faça:\n",
    "\n",
    "A. Divida a base de dados na parte treinamento e na parte teste. \n",
    "\n",
    "B. Ajuste um modelo de regressão linear múltipla para a parte treinamento.\n",
    "Para as variáveis `X1stFlrSF` e `CentralAir` , discuta o significado da coluna `P>|t|` obtida do ajuste do modelo de regressão. Interprete esse resultado da forma mais completa e clara, porém sucinta.\n",
    "\n",
    "C. Calcule os valores preditos da variável-alvo para a parte treinamento.\n",
    "\n",
    "D. Construa um gráfico de dispersão dos valores observados para a variável-alvo versus os respectivos valores preditos.\n",
    "\n",
    "E. Calcule a medida raiz do erro médio quadrático (RMS) descrita a seguir. Calcule essa medida tanto para a parte dos dados de treinamento como para a parte dos dados teste.\n",
    "    \n",
    "$$RMS=\\sqrt{\\frac{1}{n}\\sum^n_{i=1}(y_i-f_i)^2}\\mbox{, sendo } f_i \\mbox{ valor predito de } y_i \\mbox{ de acordo com modelo ajustado.}$$\n",
    "    \n",
    "F. Discuta se essa medida se comporta de forma semelhante para as duas partes de dados ou não, avaliando se há `overfitting` e `underfitting`.\n",
    "    \n"
   ]
  },
  {
   "cell_type": "markdown",
   "metadata": {},
   "source": [
    "Respostas:"
   ]
  },
  {
   "cell_type": "markdown",
   "metadata": {},
   "source": [
    "A."
   ]
  },
  {
   "cell_type": "markdown",
   "metadata": {},
   "source": [
    "## Separando a base de dados em Treinamento e em Teste"
   ]
  },
  {
   "cell_type": "code",
   "execution_count": 7,
   "metadata": {},
   "outputs": [],
   "source": [
    "y = dados.SalePrice\n",
    "X = dados[['OverallQual', 'LotArea', 'X1stFlrSF', 'X2ndFlrSF',\n",
    "       'GarageCars', 'Fireplaces', 'CentralAir', 'YearBuilt', 'YrSold']]"
   ]
  },
  {
   "cell_type": "code",
   "execution_count": 8,
   "metadata": {},
   "outputs": [],
   "source": [
    "from sklearn.model_selection import train_test_split"
   ]
  },
  {
   "cell_type": "code",
   "execution_count": 9,
   "metadata": {},
   "outputs": [
    {
     "name": "stdout",
     "output_type": "stream",
     "text": [
      "(1095, 9) (1095,)\n",
      "(365, 9) (365,)\n"
     ]
    }
   ],
   "source": [
    "Xtrain, Xtest, y_train, y_test = train_test_split(X, y, test_size=0.25)\n",
    "\n",
    "print(Xtrain.shape, y_train.shape)\n",
    "print(Xtest.shape, y_test.shape)"
   ]
  },
  {
   "cell_type": "markdown",
   "metadata": {
    "collapsed": true
   },
   "source": [
    "## MODELO DE REGRESSÃO LINEAR "
   ]
  },
  {
   "cell_type": "markdown",
   "metadata": {},
   "source": [
    "B."
   ]
  },
  {
   "cell_type": "code",
   "execution_count": 10,
   "metadata": {},
   "outputs": [],
   "source": [
    "import statsmodels.api as sm"
   ]
  },
  {
   "cell_type": "code",
   "execution_count": 11,
   "metadata": {},
   "outputs": [],
   "source": [
    "### Função utilitária para fazer a regressão com constante adicionada\n",
    "def regress(X,Y):\n",
    "    X_cp = sm.add_constant(X)\n",
    "    model = sm.OLS(Y,X_cp)\n",
    "    results = model.fit()\n",
    "    return results"
   ]
  },
  {
   "cell_type": "code",
   "execution_count": 12,
   "metadata": {},
   "outputs": [
    {
     "data": {
      "text/html": [
       "<table class=\"simpletable\">\n",
       "<caption>OLS Regression Results</caption>\n",
       "<tr>\n",
       "  <th>Dep. Variable:</th>        <td>SalePrice</td>    <th>  R-squared:         </th> <td>   0.766</td> \n",
       "</tr>\n",
       "<tr>\n",
       "  <th>Model:</th>                   <td>OLS</td>       <th>  Adj. R-squared:    </th> <td>   0.764</td> \n",
       "</tr>\n",
       "<tr>\n",
       "  <th>Method:</th>             <td>Least Squares</td>  <th>  F-statistic:       </th> <td>   393.9</td> \n",
       "</tr>\n",
       "<tr>\n",
       "  <th>Date:</th>             <td>Thu, 30 May 2019</td> <th>  Prob (F-statistic):</th>  <td>  0.00</td>  \n",
       "</tr>\n",
       "<tr>\n",
       "  <th>Time:</th>                 <td>15:20:34</td>     <th>  Log-Likelihood:    </th> <td> -13136.</td> \n",
       "</tr>\n",
       "<tr>\n",
       "  <th>No. Observations:</th>      <td>  1095</td>      <th>  AIC:               </th> <td>2.629e+04</td>\n",
       "</tr>\n",
       "<tr>\n",
       "  <th>Df Residuals:</th>          <td>  1085</td>      <th>  BIC:               </th> <td>2.634e+04</td>\n",
       "</tr>\n",
       "<tr>\n",
       "  <th>Df Model:</th>              <td>     9</td>      <th>                     </th>     <td> </td>    \n",
       "</tr>\n",
       "<tr>\n",
       "  <th>Covariance Type:</th>      <td>nonrobust</td>    <th>                     </th>     <td> </td>    \n",
       "</tr>\n",
       "</table>\n",
       "<table class=\"simpletable\">\n",
       "<tr>\n",
       "       <td></td>          <th>coef</th>     <th>std err</th>      <th>t</th>      <th>P>|t|</th>  <th>[0.025</th>    <th>0.975]</th>  \n",
       "</tr>\n",
       "<tr>\n",
       "  <th>const</th>       <td>-1.287e+06</td> <td> 1.81e+06</td> <td>   -0.712</td> <td> 0.477</td> <td>-4.83e+06</td> <td> 2.26e+06</td>\n",
       "</tr>\n",
       "<tr>\n",
       "  <th>OverallQual</th> <td> 2.175e+04</td> <td> 1370.758</td> <td>   15.868</td> <td> 0.000</td> <td> 1.91e+04</td> <td> 2.44e+04</td>\n",
       "</tr>\n",
       "<tr>\n",
       "  <th>LotArea</th>     <td>    0.5753</td> <td>    0.138</td> <td>    4.161</td> <td> 0.000</td> <td>    0.304</td> <td>    0.847</td>\n",
       "</tr>\n",
       "<tr>\n",
       "  <th>X1stFlrSF</th>   <td>   68.3411</td> <td>    4.375</td> <td>   15.620</td> <td> 0.000</td> <td>   59.757</td> <td>   76.926</td>\n",
       "</tr>\n",
       "<tr>\n",
       "  <th>X2ndFlrSF</th>   <td>   43.4649</td> <td>    3.326</td> <td>   13.069</td> <td> 0.000</td> <td>   36.939</td> <td>   49.991</td>\n",
       "</tr>\n",
       "<tr>\n",
       "  <th>GarageCars</th>  <td> 1.337e+04</td> <td> 2188.284</td> <td>    6.112</td> <td> 0.000</td> <td> 9080.340</td> <td> 1.77e+04</td>\n",
       "</tr>\n",
       "<tr>\n",
       "  <th>Fireplaces</th>  <td> 5640.7381</td> <td> 2221.003</td> <td>    2.540</td> <td> 0.011</td> <td> 1282.791</td> <td> 9998.685</td>\n",
       "</tr>\n",
       "<tr>\n",
       "  <th>CentralAir</th>  <td> 2395.0225</td> <td> 5216.973</td> <td>    0.459</td> <td> 0.646</td> <td>-7841.477</td> <td> 1.26e+04</td>\n",
       "</tr>\n",
       "<tr>\n",
       "  <th>YearBuilt</th>   <td>  350.5246</td> <td>   55.011</td> <td>    6.372</td> <td> 0.000</td> <td>  242.585</td> <td>  458.464</td>\n",
       "</tr>\n",
       "<tr>\n",
       "  <th>YrSold</th>      <td>  255.8620</td> <td>  898.716</td> <td>    0.285</td> <td> 0.776</td> <td>-1507.556</td> <td> 2019.280</td>\n",
       "</tr>\n",
       "</table>\n",
       "<table class=\"simpletable\">\n",
       "<tr>\n",
       "  <th>Omnibus:</th>       <td>315.336</td> <th>  Durbin-Watson:     </th> <td>   1.934</td> \n",
       "</tr>\n",
       "<tr>\n",
       "  <th>Prob(Omnibus):</th> <td> 0.000</td>  <th>  Jarque-Bera (JB):  </th> <td>29184.186</td>\n",
       "</tr>\n",
       "<tr>\n",
       "  <th>Skew:</th>          <td>-0.151</td>  <th>  Prob(JB):          </th> <td>    0.00</td> \n",
       "</tr>\n",
       "<tr>\n",
       "  <th>Kurtosis:</th>      <td>28.290</td>  <th>  Cond. No.          </th> <td>2.18e+07</td> \n",
       "</tr>\n",
       "</table><br/><br/>Warnings:<br/>[1] Standard Errors assume that the covariance matrix of the errors is correctly specified.<br/>[2] The condition number is large, 2.18e+07. This might indicate that there are<br/>strong multicollinearity or other numerical problems."
      ],
      "text/plain": [
       "<class 'statsmodels.iolib.summary.Summary'>\n",
       "\"\"\"\n",
       "                            OLS Regression Results                            \n",
       "==============================================================================\n",
       "Dep. Variable:              SalePrice   R-squared:                       0.766\n",
       "Model:                            OLS   Adj. R-squared:                  0.764\n",
       "Method:                 Least Squares   F-statistic:                     393.9\n",
       "Date:                Thu, 30 May 2019   Prob (F-statistic):               0.00\n",
       "Time:                        15:20:34   Log-Likelihood:                -13136.\n",
       "No. Observations:                1095   AIC:                         2.629e+04\n",
       "Df Residuals:                    1085   BIC:                         2.634e+04\n",
       "Df Model:                           9                                         \n",
       "Covariance Type:            nonrobust                                         \n",
       "===============================================================================\n",
       "                  coef    std err          t      P>|t|      [0.025      0.975]\n",
       "-------------------------------------------------------------------------------\n",
       "const       -1.287e+06   1.81e+06     -0.712      0.477   -4.83e+06    2.26e+06\n",
       "OverallQual  2.175e+04   1370.758     15.868      0.000    1.91e+04    2.44e+04\n",
       "LotArea         0.5753      0.138      4.161      0.000       0.304       0.847\n",
       "X1stFlrSF      68.3411      4.375     15.620      0.000      59.757      76.926\n",
       "X2ndFlrSF      43.4649      3.326     13.069      0.000      36.939      49.991\n",
       "GarageCars   1.337e+04   2188.284      6.112      0.000    9080.340    1.77e+04\n",
       "Fireplaces   5640.7381   2221.003      2.540      0.011    1282.791    9998.685\n",
       "CentralAir   2395.0225   5216.973      0.459      0.646   -7841.477    1.26e+04\n",
       "YearBuilt     350.5246     55.011      6.372      0.000     242.585     458.464\n",
       "YrSold        255.8620    898.716      0.285      0.776   -1507.556    2019.280\n",
       "==============================================================================\n",
       "Omnibus:                      315.336   Durbin-Watson:                   1.934\n",
       "Prob(Omnibus):                  0.000   Jarque-Bera (JB):            29184.186\n",
       "Skew:                          -0.151   Prob(JB):                         0.00\n",
       "Kurtosis:                      28.290   Cond. No.                     2.18e+07\n",
       "==============================================================================\n",
       "\n",
       "Warnings:\n",
       "[1] Standard Errors assume that the covariance matrix of the errors is correctly specified.\n",
       "[2] The condition number is large, 2.18e+07. This might indicate that there are\n",
       "strong multicollinearity or other numerical problems.\n",
       "\"\"\""
      ]
     },
     "execution_count": 12,
     "metadata": {},
     "output_type": "execute_result"
    }
   ],
   "source": [
    "#Modelo de regressão com a parte que TREINA (Train)\n",
    "results = regress(Xtrain,y_train)\n",
    "results.summary()"
   ]
  },
  {
   "cell_type": "markdown",
   "metadata": {},
   "source": [
    "**Ainda, Interpretar os coeficientes das duas variáveis descritas na pergunta!!**"
   ]
  },
  {
   "cell_type": "markdown",
   "metadata": {},
   "source": [
    "C. e D."
   ]
  },
  {
   "cell_type": "code",
   "execution_count": 13,
   "metadata": {
    "scrolled": true
   },
   "outputs": [
    {
     "data": {
      "image/png": "[encoded data removed]",
      "text/plain": [
       "<Figure size 432x288 with 1 Axes>"
      ]
     },
     "metadata": {
      "needs_background": "light"
     },
     "output_type": "display_data"
    }
   ],
   "source": [
    "#Predict para TRAIN\n",
    "y_pred_train = results.predict(sm.add_constant(Xtrain)) #Aqui, é necessário usar comando sm.add_constant para intercepto\n",
    "#y_pred_train = results.predict(Xtrain) #Aqui, é necessário usar comando sm.add_constant para intercepto\n",
    "\n",
    "plt.plot(y_train, y_pred_train, 'o')\n",
    "plt.show()"
   ]
  },
  {
   "cell_type": "markdown",
   "metadata": {},
   "source": [
    "E."
   ]
  },
  {
   "cell_type": "code",
   "execution_count": 21,
   "metadata": {},
   "outputs": [
    {
     "name": "stdout",
     "output_type": "stream",
     "text": [
      "RMS train:  37518.51836221825\n"
     ]
    }
   ],
   "source": [
    "#Medida RMS para TRAIN\n",
    "RMS_train= (((y_train - y_pred_train)** 2).sum()/len(y_train))**0.5\n",
    "print('RMS train: ', RMS_train)"
   ]
  },
  {
   "cell_type": "code",
   "execution_count": 22,
   "metadata": {},
   "outputs": [],
   "source": [
    "#Predict para TEST\n",
    "y_pred_test = results.predict(sm.add_constant(Xtest)) #Aqui, é necessário usar comando sm.add_constant para intercepto"
   ]
  },
  {
   "cell_type": "code",
   "execution_count": 23,
   "metadata": {},
   "outputs": [
    {
     "name": "stdout",
     "output_type": "stream",
     "text": [
      "RMS test:  39310.27616802186\n"
     ]
    }
   ],
   "source": [
    "#Medida RMS para TEST\n",
    "RMS_test= (((y_test - y_pred_test)** 2).sum()/len(y_test))**0.5\n",
    "print('RMS test: ', RMS_test)"
   ]
  },
  {
   "cell_type": "code",
   "execution_count": 24,
   "metadata": {},
   "outputs": [
    {
     "data": {
      "text/plain": [
       "4.7756624835375625"
      ]
     },
     "execution_count": 24,
     "metadata": {},
     "output_type": "execute_result"
    }
   ],
   "source": [
    "((RMS_test-RMS_train)/RMS_train)*100"
   ]
  },
  {
   "cell_type": "markdown",
   "metadata": {
    "collapsed": true
   },
   "source": [
    "Aqui...\n",
    "\n",
    "Concluir o quanto RMS_test aumenta ou cai comparado com RMS_train! Dependendo do resultado, pode-se concluir por bom ajuste ou por overfitting.\n",
    "\n",
    "**Como a base de dados é pequena, esse % de variação pode variar bastante dependendo da partição criada em Train e Test!**"
   ]
  }
 ],
 "metadata": {
  "kernelspec": {
   "display_name": "Python 3",
   "language": "python",
   "name": "python3"
  },
  "language_info": {
   "codemirror_mode": {
    "name": "ipython",
    "version": 3
   },
   "file_extension": ".py",
   "mimetype": "text/x-python",
   "name": "python",
   "nbconvert_exporter": "python",
   "pygments_lexer": "ipython3",
   "version": "3.7.1"
  }
 },
 "nbformat": 4,
 "nbformat_minor": 2
}
