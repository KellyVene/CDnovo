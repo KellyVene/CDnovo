{
 "cells": [
  {
   "cell_type": "markdown",
   "metadata": {},
   "source": [
    "# Avaliação Final de Ciência dos dados"
   ]
  },
  {
   "cell_type": "markdown",
   "metadata": {},
   "source": [
    "___\n",
    "# Nome: "
   ]
  },
  {
   "cell_type": "markdown",
   "metadata": {},
   "source": [
    "___\n",
    "### Leia atentamente as instruções da AF descritas na parte em papel e que devem ser seguidas rigorosamente aqui!"
   ]
  },
  {
   "cell_type": "markdown",
   "metadata": {},
   "source": [
    "___\n"
   ]
  },
  {
   "cell_type": "code",
   "execution_count": null,
   "metadata": {
    "collapsed": true
   },
   "outputs": [],
   "source": [
    "%matplotlib inline\n",
    "\n",
    "import pandas as pd\n",
    "import numpy as np\n",
    "import matplotlib.pyplot as plt\n",
    "from scipy.stats import norm"
   ]
  },
  {
   "cell_type": "code",
   "execution_count": null,
   "metadata": {
    "collapsed": true
   },
   "outputs": [],
   "source": [
    "dados = pd.read_excel(\"houseAF.xlsx\")"
   ]
  },
  {
   "cell_type": "code",
   "execution_count": null,
   "metadata": {},
   "outputs": [],
   "source": [
    "dados.head()"
   ]
  },
  {
   "cell_type": "code",
   "execution_count": null,
   "metadata": {},
   "outputs": [],
   "source": [
    "dados.columns"
   ]
  },
  {
   "cell_type": "markdown",
   "metadata": {},
   "source": [
    "___\n",
    "## (5,0 pontos) MODELO DE PREDIÇÃO"
   ]
  },
  {
   "cell_type": "markdown",
   "metadata": {},
   "source": [
    "___\n",
    "#### Considere que a variável `SalePrice` é a variável-alvo a ser predita e as demais variáveis da base de dados são as variáveis explicativas\n",
    "\n",
    "#### Considerando a variável-alvo `SalePrice`, ajuste o modelo abaixo:\n",
    "\n",
    "    o MODELO DE REGRESSÃO LINEAR (Multiple Linear Regression)\n",
    " \n",
    "    \n",
    "#### Faça:\n",
    "\n",
    "A. Divida a base de dados na parte treinamento e na parte teste. \n",
    "\n",
    "B. Ajuste um modelo de regressão linear múltipla para a parte treinamento.\n",
    "Para as variáveis `X1stFlrSF` e `CentralAir` , discuta o significado da coluna `P>|t|` obtida do ajuste do modelo de regressão. Interprete esse resultado da forma mais completa e clara, porém sucinta.\n",
    "\n",
    "C. Calcule os valores preditos da variável-alvo para a parte treinamento.\n",
    "\n",
    "D. Construa um gráfico de dispersão dos valores observados para a variável-alvo versus os respectivos valores preditos.\n",
    "\n",
    "E. Calcule a medida raiz do erro médio quadrático (RMS) descrita a seguir. Calcule essa medida tanto para a parte dos dados de treinamento como para a parte dos dados teste.\n",
    "    \n",
    "$$RMS=\\sqrt{\\frac{1}{n}\\sum^n_{i=1}(y_i-f_i)^2}\\mbox{, sendo } f_i \\mbox{ valor predito de } y_i \\mbox{ de acordo com modelo ajustado.}$$\n",
    "    \n",
    "F. Discuta se essa medida se comporta de forma semelhante para as duas partes de dados ou não, avaliando se há `overfitting` e `underfitting`.\n",
    "    \n"
   ]
  },
  {
   "cell_type": "markdown",
   "metadata": {},
   "source": [
    "## Separando a base de dados em Treinamento e em Teste (item A)"
   ]
  },
  {
   "cell_type": "code",
   "execution_count": null,
   "metadata": {
    "collapsed": true
   },
   "outputs": [],
   "source": []
  },
  {
   "cell_type": "code",
   "execution_count": null,
   "metadata": {
    "collapsed": true
   },
   "outputs": [],
   "source": []
  },
  {
   "cell_type": "code",
   "execution_count": null,
   "metadata": {
    "collapsed": true
   },
   "outputs": [],
   "source": []
  },
  {
   "cell_type": "markdown",
   "metadata": {
    "collapsed": true
   },
   "source": [
    "## MODELO DE REGRESSÃO LINEAR  (itens B a F)"
   ]
  },
  {
   "cell_type": "code",
   "execution_count": null,
   "metadata": {
    "collapsed": true
   },
   "outputs": [],
   "source": []
  },
  {
   "cell_type": "code",
   "execution_count": null,
   "metadata": {
    "collapsed": true
   },
   "outputs": [],
   "source": []
  },
  {
   "cell_type": "code",
   "execution_count": null,
   "metadata": {
    "collapsed": true
   },
   "outputs": [],
   "source": []
  }
 ],
 "metadata": {
  "kernelspec": {
   "display_name": "Python 3",
   "language": "python",
   "name": "python3"
  },
  "language_info": {
   "codemirror_mode": {
    "name": "ipython",
    "version": 3
   },
   "file_extension": ".py",
   "mimetype": "text/x-python",
   "name": "python",
   "nbconvert_exporter": "python",
   "pygments_lexer": "ipython3",
   "version": "3.7.1"
  }
 },
 "nbformat": 4,
 "nbformat_minor": 2
}
