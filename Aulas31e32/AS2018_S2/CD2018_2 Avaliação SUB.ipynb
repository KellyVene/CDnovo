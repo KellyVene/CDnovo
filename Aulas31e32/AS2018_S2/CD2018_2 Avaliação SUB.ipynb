{
 "cells": [
  {
   "cell_type": "markdown",
   "metadata": {},
   "source": [
    "# Avaliação SUBSTITUTIVA de Ciência dos dados - 06/12/2018"
   ]
  },
  {
   "cell_type": "markdown",
   "metadata": {},
   "source": [
    "___\n",
    "<font color=red>**SEU NOME AQUI**</font>"
   ]
  },
  {
   "cell_type": "markdown",
   "metadata": {},
   "source": [
    "___\n",
    "### Leia atentamente as instruções da avaliação descritas na parte em papel e que devem ser seguidas rigorosamente aqui!"
   ]
  },
  {
   "cell_type": "markdown",
   "metadata": {},
   "source": [
    "Avisos:\n",
    "\n",
    "* O dever de salvar a prova é do aluno. Salve sempre\n",
    "* Evite repetir nomes de variáveis entre as questões para evitar interferências não planejadas"
   ]
  },
  {
   "cell_type": "markdown",
   "metadata": {},
   "source": [
    "**Só serão consideradas entregues provas submetidas via Blackboard ao final e que entregaram a questão 1 (parte papel) da AS **"
   ]
  },
  {
   "cell_type": "markdown",
   "metadata": {},
   "source": [
    "___\n"
   ]
  },
  {
   "cell_type": "code",
   "execution_count": 1,
   "metadata": {
    "collapsed": true
   },
   "outputs": [],
   "source": [
    "%matplotlib inline\n",
    "\n",
    "import pandas as pd\n",
    "import numpy as np\n",
    "import matplotlib.pyplot as plt\n",
    "from scipy.stats import norm"
   ]
  },
  {
   "cell_type": "code",
   "execution_count": 2,
   "metadata": {
    "collapsed": true
   },
   "outputs": [],
   "source": [
    "dados = pd.read_excel(\"Marvak.xlsx\")"
   ]
  },
  {
   "cell_type": "code",
   "execution_count": 3,
   "metadata": {},
   "outputs": [
    {
     "data": {
      "text/html": [
       "<div>\n",
       "<style>\n",
       "    .dataframe thead tr:only-child th {\n",
       "        text-align: right;\n",
       "    }\n",
       "\n",
       "    .dataframe thead th {\n",
       "        text-align: left;\n",
       "    }\n",
       "\n",
       "    .dataframe tbody tr th {\n",
       "        vertical-align: top;\n",
       "    }\n",
       "</style>\n",
       "<table border=\"1\" class=\"dataframe\">\n",
       "  <thead>\n",
       "    <tr style=\"text-align: right;\">\n",
       "      <th></th>\n",
       "      <th>ID</th>\n",
       "      <th>IDADE</th>\n",
       "      <th>SEXO</th>\n",
       "      <th>RESIDENCIA</th>\n",
       "      <th>EC</th>\n",
       "      <th>SALARIO_ANUAL</th>\n",
       "      <th>GASTO_ANUAL</th>\n",
       "    </tr>\n",
       "  </thead>\n",
       "  <tbody>\n",
       "    <tr>\n",
       "      <th>0</th>\n",
       "      <td>1</td>\n",
       "      <td>Jovem</td>\n",
       "      <td>Feminino</td>\n",
       "      <td>Alugada</td>\n",
       "      <td>Solteiro</td>\n",
       "      <td>86000.00</td>\n",
       "      <td>1053.00</td>\n",
       "    </tr>\n",
       "    <tr>\n",
       "      <th>1</th>\n",
       "      <td>2</td>\n",
       "      <td>Jovem</td>\n",
       "      <td>Feminino</td>\n",
       "      <td>Propria</td>\n",
       "      <td>Casado</td>\n",
       "      <td>48543.74</td>\n",
       "      <td>321.03</td>\n",
       "    </tr>\n",
       "    <tr>\n",
       "      <th>2</th>\n",
       "      <td>3</td>\n",
       "      <td>Jovem</td>\n",
       "      <td>Feminino</td>\n",
       "      <td>Propria</td>\n",
       "      <td>Solteiro</td>\n",
       "      <td>14760.10</td>\n",
       "      <td>375.03</td>\n",
       "    </tr>\n",
       "    <tr>\n",
       "      <th>3</th>\n",
       "      <td>4</td>\n",
       "      <td>Adulto</td>\n",
       "      <td>Feminino</td>\n",
       "      <td>Alugada</td>\n",
       "      <td>Solteiro</td>\n",
       "      <td>19900.00</td>\n",
       "      <td>262.00</td>\n",
       "    </tr>\n",
       "    <tr>\n",
       "      <th>4</th>\n",
       "      <td>5</td>\n",
       "      <td>Idoso</td>\n",
       "      <td>Masculino</td>\n",
       "      <td>Alugada</td>\n",
       "      <td>Casado</td>\n",
       "      <td>119000.00</td>\n",
       "      <td>278.00</td>\n",
       "    </tr>\n",
       "  </tbody>\n",
       "</table>\n",
       "</div>"
      ],
      "text/plain": [
       "   ID   IDADE       SEXO RESIDENCIA        EC  SALARIO_ANUAL  GASTO_ANUAL\n",
       "0   1   Jovem   Feminino    Alugada  Solteiro       86000.00      1053.00\n",
       "1   2   Jovem   Feminino    Propria    Casado       48543.74       321.03\n",
       "2   3   Jovem   Feminino    Propria  Solteiro       14760.10       375.03\n",
       "3   4  Adulto   Feminino    Alugada  Solteiro       19900.00       262.00\n",
       "4   5   Idoso  Masculino    Alugada    Casado      119000.00       278.00"
      ]
     },
     "execution_count": 3,
     "metadata": {},
     "output_type": "execute_result"
    }
   ],
   "source": [
    "dados.head()"
   ]
  },
  {
   "cell_type": "code",
   "execution_count": 4,
   "metadata": {},
   "outputs": [
    {
     "data": {
      "text/plain": [
       "Index(['ID', 'IDADE', 'SEXO', 'RESIDENCIA', 'EC', 'SALARIO_ANUAL',\n",
       "       'GASTO_ANUAL'],\n",
       "      dtype='object')"
      ]
     },
     "execution_count": 4,
     "metadata": {},
     "output_type": "execute_result"
    }
   ],
   "source": [
    "dados.columns"
   ]
  },
  {
   "cell_type": "code",
   "execution_count": 5,
   "metadata": {
    "collapsed": true
   },
   "outputs": [],
   "source": [
    "dados.IDADE = dados.IDADE.astype('category')\n",
    "dados.SEXO = dados.SEXO.astype('category')\n",
    "dados.RESIDENCIA = dados.RESIDENCIA.astype('category')\n",
    "dados.EC = dados.EC.astype('category')"
   ]
  },
  {
   "cell_type": "code",
   "execution_count": 6,
   "metadata": {},
   "outputs": [
    {
     "data": {
      "text/plain": [
       "ID                  int64\n",
       "IDADE            category\n",
       "SEXO             category\n",
       "RESIDENCIA       category\n",
       "EC               category\n",
       "SALARIO_ANUAL     float64\n",
       "GASTO_ANUAL       float64\n",
       "dtype: object"
      ]
     },
     "execution_count": 6,
     "metadata": {},
     "output_type": "execute_result"
    }
   ],
   "source": [
    "dados.dtypes"
   ]
  },
  {
   "cell_type": "markdown",
   "metadata": {},
   "source": [
    "___\n",
    "## PROBLEMA\n",
    "\n",
    "A Marvak, uma renomada loja de departamentos, decidiu realizar uma pesquisa para verificar uma possível associação entre algumas características de seus clientes com seus gastos anuais na loja.\n",
    "\n",
    "Dessa forma, foi selecionada aleatoriamente uma amostra aleatória de $1.000$ clientes que já fizeram compra na Marvak em todas as filiais no último ano e foram observadas as seguintes informações:\n",
    "\n",
    "* **IDADE**: idade do cliente, que foi categorizada em jovem (até 30 anos), adulto (de 31 a 55 anos) ou idoso (56 ou mais anos);\n",
    "* **SEXO**: sexo do cliente (feminino ou masculino);\n",
    "* **RESIDENCIA**: tipo de residência do cliente (alugada ou própria);\n",
    "* **EC**: estado civil do cliente (casado ou solteiro);\n",
    "* **SALARIO_ANUAL**: salário anual do cliente (em reais); e\n",
    "* **GASTO_ANUAL**: gasto total anual do cliente em compras realizadas na Marvak (em reais).\n"
   ]
  },
  {
   "cell_type": "markdown",
   "metadata": {},
   "source": [
    "___\n",
    "### Questão 2 (3,50 pontos) - TESTE DE HIPÓTESES"
   ]
  },
  {
   "cell_type": "markdown",
   "metadata": {},
   "source": [
    "O departamento financeiro da Marvak acredita que os clientes de qualquer filial dessa rede gastaram, em média, mais do que $500$ reais no último ano.\n",
    "\n",
    "Levando em consideração a amostra disponível na base de dados, verifique se há evidências suficiente para afirmar que a suspeita do departamento financeiro procede.\n",
    "\n",
    "**Para resolução desta questão, deixe claro:**\n",
    "\n",
    "1) Construção das Hipóteses Nula e Alternativa em termos do problema e do parâmetro. `(1,0 ponto)`\n",
    "\n",
    "2) Cálculo do valor *p* do teste. `(0,75 ponto)`\n",
    "\n",
    "3) Conclusão em termos do problema, deixando claro quais resultados foram utilizados para tal decisão. `(0,75 ponto)`\n",
    "\n",
    "4) Qual ou quais suposições foram feitas para a escolha da distribuição utilizada no item (2) desta questão? Se há suposição para a distribuição de probabilidades da variáveis de interesse, verifique-a utilizando algum recurso gráfico. Interprete o gráfico. `(1,0 ponto)`"
   ]
  },
  {
   "cell_type": "markdown",
   "metadata": {},
   "source": [
    "___\n",
    "Símbolos úteis (se precisar e quiser usar) $H_0$ $H_1$ $\\mu$ $>$ $<$ $\\leq$ $\\geq$ $\\neq$\n",
    "___"
   ]
  },
  {
   "cell_type": "markdown",
   "metadata": {},
   "source": [
    "** RESPOSTAS: **"
   ]
  },
  {
   "cell_type": "markdown",
   "metadata": {},
   "source": [
    "1) Construção das Hipóteses Nula e Alternativa em termos do problema e do parâmetro.\n",
    "\n",
    "**R.:**"
   ]
  },
  {
   "cell_type": "markdown",
   "metadata": {
    "collapsed": true
   },
   "source": [
    "** Resposta aqui **"
   ]
  },
  {
   "cell_type": "markdown",
   "metadata": {},
   "source": [
    "2) Cálculo do valor *p* do teste.\n",
    "\n",
    "**R.:**"
   ]
  },
  {
   "cell_type": "code",
   "execution_count": 7,
   "metadata": {
    "collapsed": true
   },
   "outputs": [],
   "source": [
    "# Código aqui"
   ]
  },
  {
   "cell_type": "markdown",
   "metadata": {},
   "source": [
    "3) Conclusão em termos do problema, deixando claro quais resultados foram utilizados para tal decisão.\n",
    "\n",
    "**R.:**"
   ]
  },
  {
   "cell_type": "markdown",
   "metadata": {
    "collapsed": true
   },
   "source": [
    "** Resposta aqui **"
   ]
  },
  {
   "cell_type": "markdown",
   "metadata": {},
   "source": [
    "4) Qual ou quais suposições foram feitas para a escolha da distribuição utilizada no item (2) desta questão? Se há suposição para a distribuição de probabilidades da variáveis de interesse, verifique-a utilizando algum recurso gráfico. Interprete o gráfico.\n",
    "\n",
    "**R.:**"
   ]
  },
  {
   "cell_type": "markdown",
   "metadata": {},
   "source": [
    "** Suposições aqui **"
   ]
  },
  {
   "cell_type": "code",
   "execution_count": 8,
   "metadata": {
    "collapsed": true
   },
   "outputs": [],
   "source": [
    "# Código aqui"
   ]
  },
  {
   "cell_type": "markdown",
   "metadata": {},
   "source": [
    "** Interpretação aqui **"
   ]
  },
  {
   "cell_type": "markdown",
   "metadata": {},
   "source": [
    "___\n",
    "### Questão 3 (3,50 pontos) - MODELO DE PREDIÇÃO"
   ]
  },
  {
   "cell_type": "markdown",
   "metadata": {},
   "source": [
    "Assuma que o objetivo da Marvak seja traçar o perfil de clientes com maior potencial de consumo na loja Marvak. Ou seja, considerando as variáveis mensuradas na base de dados, quais as características que melhor definem o segmento de clientes da Marvak.\n",
    "\n",
    "Assim, considere que a variável `GASTO_ANUAL` é a variável-alvo a ser predita e as demais variáveis da base de dados são as variáveis explicativas.\n",
    "\n",
    " \n",
    "**Para resolução desta questão, faça:**\n",
    "\n",
    "1) Gráfico de dispersão do `SALARIO_ANUAL` versus `GASTO_ANUAL` separando os clientes que residem em casa `Alugada` e casa `Propria`. Interprete-o. `(0,75 ponto)`\n",
    " \n",
    " \n",
    "2) Considerando apenas os clientes que possuem residência `Alugada`, ajuste uma reta para prever `GASTO_ANUAL` de acordo com o `SALARIO_ANUAL` do cliente. Considerando o valor *p* de um ajuste linear, a reta é significante? Qual deve ser o `GASTO_ANUAL` previsto para um cliente que possui residência `Alugada` e `SALARIO_ANUAL` de 130 mil reais? `(1,00 ponto)`\n",
    " \n",
    " \n",
    "3) Considerando apenas os clientes que possuem residência `Propria`, ajuste uma reta para prever `GASTO_ANUAL` de acordo com o `SALARIO_ANUAL` do cliente. Considerando o valor *p* de um ajuste linear, a reta é significante? Qual deve ser o `GASTO_ANUAL` previsto para um cliente que possui residência `Propria` e `SALARIO_ANUAL` de 130 mil reais? `(1,00 ponto)`\n",
    "\n",
    "\n",
    "4) As variáveis `RESIDENCIA` e  `SALARIO_ANUAL` poderiam ser consideradas simultaneamente num modelo de regressão para estimar `GASTO_ANUAL` de um cliente da Marvak? Justifique. **Nota:** Aqui não é necessário ajustar um modelo, mas sim explicar se seria possível e como você procederia deixando claro os cuidados que teria para incluir ambas as variáveis no modelo. `(0,75 ponto)`\n",
    " \n",
    "___"
   ]
  },
  {
   "cell_type": "markdown",
   "metadata": {},
   "source": [
    "** RESPOSTAS: **"
   ]
  },
  {
   "cell_type": "markdown",
   "metadata": {},
   "source": [
    "1) Gráfico de dispersão do SALARIO_ANUAL versus GASTO_ANUAL separando os clientes que residem em casa Alugada e casa Propria. Interprete-o.\n",
    "\n",
    "**R.:**"
   ]
  },
  {
   "cell_type": "code",
   "execution_count": 9,
   "metadata": {
    "collapsed": true
   },
   "outputs": [],
   "source": [
    "#Código aqui"
   ]
  },
  {
   "cell_type": "markdown",
   "metadata": {},
   "source": [
    "** Interpretação aqui **"
   ]
  },
  {
   "cell_type": "markdown",
   "metadata": {},
   "source": [
    "2) Considerando apenas os clientes que possuem residência Alugada, ajuste uma reta para prever GASTO_ANUAL de acordo com o SALARIO_ANUAL do cliente. Considerando o valor p de um ajuste linear, a reta é significante? Qual deve ser o GASTO_ANUAL previsto para um cliente que possui residência Alugada e SALARIO_ANUAL de 130 mil reais?\n",
    "\n",
    "**R.:**"
   ]
  },
  {
   "cell_type": "code",
   "execution_count": 10,
   "metadata": {
    "collapsed": true
   },
   "outputs": [],
   "source": [
    "#Código aqui"
   ]
  },
  {
   "cell_type": "markdown",
   "metadata": {},
   "source": [
    "** Conclusão aqui **"
   ]
  },
  {
   "cell_type": "markdown",
   "metadata": {
    "collapsed": true
   },
   "source": [
    "3) Considerando apenas os clientes que possuem residência Propria, ajuste uma reta para prever GASTO_ANUAL de acordo com o SALARIO_ANUAL do cliente. Considerando o valor p de um ajuste linear, a reta é significante? Qual deve ser o GASTO_ANUAL previsto para um cliente que possui residência Propria e SALARIO_ANUAL de 130 mil reais?\n",
    "\n",
    "**R.:**"
   ]
  },
  {
   "cell_type": "code",
   "execution_count": 11,
   "metadata": {
    "collapsed": true
   },
   "outputs": [],
   "source": [
    "#Código aqui"
   ]
  },
  {
   "cell_type": "markdown",
   "metadata": {},
   "source": [
    "** Conclusão aqui **"
   ]
  },
  {
   "cell_type": "markdown",
   "metadata": {
    "collapsed": true
   },
   "source": [
    "4) As variáveis RESIDENCIA e  SALARIO_ANUAL poderiam ser consideradas simultaneamente num modelo de regressão para estimar GASTO_ANUAL de um cliente da Marvak? Justifique. Nota: Aqui não é necessário ajustar um modelo, mas sim explicar se seria possível e como você procederia deixando claro os cuidados que teria para incluir ambas as variáveis no modelo.\n",
    "\n",
    "**R.:**"
   ]
  },
  {
   "cell_type": "markdown",
   "metadata": {
    "collapsed": true
   },
   "source": [
    "** Resposta aqui **"
   ]
  },
  {
   "cell_type": "code",
   "execution_count": null,
   "metadata": {
    "collapsed": true
   },
   "outputs": [],
   "source": []
  }
 ],
 "metadata": {
  "kernelspec": {
   "display_name": "Python 3",
   "language": "python",
   "name": "python3"
  },
  "language_info": {
   "codemirror_mode": {
    "name": "ipython",
    "version": 3
   },
   "file_extension": ".py",
   "mimetype": "text/x-python",
   "name": "python",
   "nbconvert_exporter": "python",
   "pygments_lexer": "ipython3",
   "version": "3.7.1"
  }
 },
 "nbformat": 4,
 "nbformat_minor": 2
}
