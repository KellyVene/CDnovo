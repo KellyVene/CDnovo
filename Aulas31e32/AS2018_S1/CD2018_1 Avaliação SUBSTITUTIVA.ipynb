{
 "cells": [
  {
   "cell_type": "markdown",
   "metadata": {},
   "source": [
    "# Avaliação SUBSTITUTIVA de Ciência dos dados"
   ]
  },
  {
   "cell_type": "markdown",
   "metadata": {},
   "source": [
    "___\n",
    "# Nome: "
   ]
  },
  {
   "cell_type": "markdown",
   "metadata": {},
   "source": [
    "___\n",
    "### Leia atentamente as instruções da AS descritas na parte em papel e que devem ser seguidas rigorosamente aqui!"
   ]
  },
  {
   "cell_type": "markdown",
   "metadata": {},
   "source": [
    "___\n"
   ]
  },
  {
   "cell_type": "code",
   "execution_count": null,
   "metadata": {
    "collapsed": true
   },
   "outputs": [],
   "source": [
    "%matplotlib inline\n",
    "\n",
    "import pandas as pd\n",
    "import numpy as np\n",
    "import matplotlib.pyplot as plt\n",
    "from scipy.stats import norm"
   ]
  },
  {
   "cell_type": "code",
   "execution_count": null,
   "metadata": {
    "collapsed": true
   },
   "outputs": [],
   "source": [
    "dados = pd.read_excel(\"houseAS.xlsx\")"
   ]
  },
  {
   "cell_type": "code",
   "execution_count": null,
   "metadata": {},
   "outputs": [],
   "source": [
    "dados.head()"
   ]
  },
  {
   "cell_type": "code",
   "execution_count": null,
   "metadata": {},
   "outputs": [],
   "source": [
    "dados.columns"
   ]
  },
  {
   "cell_type": "code",
   "execution_count": null,
   "metadata": {
    "collapsed": true
   },
   "outputs": [],
   "source": [
    "dados.Foundation = dados.Foundation.astype('category')\n",
    "dados.OverallQual = dados.OverallQual.astype('category')\n",
    "dados.Street = dados.Street.astype('category')\n",
    "dados.LandSlope = dados.LandSlope.astype('category')\n",
    "dados.RoofStyle = dados.RoofStyle.astype('category')\n",
    "dados.CentralAir = dados.CentralAir.astype('category')\n",
    "\n",
    "dados.Foundation.cat.categories = (['BrkTil','CBlock','PConc','Slab','Stone','Wood'])\n",
    "dados.OverallQual.cat.categories = (['Very Poor','Poor','Fair','Below Average','Average',\n",
    "                                     'Above Average','Good','Very Good','Excellent','Very Excellent'])\n",
    "\n",
    "dados.Street.cat.categories = (['Grvl','Pave'])\n",
    "dados.LandSlope.cat.categories = (['Gtl','Mod','Sev'])\n",
    "dados.RoofStyle.cat.categories = (['Flat','Gable','Gambrel','Hip','Mansard','Shed'])\n",
    "dados.CentralAir.cat.categories = (['N','Y'])"
   ]
  },
  {
   "cell_type": "markdown",
   "metadata": {},
   "source": [
    "___\n",
    "## Q1)\n",
    "\n",
    "#### Assuma que o objetivo para trabalhar com a base de dados acima seja: “Analisar como uma determinada variável pode influenciar a variação do preço de vendas de um imóvel”.\n",
    "\n",
    "(1,50 ponto) Utilizando alguma ferramenta estatística (**gráfica**) que seja adequada, analise como a quantidade de carros na garagem (variável `GarageCars`) pode influencia a variação do preço de vendas de um imóvel (variável `SalePrice`). A interpretação precisa ser completa PORÉM sucinta.\n"
   ]
  },
  {
   "cell_type": "code",
   "execution_count": null,
   "metadata": {
    "collapsed": true
   },
   "outputs": [],
   "source": []
  },
  {
   "cell_type": "code",
   "execution_count": null,
   "metadata": {
    "collapsed": true
   },
   "outputs": [],
   "source": []
  },
  {
   "cell_type": "code",
   "execution_count": null,
   "metadata": {
    "collapsed": true
   },
   "outputs": [],
   "source": []
  },
  {
   "cell_type": "markdown",
   "metadata": {},
   "source": [
    "___\n",
    "## Q2)  BOOTSTRAP \n",
    "\n",
    "#### Assuma que haja a seguinte conjectura: “Preço MEDIANO de venda da propriedade (em dólares) é de `160000`”.\n",
    "\n",
    "Utilizando intervalo de confiança Bootstrap, analise se há evidências de que a afirmação seja verdadeira, considerando coeficiente de confiança de 95%.\n",
    "\n",
    "Se baseie no algoritmo descrito na aula `Aula22 - Boostrapping com ilustração.ipynb`\n",
    "\n",
    "**Algoritmo** (3,50 pontos)\n",
    " \n",
    "   1. Repetir 10.000 vezes:\n",
    "           1.1. Realizar um sorteio com reposição da amostra mestre. Usar a função random.choice() do numpy.\n",
    "           1.2. Calcular a medida de interesse da reamostragem e guardar em uma lista.\n",
    "   2. Plotar o histograma dessa lista de medidas de calculadas anteriormente.\n",
    "   3. A partir da lista, encontrar os percentis de ordem $\\alpha/2$ e $(1-\\alpha)/2$ para construir Intervalo de Confiança Boostrap, sendo $\\alpha=1-\\gamma$.\n",
    "   4. Se objetivo for tomada de decisão, avalie se o valor sob alguma hipótese faz parte ou não do intervalo de confiança construído e conclua!\n",
    "\n",
    "___\n",
    "    \n"
   ]
  },
  {
   "cell_type": "code",
   "execution_count": null,
   "metadata": {
    "collapsed": true
   },
   "outputs": [],
   "source": []
  },
  {
   "cell_type": "code",
   "execution_count": null,
   "metadata": {
    "collapsed": true
   },
   "outputs": [],
   "source": []
  },
  {
   "cell_type": "code",
   "execution_count": null,
   "metadata": {
    "collapsed": true
   },
   "outputs": [],
   "source": []
  }
 ],
 "metadata": {
  "kernelspec": {
   "display_name": "Python 3",
   "language": "python",
   "name": "python3"
  },
  "language_info": {
   "codemirror_mode": {
    "name": "ipython",
    "version": 3
   },
   "file_extension": ".py",
   "mimetype": "text/x-python",
   "name": "python",
   "nbconvert_exporter": "python",
   "pygments_lexer": "ipython3",
   "version": "3.7.1"
  }
 },
 "nbformat": 4,
 "nbformat_minor": 2
}
