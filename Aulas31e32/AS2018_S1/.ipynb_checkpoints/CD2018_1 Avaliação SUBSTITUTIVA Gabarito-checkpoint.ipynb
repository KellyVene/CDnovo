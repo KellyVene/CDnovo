{
 "cells": [
  {
   "cell_type": "markdown",
   "metadata": {},
   "source": [
    "# Avaliação SUBSTITUTIVA de Ciência dos dados"
   ]
  },
  {
   "cell_type": "markdown",
   "metadata": {},
   "source": [
    "___\n",
    "# Nome: GABARITO"
   ]
  },
  {
   "cell_type": "markdown",
   "metadata": {},
   "source": [
    "___\n",
    "### Leia atentamente as instruções da AS descritas na parte em papel e que devem ser seguidas rigorosamente aqui!"
   ]
  },
  {
   "cell_type": "markdown",
   "metadata": {},
   "source": [
    "___\n"
   ]
  },
  {
   "cell_type": "code",
   "execution_count": 1,
   "metadata": {},
   "outputs": [],
   "source": [
    "%matplotlib inline\n",
    "\n",
    "import pandas as pd\n",
    "import numpy as np\n",
    "import matplotlib.pyplot as plt\n",
    "from scipy.stats import norm"
   ]
  },
  {
   "cell_type": "code",
   "execution_count": 2,
   "metadata": {},
   "outputs": [],
   "source": [
    "dados = pd.read_excel(\"houseAS.xlsx\")"
   ]
  },
  {
   "cell_type": "code",
   "execution_count": 3,
   "metadata": {},
   "outputs": [
    {
     "data": {
      "text/html": [
       "<div>\n",
       "<style scoped>\n",
       "    .dataframe tbody tr th:only-of-type {\n",
       "        vertical-align: middle;\n",
       "    }\n",
       "\n",
       "    .dataframe tbody tr th {\n",
       "        vertical-align: top;\n",
       "    }\n",
       "\n",
       "    .dataframe thead th {\n",
       "        text-align: right;\n",
       "    }\n",
       "</style>\n",
       "<table border=\"1\" class=\"dataframe\">\n",
       "  <thead>\n",
       "    <tr style=\"text-align: right;\">\n",
       "      <th></th>\n",
       "      <th>SalePrice</th>\n",
       "      <th>Foundation</th>\n",
       "      <th>OverallQual</th>\n",
       "      <th>LotArea</th>\n",
       "      <th>X1stFlrSF</th>\n",
       "      <th>X2ndFlrSF</th>\n",
       "      <th>GarageCars</th>\n",
       "      <th>Fireplaces</th>\n",
       "      <th>Street</th>\n",
       "      <th>LandSlope</th>\n",
       "      <th>RoofStyle</th>\n",
       "      <th>CentralAir</th>\n",
       "      <th>YearBuilt</th>\n",
       "      <th>YrSold</th>\n",
       "    </tr>\n",
       "  </thead>\n",
       "  <tbody>\n",
       "    <tr>\n",
       "      <th>0</th>\n",
       "      <td>208500</td>\n",
       "      <td>PConc</td>\n",
       "      <td>Good</td>\n",
       "      <td>8450</td>\n",
       "      <td>856</td>\n",
       "      <td>854</td>\n",
       "      <td>2</td>\n",
       "      <td>0</td>\n",
       "      <td>Pave</td>\n",
       "      <td>Gtl</td>\n",
       "      <td>Gable</td>\n",
       "      <td>Y</td>\n",
       "      <td>2003</td>\n",
       "      <td>2008</td>\n",
       "    </tr>\n",
       "    <tr>\n",
       "      <th>1</th>\n",
       "      <td>181500</td>\n",
       "      <td>CBlock</td>\n",
       "      <td>Above Average</td>\n",
       "      <td>9600</td>\n",
       "      <td>1262</td>\n",
       "      <td>0</td>\n",
       "      <td>2</td>\n",
       "      <td>1</td>\n",
       "      <td>Pave</td>\n",
       "      <td>Gtl</td>\n",
       "      <td>Gable</td>\n",
       "      <td>Y</td>\n",
       "      <td>1976</td>\n",
       "      <td>2007</td>\n",
       "    </tr>\n",
       "    <tr>\n",
       "      <th>2</th>\n",
       "      <td>223500</td>\n",
       "      <td>PConc</td>\n",
       "      <td>Good</td>\n",
       "      <td>11250</td>\n",
       "      <td>920</td>\n",
       "      <td>866</td>\n",
       "      <td>2</td>\n",
       "      <td>1</td>\n",
       "      <td>Pave</td>\n",
       "      <td>Gtl</td>\n",
       "      <td>Gable</td>\n",
       "      <td>Y</td>\n",
       "      <td>2001</td>\n",
       "      <td>2008</td>\n",
       "    </tr>\n",
       "    <tr>\n",
       "      <th>3</th>\n",
       "      <td>140000</td>\n",
       "      <td>BrkTil</td>\n",
       "      <td>Good</td>\n",
       "      <td>9550</td>\n",
       "      <td>961</td>\n",
       "      <td>756</td>\n",
       "      <td>3</td>\n",
       "      <td>1</td>\n",
       "      <td>Pave</td>\n",
       "      <td>Gtl</td>\n",
       "      <td>Gable</td>\n",
       "      <td>Y</td>\n",
       "      <td>1915</td>\n",
       "      <td>2006</td>\n",
       "    </tr>\n",
       "    <tr>\n",
       "      <th>4</th>\n",
       "      <td>250000</td>\n",
       "      <td>PConc</td>\n",
       "      <td>Very Good</td>\n",
       "      <td>14260</td>\n",
       "      <td>1145</td>\n",
       "      <td>1053</td>\n",
       "      <td>3</td>\n",
       "      <td>1</td>\n",
       "      <td>Pave</td>\n",
       "      <td>Gtl</td>\n",
       "      <td>Gable</td>\n",
       "      <td>Y</td>\n",
       "      <td>2000</td>\n",
       "      <td>2008</td>\n",
       "    </tr>\n",
       "  </tbody>\n",
       "</table>\n",
       "</div>"
      ],
      "text/plain": [
       "   SalePrice Foundation    OverallQual  LotArea  X1stFlrSF  X2ndFlrSF  \\\n",
       "0     208500      PConc           Good     8450        856        854   \n",
       "1     181500     CBlock  Above Average     9600       1262          0   \n",
       "2     223500      PConc           Good    11250        920        866   \n",
       "3     140000     BrkTil           Good     9550        961        756   \n",
       "4     250000      PConc      Very Good    14260       1145       1053   \n",
       "\n",
       "   GarageCars  Fireplaces Street LandSlope RoofStyle CentralAir  YearBuilt  \\\n",
       "0           2           0   Pave       Gtl     Gable          Y       2003   \n",
       "1           2           1   Pave       Gtl     Gable          Y       1976   \n",
       "2           2           1   Pave       Gtl     Gable          Y       2001   \n",
       "3           3           1   Pave       Gtl     Gable          Y       1915   \n",
       "4           3           1   Pave       Gtl     Gable          Y       2000   \n",
       "\n",
       "   YrSold  \n",
       "0    2008  \n",
       "1    2007  \n",
       "2    2008  \n",
       "3    2006  \n",
       "4    2008  "
      ]
     },
     "execution_count": 3,
     "metadata": {},
     "output_type": "execute_result"
    }
   ],
   "source": [
    "dados.head()"
   ]
  },
  {
   "cell_type": "code",
   "execution_count": 4,
   "metadata": {},
   "outputs": [
    {
     "data": {
      "text/plain": [
       "Index(['SalePrice', 'Foundation', 'OverallQual', 'LotArea', 'X1stFlrSF',\n",
       "       'X2ndFlrSF', 'GarageCars', 'Fireplaces', 'Street', 'LandSlope',\n",
       "       'RoofStyle', 'CentralAir', 'YearBuilt', 'YrSold'],\n",
       "      dtype='object')"
      ]
     },
     "execution_count": 4,
     "metadata": {},
     "output_type": "execute_result"
    }
   ],
   "source": [
    "dados.columns"
   ]
  },
  {
   "cell_type": "code",
   "execution_count": 5,
   "metadata": {},
   "outputs": [],
   "source": [
    "dados.Foundation = dados.Foundation.astype('category')\n",
    "dados.OverallQual = dados.OverallQual.astype('category')\n",
    "dados.Street = dados.Street.astype('category')\n",
    "dados.LandSlope = dados.LandSlope.astype('category')\n",
    "dados.RoofStyle = dados.RoofStyle.astype('category')\n",
    "dados.CentralAir = dados.CentralAir.astype('category')\n",
    "\n",
    "dados.Foundation.cat.categories = (['BrkTil','CBlock','PConc','Slab','Stone','Wood'])\n",
    "dados.OverallQual.cat.categories = (['Very Poor','Poor','Fair','Below Average','Average',\n",
    "                                     'Above Average','Good','Very Good','Excellent','Very Excellent'])\n",
    "\n",
    "dados.Street.cat.categories = (['Grvl','Pave'])\n",
    "dados.LandSlope.cat.categories = (['Gtl','Mod','Sev'])\n",
    "dados.RoofStyle.cat.categories = (['Flat','Gable','Gambrel','Hip','Mansard','Shed'])\n",
    "dados.CentralAir.cat.categories = (['N','Y'])"
   ]
  },
  {
   "cell_type": "markdown",
   "metadata": {},
   "source": [
    "___\n",
    "## Q1)\n",
    "\n",
    "#### Assuma que o objetivo para trabalhar com a base de dados acima seja: “Analisar como uma determinada variável pode influenciar a variação do preço de vendas de um imóvel”.\n",
    "\n",
    "(1,50 ponto) Utilizando alguma ferramenta estatística (**gráfica**) que seja adequada, analise como a quantidade de carros na garagem (variável `GarageCars`) pode influencia a variação do preço de vendas de um imóvel (variável `SalePrice`). A interpretação precisa ser completa PORÉM sucinta.\n"
   ]
  },
  {
   "cell_type": "code",
   "execution_count": 6,
   "metadata": {},
   "outputs": [
    {
     "data": {
      "image/png": "[encoded data removed]",
      "text/plain": [
       "<Figure size 432x288 with 1 Axes>"
      ]
     },
     "metadata": {
      "needs_background": "light"
     },
     "output_type": "display_data"
    }
   ],
   "source": [
    "#Outra maneira:\n",
    "dados.boxplot(column=\"SalePrice\",by=\"GarageCars\")\n",
    "plt.show()"
   ]
  },
  {
   "cell_type": "code",
   "execution_count": 7,
   "metadata": {},
   "outputs": [
    {
     "name": "stdout",
     "output_type": "stream",
     "text": [
      "Ajuste linear entre GarageCars e SalePrice:\n",
      "Coeficiente linear: 60618.98087152485\n",
      "Coeficiente angular: 68077.9976463464\n"
     ]
    },
    {
     "data": {
      "image/png": "[encoded data removed]",
      "text/plain": [
       "<Figure size 648x360 with 1 Axes>"
      ]
     },
     "metadata": {
      "needs_background": "light"
     },
     "output_type": "display_data"
    }
   ],
   "source": [
    "# Regressão entre X1st e SalePrice\n",
    "a = dados.GarageCars.cov(dados.SalePrice) / dados.GarageCars.var()\n",
    "b = dados.SalePrice.mean() - a*dados.GarageCars.mean()\n",
    "\n",
    "print('Ajuste linear entre GarageCars e SalePrice:')\n",
    "print('Coeficiente linear:', b)\n",
    "print('Coeficiente angular:', a)\n",
    "\n",
    "fig = plt.figure(figsize=(9, 5))\n",
    "\n",
    "plt.scatter(dados.GarageCars, dados.SalePrice, c='cyan', alpha=0.8)\n",
    "plt.title('SalePrice explicado por GarageCars')\n",
    "plt.xlabel('em unidades')\n",
    "plt.ylabel('em dolares')\n",
    "\n",
    "plt.plot((dados.GarageCars.min(), dados.GarageCars.max()), (a*dados.GarageCars.min()+b, a*dados.GarageCars.max()+b), color='blue')\n",
    "\n",
    "plt.tight_layout()\n",
    "plt.show()"
   ]
  },
  {
   "cell_type": "markdown",
   "metadata": {},
   "source": [
    "___\n",
    "## Q2)  BOOTSTRAP \n",
    "\n",
    "#### Assuma que haja a seguinte conjectura: “Preço MEDIANO de venda da propriedade (em dólares) é de `160000`”.\n",
    "\n",
    "Utilizando intervalo de confiança Bootstrap, analise se há evidências de que a afirmação seja verdadeira, considerando coeficiente de confiança de 95%.\n",
    "\n",
    "Se baseie nos arquivos da `Aula22`.\n",
    "\n",
    "**Algoritmo** (3,50 pontos)\n",
    " \n",
    "   1. Repetir 10.000 vezes:\n",
    "           1.1. Realizar um sorteio com reposição da amostra mestre. Usar a função random.choice() do numpy.\n",
    "           1.2. Calcular a medida de interesse da reamostragem e guardar em uma lista.\n",
    "   2. Plotar o histograma dessa lista de medidas de calculadas anteriormente.\n",
    "   3. A partir da lista, encontrar os percentis de ordem $\\alpha/2$ e $(1-\\alpha)/2$ para construir Intervalo de Confiança Boostrap, sendo $\\alpha=1-\\gamma$.\n",
    "   4. Se objetivo for tomada de decisão, avalie se o valor sob alguma hipótese faz parte ou não do intervalo de confiança construído e conclua!\n",
    "\n",
    "___\n",
    "    \n"
   ]
  },
  {
   "cell_type": "code",
   "execution_count": 8,
   "metadata": {},
   "outputs": [
    {
     "data": {
      "text/plain": [
       "count      1460.000000\n",
       "mean     180921.195890\n",
       "std       79442.502883\n",
       "min       34900.000000\n",
       "25%      129975.000000\n",
       "50%      163000.000000\n",
       "75%      214000.000000\n",
       "max      755000.000000\n",
       "Name: SalePrice, dtype: float64"
      ]
     },
     "execution_count": 8,
     "metadata": {},
     "output_type": "execute_result"
    }
   ],
   "source": [
    "dados.SalePrice.describe()"
   ]
  },
  {
   "cell_type": "code",
   "execution_count": 9,
   "metadata": {},
   "outputs": [],
   "source": [
    "n=len(dados.SalePrice)"
   ]
  },
  {
   "cell_type": "code",
   "execution_count": 10,
   "metadata": {},
   "outputs": [],
   "source": [
    "#Boostrap para Mediana\n",
    "teta_Boot = []\n",
    "\n",
    "B = 10000\n",
    "for i in range(B):\n",
    "    # Gera uma reamostra dos dados _com_ reposição\n",
    "    amostra = np.random.choice(dados.SalePrice, size=n, replace=True)\n",
    "    teta_Boot.append(np.median(amostra))\n"
   ]
  },
  {
   "cell_type": "code",
   "execution_count": 11,
   "metadata": {},
   "outputs": [
    {
     "name": "stderr",
     "output_type": "stream",
     "text": [
      "C:\\Users\\Kelly\\Anaconda3\\lib\\site-packages\\matplotlib\\axes\\_axes.py:6521: MatplotlibDeprecationWarning: \n",
      "The 'normed' kwarg was deprecated in Matplotlib 2.1 and will be removed in 3.1. Use 'density' instead.\n",
      "  alternative=\"'density'\", removal=\"3.1\")\n"
     ]
    },
    {
     "data": {
      "image/png": "[encoded data removed]",
      "text/plain": [
       "<Figure size 432x288 with 1 Axes>"
      ]
     },
     "metadata": {
      "needs_background": "light"
     },
     "output_type": "display_data"
    }
   ],
   "source": [
    "(pd.Series(teta_Boot)).plot.hist(normed=True, legend=False, color='green')\n",
    "plt.show()"
   ]
  },
  {
   "cell_type": "code",
   "execution_count": 12,
   "metadata": {},
   "outputs": [
    {
     "name": "stdout",
     "output_type": "stream",
     "text": [
      "Limite inferior: 158900.0\n",
      "Limite superior: 167700.0\n"
     ]
    }
   ],
   "source": [
    "#Intervalo de confiança Bootstrap Percentil (ou Quantil)\n",
    "gamma = 0.95\n",
    "\n",
    "Lim_inf = np.percentile(teta_Boot, ((1-gamma)/2)*100)\n",
    "Lim_sup = np.percentile(teta_Boot, ((1+gamma)/2)*100)\n",
    "print('Limite inferior:', Lim_inf)\n",
    "print('Limite superior:', Lim_sup)\n"
   ]
  },
  {
   "cell_type": "markdown",
   "metadata": {
    "collapsed": true
   },
   "source": [
    "#### Como `160000` faz parte do intervalo de confiança, então não há evidências para se dizer que o preço mediano é diferente desse valor, com 95% de confiança."
   ]
  },
  {
   "cell_type": "code",
   "execution_count": null,
   "metadata": {},
   "outputs": [],
   "source": []
  },
  {
   "cell_type": "code",
   "execution_count": null,
   "metadata": {},
   "outputs": [],
   "source": []
  },
  {
   "cell_type": "code",
   "execution_count": null,
   "metadata": {},
   "outputs": [],
   "source": []
  }
 ],
 "metadata": {
  "kernelspec": {
   "display_name": "Python 3",
   "language": "python",
   "name": "python3"
  },
  "language_info": {
   "codemirror_mode": {
    "name": "ipython",
    "version": 3
   },
   "file_extension": ".py",
   "mimetype": "text/x-python",
   "name": "python",
   "nbconvert_exporter": "python",
   "pygments_lexer": "ipython3",
   "version": "3.7.1"
  }
 },
 "nbformat": 4,
 "nbformat_minor": 2
}
