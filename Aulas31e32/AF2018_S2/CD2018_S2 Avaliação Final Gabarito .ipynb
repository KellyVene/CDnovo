{
 "cells": [
  {
   "cell_type": "markdown",
   "metadata": {},
   "source": [
    "# P2 - Avaliação final de Ciência dos Dados"
   ]
  },
  {
   "cell_type": "markdown",
   "metadata": {},
   "source": [
    "___"
   ]
  },
  {
   "cell_type": "markdown",
   "metadata": {},
   "source": [
    "# Nome: <font color=red>**G A B A R I T O**</font>"
   ]
  },
  {
   "cell_type": "markdown",
   "metadata": {},
   "source": [
    "___"
   ]
  },
  {
   "cell_type": "markdown",
   "metadata": {},
   "source": [
    "Avisos:\n",
    "\n",
    "* O dever de salvar a prova é do aluno. Salve sempre\n",
    "* Evite repetir nomes de variáveis entre as questões para evitar interferências não planejadas"
   ]
  },
  {
   "cell_type": "markdown",
   "metadata": {},
   "source": [
    "**Só serão consideradas entregues provas submetidas via Blackboard ao final e que entregaram a folha de rosto**\n"
   ]
  },
  {
   "cell_type": "markdown",
   "metadata": {},
   "source": [
    "___"
   ]
  },
  {
   "cell_type": "code",
   "execution_count": 1,
   "metadata": {},
   "outputs": [],
   "source": [
    "# Imports que podem ser úteis\n",
    "\n",
    "import pandas as pd;\n",
    "import seaborn as sns # evite fazer pairplot! Estoura a memória\n",
    "import statsmodels.api as sm\n",
    "import numpy as np\n",
    "import matplotlib.pyplot as plt\n",
    "from scipy.stats import expon, binom, t, norm, probplot, scoreatpercentile, percentileofscore\n",
    "%matplotlib inline"
   ]
  },
  {
   "cell_type": "markdown",
   "metadata": {},
   "source": [
    "___"
   ]
  },
  {
   "cell_type": "markdown",
   "metadata": {},
   "source": [
    "## Questão 1 - Teste de Hipóteses\n",
    "(3,0 pontos)"
   ]
  },
  {
   "cell_type": "markdown",
   "metadata": {},
   "source": [
    "<img src=\"coywolf.png\" alt=\"Fonte: https://www.youtube.com/watch?v=nNWCDpW6T4c\" width=\"200\">\n",
    "\n",
    "\n",
    "Você é o biólogo chefe de uma reserva ambiental que tem, entre outros animais, lobos cinzentos. \n",
    "\n",
    "De acordo com as regulações de seu país, os animais da fauna nativa original do país devem ser protegidos.\n",
    "\n",
    "Sabe-se que em regiões próximas à sua área os lobos têm cruzado com coiotes. O cruzamento entre lobo e  coiote gera um animal híbrido chamado  *coywolf*. Um *coywolf* se adapta melhor perto de populações humanas, mas não é da fauna original, portanto não tem proteção garantida por lei. \n",
    "\n",
    "\n",
    "Os lobos são maiores e mais pesados que os *coywolves*, sabe-se que antes da suspeita de hibridização a população de lobos de sua reserva era normalmente distribuída com peso médio de $37.5 kg$ e desvio padrão de $14.0$.\n",
    "\n",
    "Você pesou alguns animais escolhidos aleatoriamente e chegou aos seguintes valores."
   ]
  },
  {
   "cell_type": "code",
   "execution_count": 2,
   "metadata": {},
   "outputs": [],
   "source": [
    "animais = [16.0, 41.2, 41.7, 30.1, 13.3, 22.3, 32.5, 33.4, 25.6, 18.8, 31.0, 24.5]"
   ]
  },
  {
   "cell_type": "markdown",
   "metadata": {},
   "source": [
    "Olhando para essa lista de pesos, você suspeita que os animais estão leves demais em relação ao que se conhecia anteriormente. Será que houve hibridização? Deseja-se saber se a média de peso dos lobos da reserva diminuiu, ou seja: se há indicios de ter realmente ocorrido hibridização. Neste exercício você deverá montar e concluir o teste de hipóteses com um nível de significância de $2\\%$ seguindo as etapas:"
   ]
  },
  {
   "cell_type": "markdown",
   "metadata": {},
   "source": [
    "**a.** Escreva a hipótese nula e a hipótese alternativa (pode ser em português, sem notação matemática) **(0,75)**"
   ]
  },
  {
   "cell_type": "markdown",
   "metadata": {},
   "source": [
    "Símbolos úteis (se precisar e quiser usar) $H_0$ $H_1$ $\\mu$ $>$ $<$ $\\leq$ $\\geq$ $\\neq$"
   ]
  },
  {
   "cell_type": "markdown",
   "metadata": {},
   "source": [
    " "
   ]
  },
  {
   "cell_type": "markdown",
   "metadata": {},
   "source": [
    "**R. explicação aqui**: \n",
    "\n",
    "Hipótese nula: o peso médio não mudou $\\rightarrow H_0$ : $\\mu$ = 37,5 Kg. \n",
    "\n",
    "Hipótese alternativa: O peso médio diminuiu devido à uma hibridização entre lobos e coiotes $\\rightarrow H_1$: $\\mu$ $<$ 37,5\n"
   ]
  },
  {
   "cell_type": "markdown",
   "metadata": {},
   "source": [
    "**b.** Calcule os valores necessários e conclua o teste. Deixe claro em que se baseou sua conclusão e o que decidiu sobre as hipóteses **(1,5)**"
   ]
  },
  {
   "cell_type": "code",
   "execution_count": 3,
   "metadata": {},
   "outputs": [
    {
     "name": "stdout",
     "output_type": "stream",
     "text": [
      "Valor p: 0.006829460735350355\n",
      "O valor crítico é: 29.199872595191714\n",
      "O peso médio da amostra é: 27.533333333333335\n"
     ]
    }
   ],
   "source": [
    "#Se for fazer teste assumindo que desvio padrão manteve o mesmo, independente da ocorrência da hibridização\n",
    "\n",
    "n=len(animais)\n",
    "\n",
    "x_=37.5\n",
    "x_obs=np.mean(animais)\n",
    "\n",
    "desvio_padrao_=14/n**0.5\n",
    "\n",
    "prob=norm.cdf(x_obs, loc=x_, scale=desvio_padrao_)\n",
    "print(\"Valor p:\",prob)\n",
    "\n",
    "valor_critico=norm.ppf(0.02, loc=x_, scale=desvio_padrao_)\n",
    "print(\"O valor crítico é:\",valor_critico)\n",
    "print(\"O peso médio da amostra é:\",x_obs)"
   ]
  },
  {
   "cell_type": "markdown",
   "metadata": {},
   "source": [
    "\n",
    "**R.: conclusão aqui:** \n",
    "\n",
    "** Assumindo que \\sigma não alterou**\n",
    "\n",
    "Como o valor médio da amostra é de 27,53 Kg e é menor do que valor critico 29,20 (teste unicaudal a esquerda), então há evidências para rejeitar H0.\n",
    "Ou como valor p < $\\alpha=2%$ adotado nesta questão, então há evidências para rejeitar H0.\n",
    "\n",
    "Assim há evidências de hibridização a população de lobos de sua reserva assumindo nível de significância de 2%.\n"
   ]
  },
  {
   "cell_type": "code",
   "execution_count": 4,
   "metadata": {},
   "outputs": [
    {
     "name": "stdout",
     "output_type": "stream",
     "text": [
      "Valor p: 0.001521846597553928\n",
      "O valor crítico é: -2.3281398334595726\n",
      "O t_obs amostra é: -3.7806408396253133\n"
     ]
    }
   ],
   "source": [
    "#Se for fazer teste assumindo que desvio padrão pode ter alterado com ocorrência da hibridização\n",
    "\n",
    "n=len(animais)\n",
    "\n",
    "x_=37.5\n",
    "x_obs=np.mean(animais)\n",
    "s_obs=np.std(animais, ddof=1)\n",
    "\n",
    "t_obs=(x_obs-x_)/(s_obs/n**0.5)\n",
    "\n",
    "prob=t.cdf(t_obs, df=n-1)\n",
    "print(\"Valor p:\",prob)\n",
    "\n",
    "valor_critico=t.ppf(0.02, df=n-1)\n",
    "print(\"O valor crítico é:\",valor_critico)\n",
    "print(\"O t_obs amostra é:\",t_obs)"
   ]
  },
  {
   "cell_type": "markdown",
   "metadata": {},
   "source": [
    "\n",
    "**R.: conclusão aqui:** \n",
    "\n",
    "** Assumindo que \\sigma pode ter alterado com hibridização**\n",
    "\n",
    "Como o t_obs é de -3,78 e é menor do que valor critico -2,33 (teste unicaudal a esquerda), então há evidências para rejeitar H0.\n",
    "Ou como valor p < $\\alpha=2%$ adotado nesta questão, então há evidências para rejeitar H0.\n",
    "\n",
    "Assim há evidências de hibridização a população de lobos de sua reserva assumindo nível de significância de 2%.\n"
   ]
  },
  {
   "cell_type": "markdown",
   "metadata": {},
   "source": [
    "**c.** No caso particular da hibridização dos lobos da reserva, interprete o que significa cometer um erro do tipo 1. Também indique qual é a probabilidade de cometer um erro do tipo 1 neste problema **(0,75)**"
   ]
  },
  {
   "cell_type": "markdown",
   "metadata": {},
   "source": [
    "**R. explicação aqui**: \n",
    "\n",
    "Denifinição do erro tipo 1: concluir pela rejeição da hipótese nula quando esta é verdadeira\n",
    "\n",
    "Em termos do problema: concluir que houve hibridização entre lobos e coiotes, quando na verdade isso não ocorreu.\n",
    "\n",
    "A probabilidade de ocorrer um erro do tipo 1 foi fixado em 2%."
   ]
  },
  {
   "cell_type": "markdown",
   "metadata": {},
   "source": [
    "___"
   ]
  },
  {
   "cell_type": "markdown",
   "metadata": {},
   "source": [
    "## Questão 2 - Regressão\n",
    "(3,0 pontos)"
   ]
  },
  {
   "cell_type": "markdown",
   "metadata": {},
   "source": [
    "A base a seguir tem as notas dadas por usuários a filmes (coluna `Ratings`) relacionada com diversos dados de redes sociais, faturamento e exibição.\n"
   ]
  },
  {
   "cell_type": "code",
   "execution_count": 5,
   "metadata": {},
   "outputs": [
    {
     "data": {
      "text/html": [
       "<div>\n",
       "<style scoped>\n",
       "    .dataframe tbody tr th:only-of-type {\n",
       "        vertical-align: middle;\n",
       "    }\n",
       "\n",
       "    .dataframe tbody tr th {\n",
       "        vertical-align: top;\n",
       "    }\n",
       "\n",
       "    .dataframe thead th {\n",
       "        text-align: right;\n",
       "    }\n",
       "</style>\n",
       "<table border=\"1\" class=\"dataframe\">\n",
       "  <thead>\n",
       "    <tr style=\"text-align: right;\">\n",
       "      <th></th>\n",
       "      <th>Movie</th>\n",
       "      <th>Year</th>\n",
       "      <th>Ratings</th>\n",
       "      <th>Genre</th>\n",
       "      <th>Gross</th>\n",
       "      <th>Budget</th>\n",
       "      <th>Screens</th>\n",
       "      <th>Sequel</th>\n",
       "      <th>Sentiment</th>\n",
       "      <th>Views</th>\n",
       "      <th>Likes</th>\n",
       "      <th>Dislikes</th>\n",
       "      <th>Comments</th>\n",
       "      <th>Aggregate Followers</th>\n",
       "    </tr>\n",
       "  </thead>\n",
       "  <tbody>\n",
       "    <tr>\n",
       "      <th>0</th>\n",
       "      <td>13 Sins</td>\n",
       "      <td>2014</td>\n",
       "      <td>6.3</td>\n",
       "      <td>8</td>\n",
       "      <td>9130</td>\n",
       "      <td>4000000.0</td>\n",
       "      <td>45.0</td>\n",
       "      <td>1</td>\n",
       "      <td>0</td>\n",
       "      <td>3280543</td>\n",
       "      <td>4632</td>\n",
       "      <td>425</td>\n",
       "      <td>636</td>\n",
       "      <td>1120000.0</td>\n",
       "    </tr>\n",
       "    <tr>\n",
       "      <th>1</th>\n",
       "      <td>22 Jump Street</td>\n",
       "      <td>2014</td>\n",
       "      <td>7.1</td>\n",
       "      <td>1</td>\n",
       "      <td>192000000</td>\n",
       "      <td>50000000.0</td>\n",
       "      <td>3306.0</td>\n",
       "      <td>2</td>\n",
       "      <td>2</td>\n",
       "      <td>583289</td>\n",
       "      <td>3465</td>\n",
       "      <td>61</td>\n",
       "      <td>186</td>\n",
       "      <td>12350000.0</td>\n",
       "    </tr>\n",
       "  </tbody>\n",
       "</table>\n",
       "</div>"
      ],
      "text/plain": [
       "            Movie  Year  Ratings  Genre      Gross      Budget  Screens  \\\n",
       "0         13 Sins  2014      6.3      8       9130   4000000.0     45.0   \n",
       "1  22 Jump Street  2014      7.1      1  192000000  50000000.0   3306.0   \n",
       "\n",
       "   Sequel  Sentiment    Views  Likes  Dislikes  Comments  Aggregate Followers  \n",
       "0       1          0  3280543   4632       425       636            1120000.0  \n",
       "1       2          2   583289   3465        61       186           12350000.0  "
      ]
     },
     "execution_count": 5,
     "metadata": {},
     "output_type": "execute_result"
    }
   ],
   "source": [
    "movies = pd.read_excel(\"movies.xlsx\")\n",
    "movies.head(2)"
   ]
  },
  {
   "cell_type": "markdown",
   "metadata": {},
   "source": [
    "Pede-se:"
   ]
  },
  {
   "cell_type": "markdown",
   "metadata": {},
   "source": [
    "**a.** Faça uma regressão linear que tenta prever `Ratings` em função de `Gross` e `Likes`  que são, respectivamente faturamento e curtidas em mídias sociais **(0,5)**"
   ]
  },
  {
   "cell_type": "code",
   "execution_count": 6,
   "metadata": {},
   "outputs": [
    {
     "data": {
      "text/html": [
       "<table class=\"simpletable\">\n",
       "<caption>OLS Regression Results</caption>\n",
       "<tr>\n",
       "  <th>Dep. Variable:</th>         <td>Ratings</td>     <th>  R-squared:         </th> <td>   0.118</td>\n",
       "</tr>\n",
       "<tr>\n",
       "  <th>Model:</th>                   <td>OLS</td>       <th>  Adj. R-squared:    </th> <td>   0.111</td>\n",
       "</tr>\n",
       "<tr>\n",
       "  <th>Method:</th>             <td>Least Squares</td>  <th>  F-statistic:       </th> <td>   15.31</td>\n",
       "</tr>\n",
       "<tr>\n",
       "  <th>Date:</th>             <td>Thu, 30 May 2019</td> <th>  Prob (F-statistic):</th> <td>5.75e-07</td>\n",
       "</tr>\n",
       "<tr>\n",
       "  <th>Time:</th>                 <td>11:28:48</td>     <th>  Log-Likelihood:    </th> <td> -310.11</td>\n",
       "</tr>\n",
       "<tr>\n",
       "  <th>No. Observations:</th>      <td>   231</td>      <th>  AIC:               </th> <td>   626.2</td>\n",
       "</tr>\n",
       "<tr>\n",
       "  <th>Df Residuals:</th>          <td>   228</td>      <th>  BIC:               </th> <td>   636.5</td>\n",
       "</tr>\n",
       "<tr>\n",
       "  <th>Df Model:</th>              <td>     2</td>      <th>                     </th>     <td> </td>   \n",
       "</tr>\n",
       "<tr>\n",
       "  <th>Covariance Type:</th>      <td>nonrobust</td>    <th>                     </th>     <td> </td>   \n",
       "</tr>\n",
       "</table>\n",
       "<table class=\"simpletable\">\n",
       "<tr>\n",
       "    <td></td>       <th>coef</th>     <th>std err</th>      <th>t</th>      <th>P>|t|</th>  <th>[0.025</th>    <th>0.975]</th>  \n",
       "</tr>\n",
       "<tr>\n",
       "  <th>const</th> <td>    6.1696</td> <td>    0.080</td> <td>   76.715</td> <td> 0.000</td> <td>    6.011</td> <td>    6.328</td>\n",
       "</tr>\n",
       "<tr>\n",
       "  <th>Gross</th> <td> 3.761e-09</td> <td> 6.96e-10</td> <td>    5.405</td> <td> 0.000</td> <td> 2.39e-09</td> <td> 5.13e-09</td>\n",
       "</tr>\n",
       "<tr>\n",
       "  <th>Likes</th> <td> 1.251e-06</td> <td> 2.15e-06</td> <td>    0.583</td> <td> 0.560</td> <td>-2.98e-06</td> <td> 5.48e-06</td>\n",
       "</tr>\n",
       "</table>\n",
       "<table class=\"simpletable\">\n",
       "<tr>\n",
       "  <th>Omnibus:</th>       <td> 6.669</td> <th>  Durbin-Watson:     </th> <td>   1.687</td>\n",
       "</tr>\n",
       "<tr>\n",
       "  <th>Prob(Omnibus):</th> <td> 0.036</td> <th>  Jarque-Bera (JB):  </th> <td>   6.410</td>\n",
       "</tr>\n",
       "<tr>\n",
       "  <th>Skew:</th>          <td>-0.393</td> <th>  Prob(JB):          </th> <td>  0.0406</td>\n",
       "</tr>\n",
       "<tr>\n",
       "  <th>Kurtosis:</th>      <td> 3.219</td> <th>  Cond. No.          </th> <td>1.47e+08</td>\n",
       "</tr>\n",
       "</table><br/><br/>Warnings:<br/>[1] Standard Errors assume that the covariance matrix of the errors is correctly specified.<br/>[2] The condition number is large, 1.47e+08. This might indicate that there are<br/>strong multicollinearity or other numerical problems."
      ],
      "text/plain": [
       "<class 'statsmodels.iolib.summary.Summary'>\n",
       "\"\"\"\n",
       "                            OLS Regression Results                            \n",
       "==============================================================================\n",
       "Dep. Variable:                Ratings   R-squared:                       0.118\n",
       "Model:                            OLS   Adj. R-squared:                  0.111\n",
       "Method:                 Least Squares   F-statistic:                     15.31\n",
       "Date:                Thu, 30 May 2019   Prob (F-statistic):           5.75e-07\n",
       "Time:                        11:28:48   Log-Likelihood:                -310.11\n",
       "No. Observations:                 231   AIC:                             626.2\n",
       "Df Residuals:                     228   BIC:                             636.5\n",
       "Df Model:                           2                                         \n",
       "Covariance Type:            nonrobust                                         \n",
       "==============================================================================\n",
       "                 coef    std err          t      P>|t|      [0.025      0.975]\n",
       "------------------------------------------------------------------------------\n",
       "const          6.1696      0.080     76.715      0.000       6.011       6.328\n",
       "Gross       3.761e-09   6.96e-10      5.405      0.000    2.39e-09    5.13e-09\n",
       "Likes       1.251e-06   2.15e-06      0.583      0.560   -2.98e-06    5.48e-06\n",
       "==============================================================================\n",
       "Omnibus:                        6.669   Durbin-Watson:                   1.687\n",
       "Prob(Omnibus):                  0.036   Jarque-Bera (JB):                6.410\n",
       "Skew:                          -0.393   Prob(JB):                       0.0406\n",
       "Kurtosis:                       3.219   Cond. No.                     1.47e+08\n",
       "==============================================================================\n",
       "\n",
       "Warnings:\n",
       "[1] Standard Errors assume that the covariance matrix of the errors is correctly specified.\n",
       "[2] The condition number is large, 1.47e+08. This might indicate that there are\n",
       "strong multicollinearity or other numerical problems.\n",
       "\"\"\""
      ]
     },
     "execution_count": 6,
     "metadata": {},
     "output_type": "execute_result"
    }
   ],
   "source": [
    "# Vamos usar a função fornecida na aula de regressãi\n",
    "\n",
    "def regress(X,Y):\n",
    "    X_cp = sm.add_constant(X)\n",
    "    model = sm.OLS(Y,X_cp)\n",
    "    results = model.fit()\n",
    "    return results\n",
    "\n",
    "variaveis_item_a = ['Gross', \n",
    "       'Likes']\n",
    "\n",
    "x_2a = movies.loc[:, variaveis_item_a]\n",
    "y_2a = movies.Ratings\n",
    "\n",
    "reg_2a = regress(x_2a, y_2a)\n",
    "reg_2a.summary()\n",
    "\n"
   ]
  },
  {
   "cell_type": "markdown",
   "metadata": {},
   "source": [
    "**b.** Mantenha apenas a variável explicativa que for mais significante dentre `Gross` e `Likes`. Explique como descobriu quem é a mais significante e refaça a regressão prevendo `Ratings` em função da variável que sobrou. **(1,0)**"
   ]
  },
  {
   "cell_type": "markdown",
   "metadata": {},
   "source": [
    "**R.:** Os valores-p (indicados por **P>|t|**) testam a hipótese nula daquele coeficiente $\\beta_i = 0$ . Para o caso do $\\beta_i$ ser **Likes**, não rejeitamos a hipótese nula. Portanto **Likes** é o  coeficiente  menos significante.\n",
    "\n",
    "Vamos refazer somente com **Ratings** em função de **Gross**\n"
   ]
  },
  {
   "cell_type": "code",
   "execution_count": 7,
   "metadata": {},
   "outputs": [
    {
     "data": {
      "text/html": [
       "<table class=\"simpletable\">\n",
       "<caption>OLS Regression Results</caption>\n",
       "<tr>\n",
       "  <th>Dep. Variable:</th>         <td>Ratings</td>     <th>  R-squared:         </th> <td>   0.117</td>\n",
       "</tr>\n",
       "<tr>\n",
       "  <th>Model:</th>                   <td>OLS</td>       <th>  Adj. R-squared:    </th> <td>   0.113</td>\n",
       "</tr>\n",
       "<tr>\n",
       "  <th>Method:</th>             <td>Least Squares</td>  <th>  F-statistic:       </th> <td>   30.37</td>\n",
       "</tr>\n",
       "<tr>\n",
       "  <th>Date:</th>             <td>Thu, 30 May 2019</td> <th>  Prob (F-statistic):</th> <td>9.57e-08</td>\n",
       "</tr>\n",
       "<tr>\n",
       "  <th>Time:</th>                 <td>11:28:48</td>     <th>  Log-Likelihood:    </th> <td> -310.28</td>\n",
       "</tr>\n",
       "<tr>\n",
       "  <th>No. Observations:</th>      <td>   231</td>      <th>  AIC:               </th> <td>   624.6</td>\n",
       "</tr>\n",
       "<tr>\n",
       "  <th>Df Residuals:</th>          <td>   229</td>      <th>  BIC:               </th> <td>   631.4</td>\n",
       "</tr>\n",
       "<tr>\n",
       "  <th>Df Model:</th>              <td>     1</td>      <th>                     </th>     <td> </td>   \n",
       "</tr>\n",
       "<tr>\n",
       "  <th>Covariance Type:</th>      <td>nonrobust</td>    <th>                     </th>     <td> </td>   \n",
       "</tr>\n",
       "</table>\n",
       "<table class=\"simpletable\">\n",
       "<tr>\n",
       "    <td></td>       <th>coef</th>     <th>std err</th>      <th>t</th>      <th>P>|t|</th>  <th>[0.025</th>    <th>0.975]</th>  \n",
       "</tr>\n",
       "<tr>\n",
       "  <th>const</th> <td>    6.1825</td> <td>    0.077</td> <td>   80.067</td> <td> 0.000</td> <td>    6.030</td> <td>    6.335</td>\n",
       "</tr>\n",
       "<tr>\n",
       "  <th>Gross</th> <td> 3.806e-09</td> <td> 6.91e-10</td> <td>    5.511</td> <td> 0.000</td> <td> 2.45e-09</td> <td> 5.17e-09</td>\n",
       "</tr>\n",
       "</table>\n",
       "<table class=\"simpletable\">\n",
       "<tr>\n",
       "  <th>Omnibus:</th>       <td> 6.280</td> <th>  Durbin-Watson:     </th> <td>   1.690</td>\n",
       "</tr>\n",
       "<tr>\n",
       "  <th>Prob(Omnibus):</th> <td> 0.043</td> <th>  Jarque-Bera (JB):  </th> <td>   6.009</td>\n",
       "</tr>\n",
       "<tr>\n",
       "  <th>Skew:</th>          <td>-0.382</td> <th>  Prob(JB):          </th> <td>  0.0496</td>\n",
       "</tr>\n",
       "<tr>\n",
       "  <th>Kurtosis:</th>      <td> 3.202</td> <th>  Cond. No.          </th> <td>1.41e+08</td>\n",
       "</tr>\n",
       "</table><br/><br/>Warnings:<br/>[1] Standard Errors assume that the covariance matrix of the errors is correctly specified.<br/>[2] The condition number is large, 1.41e+08. This might indicate that there are<br/>strong multicollinearity or other numerical problems."
      ],
      "text/plain": [
       "<class 'statsmodels.iolib.summary.Summary'>\n",
       "\"\"\"\n",
       "                            OLS Regression Results                            \n",
       "==============================================================================\n",
       "Dep. Variable:                Ratings   R-squared:                       0.117\n",
       "Model:                            OLS   Adj. R-squared:                  0.113\n",
       "Method:                 Least Squares   F-statistic:                     30.37\n",
       "Date:                Thu, 30 May 2019   Prob (F-statistic):           9.57e-08\n",
       "Time:                        11:28:48   Log-Likelihood:                -310.28\n",
       "No. Observations:                 231   AIC:                             624.6\n",
       "Df Residuals:                     229   BIC:                             631.4\n",
       "Df Model:                           1                                         \n",
       "Covariance Type:            nonrobust                                         \n",
       "==============================================================================\n",
       "                 coef    std err          t      P>|t|      [0.025      0.975]\n",
       "------------------------------------------------------------------------------\n",
       "const          6.1825      0.077     80.067      0.000       6.030       6.335\n",
       "Gross       3.806e-09   6.91e-10      5.511      0.000    2.45e-09    5.17e-09\n",
       "==============================================================================\n",
       "Omnibus:                        6.280   Durbin-Watson:                   1.690\n",
       "Prob(Omnibus):                  0.043   Jarque-Bera (JB):                6.009\n",
       "Skew:                          -0.382   Prob(JB):                       0.0496\n",
       "Kurtosis:                       3.202   Cond. No.                     1.41e+08\n",
       "==============================================================================\n",
       "\n",
       "Warnings:\n",
       "[1] Standard Errors assume that the covariance matrix of the errors is correctly specified.\n",
       "[2] The condition number is large, 1.41e+08. This might indicate that there are\n",
       "strong multicollinearity or other numerical problems.\n",
       "\"\"\""
      ]
     },
     "execution_count": 7,
     "metadata": {},
     "output_type": "execute_result"
    }
   ],
   "source": [
    "variaveis_item_b = ['Gross']\n",
    "\n",
    "x_2b = movies.loc[:, variaveis_item_b]\n",
    "y_2b = movies.Ratings\n",
    "\n",
    "reg_2b = regress(x_2b, y_2a)\n",
    "reg_2b.summary()"
   ]
  },
  {
   "cell_type": "markdown",
   "metadata": {},
   "source": [
    "**c.** Escreva a equação encontrada no item **b** **(0,5)**"
   ]
  },
  {
   "cell_type": "markdown",
   "metadata": {},
   "source": [
    "**R.:** Podemos escrever a equação da seguinte forma:\n",
    "\n",
    "$\\hat{Ratings} = 6.1825 + 3.806.10^9 Gross$"
   ]
  },
  {
   "cell_type": "markdown",
   "metadata": {},
   "source": [
    "**d.** Faça o plot da regressão que encontrou no item **b** sobre o gráfico de dispersão.  Discorra sobre a qualidade do regressão levando em conta a variação que foi explicada e o que a inspeção visual da dispersão permite dizer sobre a distribuição dos resíduos **(1,0)**"
   ]
  },
  {
   "cell_type": "code",
   "execution_count": 8,
   "metadata": {},
   "outputs": [
    {
     "data": {
      "text/plain": [
       "[<matplotlib.lines.Line2D at 0x183f7665c88>]"
      ]
     },
     "execution_count": 8,
     "metadata": {},
     "output_type": "execute_result"
    },
    {
     "data": {
      "image/png": "[encoded data removed]",
      "text/plain": [
       "<Figure size 432x288 with 1 Axes>"
      ]
     },
     "metadata": {
      "needs_background": "light"
     },
     "output_type": "display_data"
    }
   ],
   "source": [
    "# Função útil para aplicar a equação\n",
    "def eq_b(Gross):\n",
    "    return 6.1825 + 3.806e-09*Gross\n",
    "\n",
    "# Vamos fazer uma pequena exploratória para saber a faixa de valores\n",
    "\n",
    "x_min = movies.Gross.min()\n",
    "x_max = movies.Gross.max()\n",
    "\n",
    "x_2d = np.linspace(x_min, x_max, 300)\n",
    "y_2d = eq_b(x_2d)\n",
    "\n",
    "plt.scatter(movies.Gross, movies.Ratings)\n",
    "plt.plot(x_2d, y_2d, color=\"r\")"
   ]
  },
  {
   "cell_type": "markdown",
   "metadata": {},
   "source": [
    "**R.:** Os resíduos não parecem ser distribuídos de acordo com uma normal de mesma variância ao longo da reta de regressão"
   ]
  },
  {
   "cell_type": "code",
   "execution_count": null,
   "metadata": {},
   "outputs": [],
   "source": []
  },
  {
   "cell_type": "markdown",
   "metadata": {},
   "source": [
    "___"
   ]
  },
  {
   "cell_type": "markdown",
   "metadata": {},
   "source": [
    "## Questão 3  - Bootstrap\n",
    "(2,5 pontos)"
   ]
  },
  {
   "cell_type": "markdown",
   "metadata": {},
   "source": [
    "\n",
    "O edital de um processo seletivo informa o seguinte:\n",
    "\n",
    "> Nota de corte:\n",
    ">\n",
    "> A nota de corte será dada pela média do desempenho dos candidatos somado a um desvio padrão. \n",
    "\n",
    "Um candidato deseja conhecer a possível nota de corte do exame a partir de uma amostra de notas do ano anterior:"
   ]
  },
  {
   "cell_type": "code",
   "execution_count": 9,
   "metadata": {},
   "outputs": [
    {
     "name": "stdout",
     "output_type": "stream",
     "text": [
      "100\n"
     ]
    }
   ],
   "source": [
    "amostra = [\n",
    "    55.45, 58.89, 22.1 , 26.74, 19.95, 80.3 , 12.94, 37.  , 41.26,\n",
    "    12.94, 29.59, 67.83, 40.73, 26.24,  9.85, 27.98, 86.64, 74.32,\n",
    "    33.06, 73.84, 82.11, 91.64, 65.67, 70.35, 36.56, 21.76, 78.93,\n",
    "    64.94,  8.06, 22.  , 25.7 , 21.63, 18.42, 81.27, 22.88, 15.57,\n",
    "    22.34, 72.21, 72.84, 20.44, 32.98, 23.82, 32.79, 85.75, 67.86,\n",
    "    64.74, 22.46,  9.38, 31.47, 26.12, 81.28, 94.36, 17.35, 37.58,\n",
    "    81.39, 14.86, 70.15, 80.94, 79.5 , 28.27, 20.95, 61.29,  7.9 ,\n",
    "    87.91, 18.95,  9.05, 29.85,  5.23, 40.63, 45.06, 79.99, 98.71,\n",
    "    14.79, 75.91, 33.44, 30.38, 37.33,  6.98, 19.63, 50.16, 72.37,\n",
    "    71.36,  9.37, 79.11, 19.54, 41.61, 59.1 , 94.97, 47.72, 72.16,\n",
    "    10.3 , 58.09, 66.99, 15.42, 29.8 , 66.42, 91.09,  8.49, 65.64,\n",
    "    80.85\n",
    "]\n",
    "print(len(amostra))"
   ]
  },
  {
   "cell_type": "markdown",
   "metadata": {},
   "source": [
    "**a.** Verifique se esta amostra segue uma distribuição normal. Um intervalo de confiança *t* seria adequado neste caso? **(0,5)**"
   ]
  },
  {
   "cell_type": "code",
   "execution_count": 10,
   "metadata": {},
   "outputs": [
    {
     "data": {
      "image/png": "[encoded data removed]",
      "text/plain": [
       "<Figure size 432x288 with 1 Axes>"
      ]
     },
     "metadata": {
      "needs_background": "light"
     },
     "output_type": "display_data"
    }
   ],
   "source": [
    "# Código para verificar se amostra segue uma normal\n",
    "probplot(amostra, dist=\"norm\", plot=plt);"
   ]
  },
  {
   "cell_type": "markdown",
   "metadata": {},
   "source": [
    "**R:** Pelo probplot acima é possível ver que não há aderência à uma distribuição normal (cerca de 20% de nas caudas e 10% no centro). Para mitigar as desconfianças, dado que há 100 dados na amostra, vamos observar o histograma da amostra:"
   ]
  },
  {
   "cell_type": "code",
   "execution_count": 11,
   "metadata": {},
   "outputs": [
    {
     "data": {
      "image/png": "[encoded data removed]",
      "text/plain": [
       "<Figure size 432x288 with 1 Axes>"
      ]
     },
     "metadata": {
      "needs_background": "light"
     },
     "output_type": "display_data"
    }
   ],
   "source": [
    "pd.Series(amostra).plot.hist(density=True);"
   ]
  },
  {
   "cell_type": "markdown",
   "metadata": {},
   "source": [
    "Novamente, a amostra está longe de ser uma normal e portanto um intervalo t NÃO seria adequado."
   ]
  },
  {
   "cell_type": "markdown",
   "metadata": {},
   "source": [
    "**b.** Faça uma função ``nota_de_corte(amostra)`` que recebe uma única amostra e calcula a nota de corte para esta amostra. Use esta função para calcular a nota de corte da amostra dada acima. **(0,5)**"
   ]
  },
  {
   "cell_type": "code",
   "execution_count": 12,
   "metadata": {},
   "outputs": [],
   "source": [
    "def nota_de_corte(amostra):\n",
    "    return np.mean(amostra) + np.std(amostra, ddof=1)"
   ]
  },
  {
   "cell_type": "code",
   "execution_count": 13,
   "metadata": {},
   "outputs": [
    {
     "data": {
      "text/plain": [
       "73.35891504484945"
      ]
     },
     "execution_count": 13,
     "metadata": {},
     "output_type": "execute_result"
    }
   ],
   "source": [
    "nota_de_corte(amostra) # chama a função acima"
   ]
  },
  {
   "cell_type": "markdown",
   "metadata": {},
   "source": [
    "**c.** Usando a função `nota_de_corte(amostra)` que escreveu acima, calcule o intervalo bootstrap das notas de corte com $\\gamma = 0,95$. **(1,5)**"
   ]
  },
  {
   "cell_type": "code",
   "execution_count": 14,
   "metadata": {},
   "outputs": [
    {
     "data": {
      "image/png": "[encoded data removed]",
      "text/plain": [
       "<Figure size 432x288 with 1 Axes>"
      ]
     },
     "metadata": {
      "needs_background": "light"
     },
     "output_type": "display_data"
    }
   ],
   "source": [
    "B = 10000\n",
    "NC = []\n",
    "for i in range(B):\n",
    "    subamostra = np.random.choice(amostra, size=len(amostra), replace=True)\n",
    "    NC.append(nota_de_corte(subamostra))\n",
    "\n",
    "pd.Series(NC).plot.hist(density=True);"
   ]
  },
  {
   "cell_type": "code",
   "execution_count": 15,
   "metadata": {},
   "outputs": [
    {
     "name": "stdout",
     "output_type": "stream",
     "text": [
      "Intervalo de confiança: 66.4923712219838 - 79.27321173013699\n"
     ]
    }
   ],
   "source": [
    "#Percentis:\n",
    "gamma = 0.95\n",
    "perc = (1 - gamma) / 2\n",
    "print(\"Intervalo de confiança: {0} - {1}\".format(np.percentile(NC, perc*100), np.percentile(NC, (1-perc)*100)))"
   ]
  },
  {
   "cell_type": "markdown",
   "metadata": {},
   "source": [
    "___"
   ]
  },
  {
   "cell_type": "markdown",
   "metadata": {},
   "source": [
    "## Questão 4 - Conceitual de Machine Learning\n",
    "(1,5 pontos)"
   ]
  },
  {
   "cell_type": "markdown",
   "metadata": {},
   "source": [
    "Um estagiário recebeu a tarefa de montar um modelo preditivo de nível de glicose no sangue de pacientes com diabetes à partir de um conjunto de 10 atributos dos pacientes. \n",
    "\n",
    "O resto desta questão é uma representação do processo mental do estagiário.\n",
    "\n",
    "\n",
    "**Ao final da questão aponte os erros explicando o que está errado ou sugerindo alternativas.**"
   ]
  },
  {
   "cell_type": "code",
   "execution_count": 16,
   "metadata": {},
   "outputs": [],
   "source": [
    "from sklearn.datasets import load_diabetes\n",
    "X, y = load_diabetes(return_X_y=True)"
   ]
  },
  {
   "cell_type": "markdown",
   "metadata": {},
   "source": [
    "\"Ok, sempre me dizem que devo explorar os dados antes de montar o modelo, então vou checar o tamanho do dataset\""
   ]
  },
  {
   "cell_type": "code",
   "execution_count": 17,
   "metadata": {
    "scrolled": true
   },
   "outputs": [
    {
     "data": {
      "text/plain": [
       "(442, 10)"
      ]
     },
     "execution_count": 17,
     "metadata": {},
     "output_type": "execute_result"
    }
   ],
   "source": [
    "X.shape"
   ]
  },
  {
   "cell_type": "code",
   "execution_count": 18,
   "metadata": {},
   "outputs": [
    {
     "data": {
      "text/plain": [
       "(442,)"
      ]
     },
     "execution_count": 18,
     "metadata": {},
     "output_type": "execute_result"
    }
   ],
   "source": [
    "y.shape"
   ]
  },
  {
   "cell_type": "markdown",
   "metadata": {},
   "source": [
    "\"Perfeito, isso basta! Os tamanhos batem! Depois eu pergunto para o chefe o que são os atributos mesmo.\"\n",
    "\n",
    "\"Esse é um problema de clustering, onde cada cluster é um $\\hat{\\beta}_i$ diferente. Outro nome para isso é regressão. Meu modelo vai então ser uma regressão linear:\""
   ]
  },
  {
   "cell_type": "code",
   "execution_count": 19,
   "metadata": {},
   "outputs": [
    {
     "data": {
      "text/plain": [
       "LinearRegression(copy_X=True, fit_intercept=True, n_jobs=None,\n",
       "         normalize=False)"
      ]
     },
     "execution_count": 19,
     "metadata": {},
     "output_type": "execute_result"
    }
   ],
   "source": [
    "from sklearn.linear_model import LinearRegression\n",
    "model = LinearRegression()\n",
    "model.fit(X, y)"
   ]
  },
  {
   "cell_type": "markdown",
   "metadata": {},
   "source": [
    "\"Agora tenho que testar o modelo. Uma boa métrica para regressão é o valor de $R^2$\""
   ]
  },
  {
   "cell_type": "code",
   "execution_count": 20,
   "metadata": {},
   "outputs": [
    {
     "data": {
      "text/plain": [
       "0.5177494254132934"
      ]
     },
     "execution_count": 20,
     "metadata": {},
     "output_type": "execute_result"
    }
   ],
   "source": [
    "from sklearn.metrics import r2_score\n",
    "y_pred = model.predict(X)\n",
    "r2 = r2_score(y, y_pred)\n",
    "r2"
   ]
  },
  {
   "cell_type": "markdown",
   "metadata": {},
   "source": [
    "\"Legal, parece que o erro quadrático médio é $51\\%$. Agora vou impressionar meu chefe mostrando também os resultados de um outro método de clustering, a regressão logística!\""
   ]
  },
  {
   "cell_type": "code",
   "execution_count": 21,
   "metadata": {},
   "outputs": [
    {
     "name": "stderr",
     "output_type": "stream",
     "text": [
      "C:\\Users\\Kelly\\Anaconda3\\lib\\site-packages\\sklearn\\linear_model\\logistic.py:433: FutureWarning: Default solver will be changed to 'lbfgs' in 0.22. Specify a solver to silence this warning.\n",
      "  FutureWarning)\n",
      "C:\\Users\\Kelly\\Anaconda3\\lib\\site-packages\\sklearn\\linear_model\\logistic.py:460: FutureWarning: Default multi_class will be changed to 'auto' in 0.22. Specify the multi_class option to silence this warning.\n",
      "  \"this warning.\", FutureWarning)\n"
     ]
    },
    {
     "data": {
      "text/plain": [
       "LogisticRegression(C=1.0, class_weight=None, dual=False, fit_intercept=True,\n",
       "          intercept_scaling=1, max_iter=100, multi_class='warn',\n",
       "          n_jobs=None, penalty='l2', random_state=None, solver='warn',\n",
       "          tol=0.0001, verbose=0, warm_start=False)"
      ]
     },
     "execution_count": 21,
     "metadata": {},
     "output_type": "execute_result"
    }
   ],
   "source": [
    "from sklearn.linear_model import LogisticRegression\n",
    "\n",
    "model = LogisticRegression()\n",
    "model.fit(X, y)"
   ]
  },
  {
   "cell_type": "code",
   "execution_count": 22,
   "metadata": {},
   "outputs": [
    {
     "data": {
      "text/plain": [
       "0.18666097720661945"
      ]
     },
     "execution_count": 22,
     "metadata": {},
     "output_type": "execute_result"
    }
   ],
   "source": [
    "y_pred = model.predict(X)\n",
    "r2 = r2_score(y, y_pred)\n",
    "r2"
   ]
  },
  {
   "cell_type": "markdown",
   "metadata": {},
   "source": [
    "\"Que ótimo, o $R^2$ diminuiu, o que significa que o segundo modelo é ainda melhor! Mal posso esperar para mostrar como sou bom para o chefe!\" "
   ]
  },
  {
   "cell_type": "markdown",
   "metadata": {},
   "source": [
    "**Responda** abaixo mencionando **pelo menos 3 erros** do estagiário e como faria para corrigi-los. **(0,5)** cada erro válido."
   ]
  },
  {
   "cell_type": "markdown",
   "metadata": {},
   "source": [
    "**R.:**\n",
    "\n",
    "\n"
   ]
  },
  {
   "cell_type": "code",
   "execution_count": null,
   "metadata": {},
   "outputs": [],
   "source": []
  }
 ],
 "metadata": {
  "kernelspec": {
   "display_name": "Python 3",
   "language": "python",
   "name": "python3"
  },
  "language_info": {
   "codemirror_mode": {
    "name": "ipython",
    "version": 3
   },
   "file_extension": ".py",
   "mimetype": "text/x-python",
   "name": "python",
   "nbconvert_exporter": "python",
   "pygments_lexer": "ipython3",
   "version": "3.7.1"
  }
 },
 "nbformat": 4,
 "nbformat_minor": 2
}
