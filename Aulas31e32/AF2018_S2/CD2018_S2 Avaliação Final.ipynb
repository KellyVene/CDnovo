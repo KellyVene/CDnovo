{
 "cells": [
  {
   "cell_type": "markdown",
   "metadata": {},
   "source": [
    "# P2 - Avaliação final de Ciência dos Dados"
   ]
  },
  {
   "cell_type": "markdown",
   "metadata": {},
   "source": [
    "___"
   ]
  },
  {
   "cell_type": "markdown",
   "metadata": {},
   "source": [
    "# Nome:"
   ]
  },
  {
   "cell_type": "markdown",
   "metadata": {},
   "source": [
    "___"
   ]
  },
  {
   "cell_type": "markdown",
   "metadata": {},
   "source": [
    "Avisos:\n",
    "\n",
    "* O dever de salvar a prova é do aluno. Salve sempre\n",
    "* Evite repetir nomes de variáveis entre as questões para evitar interferências não planejadas"
   ]
  },
  {
   "cell_type": "markdown",
   "metadata": {},
   "source": [
    "**Só serão consideradas entregues provas submetidas via Blackboard ao final e que entregaram a folha de rosto**\n"
   ]
  },
  {
   "cell_type": "markdown",
   "metadata": {},
   "source": [
    "___"
   ]
  },
  {
   "cell_type": "code",
   "execution_count": null,
   "metadata": {},
   "outputs": [],
   "source": [
    "# Imports que podem ser úteis\n",
    "\n",
    "import pandas as pd;\n",
    "import seaborn as sns # evite fazer pairplot! Estoura a memória\n",
    "import statsmodels.api as sm\n",
    "import numpy as np\n",
    "import matplotlib.pyplot as plt\n",
    "from scipy.stats import expon, binom, t, norm, probplot, scoreatpercentile, percentileofscore\n",
    "%matplotlib inline"
   ]
  },
  {
   "cell_type": "markdown",
   "metadata": {},
   "source": [
    "___"
   ]
  },
  {
   "cell_type": "markdown",
   "metadata": {},
   "source": [
    "## Questão 1 - Teste de Hipóteses\n",
    "(3,0 pontos)"
   ]
  },
  {
   "cell_type": "markdown",
   "metadata": {},
   "source": [
    "<img src=\"coywolf.png\" alt=\"Fonte: https://www.youtube.com/watch?v=nNWCDpW6T4c\" width=\"200\">\n",
    "\n",
    "\n",
    "Você é o biólogo chefe de uma reserva ambiental que tem, entre outros animais, lobos cinzentos. \n",
    "\n",
    "De acordo com as regulações de seu país, os animais da fauna nativa original do país devem ser protegidos.\n",
    "\n",
    "Sabe-se que em regiões próximas à sua área os lobos têm cruzado com coiotes. O cruzamento entre lobo e  coiote gera um animal híbrido chamado  *coywolf*. Um *coywolf* se adapta melhor perto de populações humanas, mas não é da fauna original, portanto não tem proteção garantida por lei. \n",
    "\n",
    "\n",
    "Os lobos são maiores e mais pesados que os *coywolves*, sabe-se que antes da suspeita de hibridização a população de lobos de sua reserva era normalmente distribuída com peso médio de $37.5 kg$ e desvio padrão de $14.0$.\n",
    "\n",
    "Você pesou alguns animais escolhidos aleatoriamente e chegou aos seguintes valores."
   ]
  },
  {
   "cell_type": "code",
   "execution_count": null,
   "metadata": {},
   "outputs": [],
   "source": [
    "animais = [16.0, 41.2, 41.7, 30.1, 13.3, 22.3, 32.5, 33.4, 25.6, 18.8, 31.0, 24.5]"
   ]
  },
  {
   "cell_type": "markdown",
   "metadata": {},
   "source": [
    "Olhando para essa lista de pesos, você suspeita que os animais estão leves demais em relação ao que se conhecia anteriormente. Será que houve hibridização? Deseja-se saber se a média de peso dos lobos da reserva diminuiu, ou seja: se há indicios de ter realmente ocorrido hibridização. Neste exercício você deverá montar e concluir o teste de hipóteses com um nível de significância de $2\\%$ seguindo as etapas:"
   ]
  },
  {
   "cell_type": "markdown",
   "metadata": {},
   "source": [
    "**a.** Escreva a hipótese nula e a hipótese alternativa (pode ser em português, sem notação matemática) **(0,75)**"
   ]
  },
  {
   "cell_type": "markdown",
   "metadata": {},
   "source": [
    "Símbolos úteis (se precisar e quiser usar) $H_0$ $H_1$ $\\mu$ $>$ $<$ $\\leq$ $\\geq$ $\\neq$"
   ]
  },
  {
   "cell_type": "markdown",
   "metadata": {},
   "source": [
    " "
   ]
  },
  {
   "cell_type": "markdown",
   "metadata": {},
   "source": [
    "**R. explicação aqui**: \n",
    "\n",
    "Aqui..."
   ]
  },
  {
   "cell_type": "markdown",
   "metadata": {},
   "source": [
    "**b.** Calcule os valores necessários e conclua o teste. Deixe claro em que se baseou sua conclusão e o que decidiu sobre as hipóteses **(1,5)**"
   ]
  },
  {
   "cell_type": "code",
   "execution_count": null,
   "metadata": {},
   "outputs": [],
   "source": [
    "#Codigo aqui\n"
   ]
  },
  {
   "cell_type": "markdown",
   "metadata": {},
   "source": [
    "**R.: conclusão aqui:** \n",
    "\n",
    "Aqui..."
   ]
  },
  {
   "cell_type": "markdown",
   "metadata": {},
   "source": [
    "**c.** No caso particular da hibridização dos lobos da reserva, interprete o que significa cometer um erro do tipo 1. Também indique qual é a probabilidade de cometer um erro do tipo 1 neste problema **(0,75)**"
   ]
  },
  {
   "cell_type": "markdown",
   "metadata": {},
   "source": [
    "**R. explicação aqui**: \n",
    "\n",
    "Aqui..."
   ]
  },
  {
   "cell_type": "markdown",
   "metadata": {},
   "source": [
    "___"
   ]
  },
  {
   "cell_type": "markdown",
   "metadata": {},
   "source": [
    "## Questão 2 - Regressão\n",
    "(3,0 pontos)"
   ]
  },
  {
   "cell_type": "markdown",
   "metadata": {},
   "source": [
    "A base a seguir tem as notas dadas por usuários a filmes (coluna `Ratings`) relacionada com diversos dados de redes sociais, faturamento e exibição.\n"
   ]
  },
  {
   "cell_type": "code",
   "execution_count": null,
   "metadata": {},
   "outputs": [],
   "source": [
    "movies = pd.read_excel(\"movies.xlsx\")\n",
    "movies.head(2)"
   ]
  },
  {
   "cell_type": "markdown",
   "metadata": {},
   "source": [
    "Pede-se:"
   ]
  },
  {
   "cell_type": "markdown",
   "metadata": {},
   "source": [
    "**a.** Faça uma regressão linear que tenta prever `Ratings` em função de `Gross` e `Likes`  que são, respectivamente faturamento e curtidas em mídias sociais **(0,5)**"
   ]
  },
  {
   "cell_type": "code",
   "execution_count": null,
   "metadata": {},
   "outputs": [],
   "source": [
    "#Código aqui...\n",
    "\n"
   ]
  },
  {
   "cell_type": "markdown",
   "metadata": {},
   "source": [
    "**b.** Mantenha apenas a variável explicativa que for mais significante dentre `Gross` e `Likes`. Explique como descobriu quem é a mais significante e refaça a regressão prevendo `Ratings` em função da variável que sobrou. **(1,0)**"
   ]
  },
  {
   "cell_type": "markdown",
   "metadata": {},
   "source": [
    "**R.:** \n",
    "\n",
    "Aqui...\n"
   ]
  },
  {
   "cell_type": "code",
   "execution_count": null,
   "metadata": {},
   "outputs": [],
   "source": [
    "#Código aqui..."
   ]
  },
  {
   "cell_type": "markdown",
   "metadata": {},
   "source": [
    "**c.** Escreva a equação encontrada no item **b** **(0,5)**"
   ]
  },
  {
   "cell_type": "markdown",
   "metadata": {},
   "source": [
    "**R.:** \n",
    "\n",
    "Aqui..."
   ]
  },
  {
   "cell_type": "markdown",
   "metadata": {},
   "source": [
    "**d.** Faça o plot da regressão que encontrou no item **b** sobre o gráfico de dispersão.  Discorra sobre a qualidade do regressão levando em conta a variação que foi explicada e o que a inspeção visual da dispersão permite dizer sobre a distribuição dos resíduos **(1,0)**"
   ]
  },
  {
   "cell_type": "code",
   "execution_count": null,
   "metadata": {},
   "outputs": [],
   "source": [
    "#Código aqui..."
   ]
  },
  {
   "cell_type": "markdown",
   "metadata": {},
   "source": [
    "**R.:** \n",
    "\n",
    "Aqui..."
   ]
  },
  {
   "cell_type": "code",
   "execution_count": null,
   "metadata": {},
   "outputs": [],
   "source": []
  },
  {
   "cell_type": "markdown",
   "metadata": {},
   "source": [
    "___"
   ]
  },
  {
   "cell_type": "markdown",
   "metadata": {},
   "source": [
    "## Questão 3  - Bootstrap\n",
    "(2,5 pontos)"
   ]
  },
  {
   "cell_type": "markdown",
   "metadata": {},
   "source": [
    "\n",
    "O edital de um processo seletivo informa o seguinte:\n",
    "\n",
    "> Nota de corte:\n",
    ">\n",
    "> A nota de corte será dada pela média do desempenho dos candidatos somado a um desvio padrão. \n",
    "\n",
    "Um candidato deseja conhecer a possível nota de corte do exame a partir de uma amostra de notas do ano anterior:"
   ]
  },
  {
   "cell_type": "code",
   "execution_count": null,
   "metadata": {},
   "outputs": [],
   "source": [
    "amostra = [\n",
    "    55.45, 58.89, 22.1 , 26.74, 19.95, 80.3 , 12.94, 37.  , 41.26,\n",
    "    12.94, 29.59, 67.83, 40.73, 26.24,  9.85, 27.98, 86.64, 74.32,\n",
    "    33.06, 73.84, 82.11, 91.64, 65.67, 70.35, 36.56, 21.76, 78.93,\n",
    "    64.94,  8.06, 22.  , 25.7 , 21.63, 18.42, 81.27, 22.88, 15.57,\n",
    "    22.34, 72.21, 72.84, 20.44, 32.98, 23.82, 32.79, 85.75, 67.86,\n",
    "    64.74, 22.46,  9.38, 31.47, 26.12, 81.28, 94.36, 17.35, 37.58,\n",
    "    81.39, 14.86, 70.15, 80.94, 79.5 , 28.27, 20.95, 61.29,  7.9 ,\n",
    "    87.91, 18.95,  9.05, 29.85,  5.23, 40.63, 45.06, 79.99, 98.71,\n",
    "    14.79, 75.91, 33.44, 30.38, 37.33,  6.98, 19.63, 50.16, 72.37,\n",
    "    71.36,  9.37, 79.11, 19.54, 41.61, 59.1 , 94.97, 47.72, 72.16,\n",
    "    10.3 , 58.09, 66.99, 15.42, 29.8 , 66.42, 91.09,  8.49, 65.64,\n",
    "    80.85\n",
    "]\n",
    "print(len(amostra))"
   ]
  },
  {
   "cell_type": "markdown",
   "metadata": {},
   "source": [
    "**a.** Verifique se esta amostra segue uma distribuição normal. Um intervalo de confiança *t* seria adequado neste caso? **(0,5)**"
   ]
  },
  {
   "cell_type": "code",
   "execution_count": null,
   "metadata": {},
   "outputs": [],
   "source": [
    "#Código aqui...\n"
   ]
  },
  {
   "cell_type": "markdown",
   "metadata": {},
   "source": [
    "**R:** \n",
    "\n",
    "Aqui..."
   ]
  },
  {
   "cell_type": "markdown",
   "metadata": {},
   "source": [
    "**b.** Faça uma função ``nota_de_corte(amostra)`` que recebe uma única amostra e calcula a nota de corte para esta amostra. Use esta função para calcular a nota de corte da amostra dada acima. **(0,5)**"
   ]
  },
  {
   "cell_type": "code",
   "execution_count": null,
   "metadata": {},
   "outputs": [],
   "source": [
    "#Código aqui...\n"
   ]
  },
  {
   "cell_type": "markdown",
   "metadata": {},
   "source": [
    "**c.** Usando a função `nota_de_corte(amostra)` que escreveu acima, calcule o intervalo bootstrap das notas de corte com $\\gamma = 0,95$. **(1,5)**"
   ]
  },
  {
   "cell_type": "code",
   "execution_count": null,
   "metadata": {},
   "outputs": [],
   "source": [
    "#Código aqui...\n"
   ]
  },
  {
   "cell_type": "code",
   "execution_count": null,
   "metadata": {},
   "outputs": [],
   "source": []
  },
  {
   "cell_type": "markdown",
   "metadata": {},
   "source": [
    "___"
   ]
  },
  {
   "cell_type": "markdown",
   "metadata": {},
   "source": [
    "## Questão 4 - Conceitual de Machine Learning\n",
    "(1,5 pontos)"
   ]
  },
  {
   "cell_type": "markdown",
   "metadata": {},
   "source": [
    "Um estagiário recebeu a tarefa de montar um modelo preditivo de nível de glicose no sangue de pacientes com diabetes à partir de um conjunto de 10 atributos dos pacientes. \n",
    "\n",
    "O resto desta questão é uma representação do processo mental do estagiário.\n",
    "\n",
    "\n",
    "**Ao final da questão aponte os erros explicando o que está errado ou sugerindo alternativas.**"
   ]
  },
  {
   "cell_type": "code",
   "execution_count": null,
   "metadata": {},
   "outputs": [],
   "source": [
    "from sklearn.datasets import load_diabetes\n",
    "X, y = load_diabetes(return_X_y=True)"
   ]
  },
  {
   "cell_type": "markdown",
   "metadata": {},
   "source": [
    "\"Ok, sempre me dizem que devo explorar os dados antes de montar o modelo, então vou checar o tamanho do dataset\""
   ]
  },
  {
   "cell_type": "code",
   "execution_count": null,
   "metadata": {
    "scrolled": true
   },
   "outputs": [],
   "source": [
    "X.shape"
   ]
  },
  {
   "cell_type": "code",
   "execution_count": null,
   "metadata": {},
   "outputs": [],
   "source": [
    "y.shape"
   ]
  },
  {
   "cell_type": "markdown",
   "metadata": {},
   "source": [
    "\"Perfeito, isso basta! Os tamanhos batem! Depois eu pergunto para o chefe o que são os atributos mesmo.\"\n",
    "\n",
    "\"Esse é um problema de clustering, onde cada cluster é um $\\hat{\\beta}_i$ diferente. Outro nome para isso é regressão. Meu modelo vai então ser uma regressão linear:\""
   ]
  },
  {
   "cell_type": "code",
   "execution_count": null,
   "metadata": {},
   "outputs": [],
   "source": [
    "from sklearn.linear_model import LinearRegression\n",
    "model = LinearRegression()\n",
    "model.fit(X, y)"
   ]
  },
  {
   "cell_type": "markdown",
   "metadata": {},
   "source": [
    "\"Agora tenho que testar o modelo. Uma boa métrica para regressão é o valor de $R^2$\""
   ]
  },
  {
   "cell_type": "code",
   "execution_count": null,
   "metadata": {},
   "outputs": [],
   "source": [
    "from sklearn.metrics import r2_score\n",
    "y_pred = model.predict(X)\n",
    "r2 = r2_score(y, y_pred)\n",
    "r2"
   ]
  },
  {
   "cell_type": "markdown",
   "metadata": {},
   "source": [
    "\"Legal, parece que o erro quadrático médio é $51\\%$. Agora vou impressionar meu chefe mostrando também os resultados de um outro método de clustering, a regressão logística!\""
   ]
  },
  {
   "cell_type": "code",
   "execution_count": null,
   "metadata": {},
   "outputs": [],
   "source": [
    "from sklearn.linear_model import LogisticRegression\n",
    "\n",
    "model = LogisticRegression()\n",
    "model.fit(X, y)"
   ]
  },
  {
   "cell_type": "code",
   "execution_count": null,
   "metadata": {},
   "outputs": [],
   "source": [
    "y_pred = model.predict(X)\n",
    "r2 = r2_score(y, y_pred)\n",
    "r2"
   ]
  },
  {
   "cell_type": "markdown",
   "metadata": {},
   "source": [
    "\"Que ótimo, o $R^2$ diminuiu, o que significa que o segundo modelo é ainda melhor! Mal posso esperar para mostrar como sou bom para o chefe!\" "
   ]
  },
  {
   "cell_type": "markdown",
   "metadata": {},
   "source": [
    "**Responda** abaixo mencionando **pelo menos 3 erros** do estagiário e como faria para corrigi-los. **(0,5)** cada erro válido."
   ]
  },
  {
   "cell_type": "markdown",
   "metadata": {},
   "source": [
    "**R.:**\n",
    "\n",
    "\n"
   ]
  },
  {
   "cell_type": "code",
   "execution_count": null,
   "metadata": {},
   "outputs": [],
   "source": []
  }
 ],
 "metadata": {
  "kernelspec": {
   "display_name": "Python 3",
   "language": "python",
   "name": "python3"
  },
  "language_info": {
   "codemirror_mode": {
    "name": "ipython",
    "version": 3
   },
   "file_extension": ".py",
   "mimetype": "text/x-python",
   "name": "python",
   "nbconvert_exporter": "python",
   "pygments_lexer": "ipython3",
   "version": "3.7.1"
  }
 },
 "nbformat": 4,
 "nbformat_minor": 2
}
