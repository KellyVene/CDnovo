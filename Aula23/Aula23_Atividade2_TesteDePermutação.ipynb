{
 "cells": [
  {
   "cell_type": "markdown",
   "metadata": {},
   "source": [
    "___\n",
    "# Atividade: Teste de permutação\n",
    "___\n",
    "\n",
    "## Aula 23\n",
    "\n",
    "## Contexto Prático\n",
    "\n",
    "\n",
    "**Hoje:**\n",
    "1. Entender e implementar o método não paramétrico de permutação com intuito de comparar dois parâmetros populacionais quaisquer a partir de reamostragem.\n",
    "\n",
    "\n",
    "___"
   ]
  },
  {
   "cell_type": "code",
   "execution_count": null,
   "metadata": {},
   "outputs": [],
   "source": [
    "%matplotlib inline\n",
    "\n",
    "import matplotlib.pyplot as plt\n",
    "import numpy as np\n",
    "import pandas as pd\n",
    "import random"
   ]
  },
  {
   "cell_type": "markdown",
   "metadata": {},
   "source": [
    "___\n",
    "## Exercício 1\n",
    "\n",
    "A senhora Madalozzo, pesquisadora do Insper, estuda, entre outros assuntos, temas ligados à Economia do Trabalho. \n",
    "\n",
    "Acreditando que uma nova política salarial, aprovada no primeiro trimestre de 2018, produziu um aumento no faturamento médio (em unidades monetárias) das empresas, de determinado setor da economia que implantaram essa nova política salarial, a senhora Madalozzo coletou informações sobre o faturamento de empresas, do determinado setor da economia, ao final do terceiro trimestre de 2018, que implantaram e que não implantaram a nova política salarial.\n"
   ]
  },
  {
   "cell_type": "code",
   "execution_count": null,
   "metadata": {},
   "outputs": [],
   "source": [
    "#dados\n",
    "xA =   [13, 19, 21, 18, 16, 20, 19]\n",
    "xB =   [13, 14, 12, 11, 17]\n",
    "\n",
    "print('Faturamentos de empresas que implantaram política salarial:\\n', xA,'\\n')\n",
    "\n",
    "print('Faturamentos de empresas que NÃO implantaram política salarial:\\n', xB,'\\n')\n"
   ]
  },
  {
   "cell_type": "markdown",
   "metadata": {},
   "source": [
    "**a.** Formule a hipótese nula e a hipótese alternativa em termos do problema e dos parâmetros:\n"
   ]
  },
  {
   "cell_type": "code",
   "execution_count": null,
   "metadata": {},
   "outputs": [],
   "source": []
  },
  {
   "cell_type": "markdown",
   "metadata": {},
   "source": [
    "**b.** Calcular a estatística adequada a partir dos dados, valor observado."
   ]
  },
  {
   "cell_type": "code",
   "execution_count": null,
   "metadata": {},
   "outputs": [],
   "source": []
  },
  {
   "cell_type": "code",
   "execution_count": null,
   "metadata": {},
   "outputs": [],
   "source": []
  },
  {
   "cell_type": "markdown",
   "metadata": {},
   "source": [
    "**c.** Monte um programa para realizar o teste de permutação para 100 mil permutações. Faça a escolha do CASO do teste de permutação adequado."
   ]
  },
  {
   "cell_type": "code",
   "execution_count": null,
   "metadata": {},
   "outputs": [],
   "source": []
  },
  {
   "cell_type": "code",
   "execution_count": null,
   "metadata": {},
   "outputs": [],
   "source": []
  },
  {
   "cell_type": "markdown",
   "metadata": {},
   "source": [
    "**d.** Exibir o histograma das estatísticas permutadas."
   ]
  },
  {
   "cell_type": "code",
   "execution_count": null,
   "metadata": {},
   "outputs": [],
   "source": []
  },
  {
   "cell_type": "code",
   "execution_count": null,
   "metadata": {},
   "outputs": [],
   "source": []
  },
  {
   "cell_type": "markdown",
   "metadata": {},
   "source": [
    "**e.** Calcule o valor-p do *teste de permutação*. Faça uma conclusão em termos do problema."
   ]
  },
  {
   "cell_type": "code",
   "execution_count": null,
   "metadata": {},
   "outputs": [],
   "source": []
  },
  {
   "cell_type": "code",
   "execution_count": null,
   "metadata": {},
   "outputs": [],
   "source": []
  }
 ],
 "metadata": {
  "kernelspec": {
   "display_name": "Python 3",
   "language": "python",
   "name": "python3"
  },
  "language_info": {
   "codemirror_mode": {
    "name": "ipython",
    "version": 3
   },
   "file_extension": ".py",
   "mimetype": "text/x-python",
   "name": "python",
   "nbconvert_exporter": "python",
   "pygments_lexer": "ipython3",
   "version": "3.7.1"
  }
 },
 "nbformat": 4,
 "nbformat_minor": 2
}
