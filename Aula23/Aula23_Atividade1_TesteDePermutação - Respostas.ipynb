{
 "cells": [
  {
   "cell_type": "markdown",
   "metadata": {},
   "source": [
    "___\n",
    "# Atividade: Teste de permutação\n",
    "___\n",
    "\n",
    "## Aula 23\n",
    "\n",
    "## Contexto Teórico\n",
    "\n",
    "\n",
    "**Preparo Prévio:**\n",
    "1. Significância - https://pt.wikipedia.org/wiki/Signific%C3%A2ncia_estat%C3%ADstica\n",
    "1. Teste A/B - https://pt.wikipedia.org/wiki/Teste_A/B\n",
    "\n",
    "**Hoje:**\n",
    "1. Entender e implementar o método não paramétrico de permutação com intuito de comparar dois parâmetros populacionais quaisquer a partir de reamostragem.\n",
    "\n",
    "\n",
    "___"
   ]
  },
  {
   "cell_type": "code",
   "execution_count": 1,
   "metadata": {},
   "outputs": [],
   "source": [
    "%matplotlib inline\n",
    "\n",
    "import matplotlib.pyplot as plt\n",
    "import numpy as np\n",
    "import pandas as pd\n",
    "import random\n",
    "\n"
   ]
  },
  {
   "cell_type": "markdown",
   "metadata": {},
   "source": [
    "___\n",
    "## Teste de permutação\n",
    "\n",
    "O teste de permutação permite fazer estatísticas de *duas amostras*, por exemplo para concluir se medidas populacionais são diferentes entre os dois grupos A e B. Leia aqui que a estatística calculada para ser comparada entre os grupos pode ser: média, mediana, variância, entre outros.\n",
    "\n",
    "Junto com o *bootstrap*, pertencem às técnicas de análise estatística por **reamostragem**.\n",
    "\n",
    "Não há qualquer informação acerca do desvio padrão populacional. Ainda, a amostra contém poucos dados. Para concluir se a hipótese nula será ou não rejeitada, antes de realizar um teste convencional, uma metodologia interessante para inferir é via **Teste de Permutação**.\n",
    "\n",
    "Nesse teste, a ideia consiste em permutar os dados, ou seja, embaralhar os valores contidos em $x_A$ e/ou $x_B$ e criar novas amostras (reamostras). \n",
    "\n",
    "### Caso 1 - amostras independentes \n",
    "Ambas as amostras possuem a mesma unidade de medida e a ordem dos elementos nas amostras não é importante (ou seja, e são independentes).\n",
    "\n",
    "**Passo-a-passo:**\n",
    "\n",
    "1. Para permutar os dados, primeiro monta-se uma única lista com a união dos dados em $x_A$ e $x_B$.\n",
    "\n",
    "2. Depois, repetir $P$ vezes:\n",
    "    - embaralhar a lista; \n",
    "    - separar novamente respeitando os tamanhos originais de cada amostra ($n_A$ e $n_B$);\n",
    "    - calcular a diferença entre as **médias** de $x_B$ e $x_A$ (ou **outra estatística** de $A$  e $B$);\n",
    "    - armazenar a diferença das **médias** (ou **da estatística de interesse**) em uma lista.\n",
    "\n",
    "3. Use o histograma com as diferenças entre as médias de B e A a partir das listas permutadas para tomar a decisão. Aqui, faça o raciocínio de que se a diferença entre as médias observadas na amostra é um valor difícil de acontecer quando comparada com as muitas diferenças entre as médias a partir das listas permutadas, então significa que os tempos de cada lista (grupo) não são aleatórios, havendo assim diferenças entre as médias dos grupos.\n",
    "\n",
    "**Observações importantes:**\n",
    "1. Note que os tamanhos amostrais não precisam ser necessariamente iguais.\n",
    "2. Vale para **qualquer estatística de duas amostras**, não só para a **média**.\n",
    "\n",
    "\n",
    "### Caso 2 - amostras dependentes ou com unidades de medidas diferentes\n",
    "As séries possuem unidades de medida diferentes ou o teste em questão exige uma certa ordem dos dados entre as amostras (exemplos: teste de correlação ou pressão sistólica do mesmo paciente antes e depois do medicamento).\n",
    "\n",
    "**Passo-a-passo:**\n",
    "\n",
    "1. Escolher apenas uma lista para trabalhar: $x_A$ ou $x_B$.\n",
    "\n",
    "2. Depois, repetir $P$ vezes:\n",
    "    - embaralhar apenas uma das listas escolhida;\n",
    "    - calcular a **estatística** de interesse usando $x_A$ e $x_B$, sendo uma das quais terá sido permutada (reamostra);\n",
    "    - armazenar o valor da estatística calculada nas duas listas anteriormente.\n",
    "\n",
    "3. Use o histograma com os dados das estatísticas armazenadas para tomar a decisão raciocinando da mesma forma que é feito quando foi construído intervalos de confiança com percentis em Boostrapping.\n",
    "\n",
    "\n",
    "\n",
    "### Explosão combinatória\n",
    "\n",
    "Idealmente, é desejável a realização de todas as permutações possíveis, ou seja, $(n_A+n_B)!$ vezes. Nem sempre é viável.\n",
    "\n",
    "No caso do exemplo, os tamanhos das duas amostras são $n_A=7$ e $n_B=8$, temos que o número de combinações possíveis é 15!, ou mais de 1,3 trilhão de possibilidades, tornando a solução computacionalmente inviável."
   ]
  },
  {
   "cell_type": "markdown",
   "metadata": {},
   "source": [
    "___\n",
    "## Motivação 1: uso do Caso 1\n",
    "\n",
    "\n",
    "Uma fábrica realizou uma calibração em uma máquina na linha de produção. A equipe que realizou os ajustes afirmou que após a calibração, a máquina ainda manteve o mesmo tempo médio de produção. \n",
    "\n",
    "Para verificar se realmente o tempo médio permaneceu inalterado após calibração da máquina, foram realizadas duas medidas (em mintos) de tempo: uma antes e uma depois da calibração. \n",
    "\n",
    "Foram selecionadas 7 e 8 peças aleatorianente para as medidas antes e depois da calibração, repectivamente. Elas estão representadas abaixo pelas séries xA e xB, respectivamente.\n",
    "\n",
    "Assuma que o tempo de produção de uma peça NÃO possua distribuição normal  o que dificulta a busca de testes inferencias clássicos decorrentes suposições da normalidade da variável de interesse."
   ]
  },
  {
   "cell_type": "code",
   "execution_count": 2,
   "metadata": {},
   "outputs": [
    {
     "name": "stdout",
     "output_type": "stream",
     "text": [
      "Lista de tempos de produção ANTES da calibração:\n",
      " [47.66708824, 48.11337801, 47.83104582, 46.69416928, 48.70934634, 45.61498917, 51.79239414] \n",
      "\n",
      "Lista de tempos de produção APÓS a calibração:\n",
      " [52.82692462, 49.60021673, 50.23705478, 49.65527133, 49.78115306, 49.81176314, 53.04044198, 48.6253753] \n",
      "\n"
     ]
    }
   ],
   "source": [
    "#dados\n",
    "xA =   [ 47.66708824,  48.11337801,  47.83104582,  46.69416928,\n",
    "        48.70934634,  45.61498917,  51.79239414]\n",
    "xB =   [ 52.82692462,  49.60021673,  50.23705478,  49.65527133,\n",
    "        49.78115306,  49.81176314,  53.04044198,  48.6253753 ]\n",
    "\n",
    "print('Lista de tempos de produção ANTES da calibração:\\n', xA,'\\n')\n",
    "\n",
    "print('Lista de tempos de produção APÓS a calibração:\\n', xB,'\\n')\n"
   ]
  },
  {
   "cell_type": "markdown",
   "metadata": {},
   "source": [
    "**a.** Calcular a diferença entre os tempos médios depois e antes da calibração. Nomeie essa diferença entre as médias amostrais originais de $d_{obs}$."
   ]
  },
  {
   "cell_type": "code",
   "execution_count": 3,
   "metadata": {},
   "outputs": [
    {
     "name": "stdout",
     "output_type": "stream",
     "text": [
      "A diferença das médias observada de APÓS e ANTES da calibração das máquinas: 2.38693069\n"
     ]
    }
   ],
   "source": [
    "#Importante notar a ordem usada entre as listas aqui para a mesma ordem ser consideração entre as reamostras\n",
    "dobs = np.mean(xB) - np.mean(xA)\n",
    "print(\"A diferença das médias observada de APÓS e ANTES da calibração das máquinas: %0.8f\" %dobs)"
   ]
  },
  {
   "cell_type": "markdown",
   "metadata": {},
   "source": [
    "___\n",
    "Como os dois conjuntos representam uma pequena amostra da população e não há normalidade da variável de interesse tempo para produção de cada produto, é necessário inferir considerando uma metodologia mais flexível nas suposições da distribuição da variável de interesse.\n",
    "\n",
    "Ou seja, ainda assim, é desejável aferir se realmente a diferença entre os tempos médios de produção antes e depois das calibração da máquinas é zero, com um nível de significância de 5%."
   ]
  },
  {
   "cell_type": "markdown",
   "metadata": {},
   "source": [
    "**b.** Formule a hipótese nula e a hipótese alternativa em termos do problema e dos parâmetros:\n",
    "\\begin{equation*}\n",
    "   H_0:\\mbox{Calibração não alterou produção} \\Rightarrow \\mu_B=\\mu_A \\rightarrow \\mu_B-\\mu_A=0\n",
    "\\end{equation*}   \n",
    "\\begin{equation*}\n",
    "   H_1:\\mbox{Calibração alterou produção} \\Rightarrow \\mu_B\\neq\\mu_A \\rightarrow \\mu_B-\\mu_A\\neq0\n",
    "\\end{equation*}"
   ]
  },
  {
   "cell_type": "markdown",
   "metadata": {},
   "source": [
    "___\n",
    "\n",
    "**c.** Monte um programa para realizar o teste de permutação (considerando o Caso 1) para 100 mil permutações. Utilize o comando `np.random.shuffle()` para embaralhar a lista contendo a união dos dados em $x_A$ e $x_B$ e calcular $d_{permutada}=\\bar{x}_{B_{permutada}}-\\bar{x}_{A_{permutada}}$."
   ]
  },
  {
   "cell_type": "code",
   "execution_count": 4,
   "metadata": {},
   "outputs": [],
   "source": [
    "#Teste de permutação - Caso 1\n",
    "nA = len(xA)\n",
    "nB = len(xB)\n",
    "\n",
    "#juntar as duas listas\n",
    "xAB = xA + xB\n",
    "\n",
    "#número de permutações, o ideal seria (m+n)! mas seria inviável.\n",
    "P = 100000\n",
    "\n",
    "dperm = []\n",
    "\n",
    "#FAZER FOR QUE GUARDA PERMUTACAO DE CADA DIFERENCA DAS MEDIAS E GUARDAR EM dperm"
   ]
  },
  {
   "cell_type": "markdown",
   "metadata": {},
   "source": [
    "**d.** Exibir o histograma das diferenças entre as **médias** permutadas, ou seja, $d_{permutada}=\\bar{x}_{B_{permutada}}-\\bar{x}_{A_{permutada}}$."
   ]
  },
  {
   "cell_type": "code",
   "execution_count": 5,
   "metadata": {},
   "outputs": [
    {
     "data": {
      "image/png": "[encoded data removed]",
      "text/plain": [
       "<Figure size 432x288 with 1 Axes>"
      ]
     },
     "metadata": {
      "needs_background": "light"
     },
     "output_type": "display_data"
    }
   ],
   "source": [
    "plt.hist(dperm, density=True, bins=30, color='purple', alpha=0.7)\n",
    "plt.xlabel(\"diferença entre as médias permutadas\")\n",
    "plt.ylabel(\"Densidade\");"
   ]
  },
  {
   "cell_type": "markdown",
   "metadata": {},
   "source": [
    "**e.** Calcule o intervalo de confiança considerando a lista das diferenças entre as médias permutadas. Faça uma conclusão em termos do problema. Assuma $\\gamma=95$%."
   ]
  },
  {
   "cell_type": "code",
   "execution_count": 6,
   "metadata": {},
   "outputs": [
    {
     "name": "stdout",
     "output_type": "stream",
     "text": [
      "Lembrando: A diferença observada entre as médias de B e A vale 2.3869306889285795 \n",
      "\n"
     ]
    }
   ],
   "source": [
    "print('Lembrando: A diferença observada entre as médias de B e A vale', dobs, '\\n')"
   ]
  },
  {
   "cell_type": "code",
   "execution_count": 7,
   "metadata": {},
   "outputs": [
    {
     "name": "stdout",
     "output_type": "stream",
     "text": [
      "Intervalo de confiança para representar a verdadeira diferença entre as médias de B e A:\n"
     ]
    },
    {
     "data": {
      "text/plain": [
       "(-2.1111399236607156, 2.127824891428574)"
      ]
     },
     "execution_count": 7,
     "metadata": {},
     "output_type": "execute_result"
    }
   ],
   "source": [
    "print('Intervalo de confiança para representar a verdadeira diferença entre as médias de B e A:')\n",
    "(np.percentile(dperm, 2.5), np.percentile(dperm, 97.5))"
   ]
  },
  {
   "cell_type": "markdown",
   "metadata": {},
   "source": [
    "**Conclusão:** Como a diferença entras as médias observadas de B e A $2.3869306889285795$ não faz parte do intervalo de confiança que representa as diferenças entre as médias de B e A quando os elementos são embaralhados nas duas listas, então há evidências de que calibração alterou tempo média de produção, com 95% de confiança."
   ]
  },
  {
   "cell_type": "markdown",
   "metadata": {},
   "source": [
    "**f.** Calcule o valor-p do *teste de permutação*. Faça uma conclusão em termos do problema."
   ]
  },
  {
   "cell_type": "markdown",
   "metadata": {},
   "source": [
    "**Lembre que:** \n",
    "   - O teste é bicaudal de acordo com a hipótese alterativa $H_a:\\mu_B-\\mu_A\\neq0$;\n",
    "   - Interessam os casos em que $d_{permutada}>|d_{obs}|$, ou seja, a proporção dos casos em que as diferenças entre as médias permutadas foram **maiores** do que a diferença $|d_{obs}|$ observada no item a;\n",
    "   - Também interessam os casos em que $d_{permutada}<-|d_{obs}|$, ou seja, a proporção dos casos em que as diferenças entre as médias permutadas foram **menores** do que a diferença $-|d_{obs}|$ observada no item a;\n",
    "   - Note que você não pode simplesmente calcular uma das duas caudas e dobrar o valor. **Por quê? Não necessariamente há simetria nas diferenças entre as médias permutadas.**"
   ]
  },
  {
   "cell_type": "code",
   "execution_count": 8,
   "metadata": {
    "scrolled": true
   },
   "outputs": [
    {
     "name": "stdout",
     "output_type": "stream",
     "text": [
      "Proporção de vezes que dperm>|dobs|: 0.01193\n",
      "Proporção de vezes que dperm<-|dobs|: 0.01221\n"
     ]
    }
   ],
   "source": [
    "dperm = pd.Series(dperm)\n",
    "pvalue_dir = len(dperm[dperm > np.abs(dobs)])/len(dperm)\n",
    "pvalue_esq = len(dperm[dperm < -np.abs(dobs)])/len(dperm)\n",
    "\n",
    "print('Proporção de vezes que dperm>|dobs|:', pvalue_dir)\n",
    "print('Proporção de vezes que dperm<-|dobs|:', pvalue_esq)\n",
    "\n"
   ]
  },
  {
   "cell_type": "code",
   "execution_count": 9,
   "metadata": {},
   "outputs": [
    {
     "name": "stdout",
     "output_type": "stream",
     "text": [
      "Valor-p para teste bicaudal: 0.02414\n"
     ]
    }
   ],
   "source": [
    "pvalue_total = pvalue_dir + pvalue_esq\n",
    "\n",
    "print('Valor-p para teste bicaudal:', pvalue_total)"
   ]
  },
  {
   "cell_type": "markdown",
   "metadata": {},
   "source": [
    "**Conclusão:**\n",
    "Se valor-p < 𝛼, então há evidências de rejeitar H_0!\n",
    "Aqui temos que valor-p < 5%, dando evidências de que calibração alterou tempo média de produção, com 95% de confiança."
   ]
  },
  {
   "cell_type": "markdown",
   "metadata": {},
   "source": [
    "___\n",
    "## Motivação 2: uso do Caso 2\n",
    "\n"
   ]
  },
  {
   "cell_type": "markdown",
   "metadata": {},
   "source": [
    "Um aluno comprou um acelerômetro para usar com o seu Arduino. O acelerômetro mede forças específicas em 3 eixos ortogonais, normalmente representados por x, y e z. \n",
    "\n",
    "Caso o eixo z esteja perfeitamente alinhado com a vertical local, irá medir a reação à gravidade, ou seja, aproximadamente $-9.8\\ m/s^2$ mais um certo ruido. Já os eixos x e y, que formam um plano paralelo ao solo, devem medir:\n",
    "$$x = 0\\ m/s^2 + v$$ $$y = 0\\ m/s^2 + w$$ \n",
    "Onde $v$ e $w$ são ruídos com uma distribuição e parâmetros desconhecidos.\n",
    "\n",
    "Para uma melhor filtragem desses ruídos é desejável que a correlação desses ruídos seja próxima de zero. Para verificar se o acelerômetro possui ruídos descorrelacionados, o aluno realizou então 15 medidas de x e y e obteve os seguintes resultados (em $m/s^2$):"
   ]
  },
  {
   "cell_type": "code",
   "execution_count": 10,
   "metadata": {},
   "outputs": [
    {
     "name": "stdout",
     "output_type": "stream",
     "text": [
      "Número de medições: 15\n"
     ]
    }
   ],
   "source": [
    "#dados\n",
    "x =   [-1.06004531,  0.90985503,  1.01145345,  0.81447903, -0.37231968,\n",
    "       -0.90004095, -2.08026056, -1.72278038, -0.32815854,  1.64216522,\n",
    "        0.64785021, -0.21609776, -1.1309649 ,  1.95599004, -0.3579645]\n",
    "y =   [-0.34166037,  0.25990444,  1.70860138,  0.66344894,  0.08912057,\n",
    "       -0.41922063, -1.43918702, -3.07618301,  0.02229978,  1.32291735,\n",
    "        0.33505524,  0.29741423, -0.54275277,  -1.47918228,  0.37008527]\n",
    "\n",
    "print('Número de medições:', len(x))\n",
    "\n"
   ]
  },
  {
   "cell_type": "markdown",
   "metadata": {},
   "source": [
    "**a.** Calcular a correlação OBSERVADA entre x e y (correlação de Pearson):"
   ]
  },
  {
   "cell_type": "code",
   "execution_count": 11,
   "metadata": {
    "scrolled": true
   },
   "outputs": [
    {
     "name": "stdout",
     "output_type": "stream",
     "text": [
      "Correlação OBSERVADA entre x e y: 0.564751\n"
     ]
    }
   ],
   "source": [
    "robs = np.corrcoef(x,y)[0,1]\n",
    "print(\"Correlação OBSERVADA entre x e y: %f\" %robs)"
   ]
  },
  {
   "cell_type": "markdown",
   "metadata": {},
   "source": [
    "___\n",
    "Como os dois conjuntos representam uma pequena amostra da população, não é possível inferir que essa seja a real correlação entre as duas variáveis aleatórias. Portanto é desejável aferir se realmente a correlação é zero, ou seja, os sinais são descorrelacionados, com um nível de significância de 5%.\n",
    "\n",
    "Aqui, chamaremos de $\\rho$ a verdadeira correlação entre os ruídos $v$ e $w$."
   ]
  },
  {
   "cell_type": "markdown",
   "metadata": {},
   "source": [
    "**b.** Formular a hipótese nula e a hipótese alternativa do problema:\n",
    "\\begin{equation*}\n",
    "   H_0: \\mbox{Os ruídos são descorrelacionados} \\Rightarrow H_0: \\rho = 0\n",
    "\\end{equation*}   \n",
    "\\begin{equation*}\n",
    "   H_1: \\mbox{Os ruídos são correlacionados} \\Rightarrow H_1: \\rho \\neq 0\n",
    "\\end{equation*}"
   ]
  },
  {
   "cell_type": "markdown",
   "metadata": {},
   "source": [
    "___\n",
    "Não há qualquer informação do fabricante acerca do desvio padrão populacional. Ainda, a amostra contém poucos dados. Para concluir se a hipótese nula será ou não rejeitada, será utilizado um Teste de Permutação.\n",
    "\n",
    "A ideia consiste em permutar os dados em uma das séries (**Caso 2** exposto acima). Logo, os novos pares de dados permutados (x,y) serão diferentes e consequentemente a correlação entre x e y também mudará. \n",
    "\n",
    "Para cada iteração, a nova correlação é medida e armazenada em uma lista. Ao final é possível montar um histograma que representa a distribuição das correlações entre x e y com uma das listas permutadas.\n",
    "\n",
    "Idealmente é desejável a realização de todas as permutações possíveis, porém com $n$ valores na amostra, o número de combinações possíveis é n!=15!, ou mais de 1,3 trilhão de possibilidades, tornando a solução computacionalmente inviável."
   ]
  },
  {
   "cell_type": "markdown",
   "metadata": {},
   "source": [
    "**c.** Montar o programa para realizar o teste de permutação para 100 mil iterações. Utilizar o comando `random.shuffle()` para embaralhar apenas uma das listas de dados."
   ]
  },
  {
   "cell_type": "code",
   "execution_count": 12,
   "metadata": {},
   "outputs": [],
   "source": [
    "#Teste de permutação\n",
    "\n",
    "#número de permutações, o ideal seria n! mas seria inviável.\n",
    "P = 100000\n",
    "\n",
    "rperm = []\n",
    "\n",
    "#FAZER FOR QUE GUARDA CADA NOVA CORRELACAO DE UMA DAS LISTAS SHUFFLE. GUARDAR EM rperm!!"
   ]
  },
  {
   "cell_type": "markdown",
   "metadata": {},
   "source": [
    "**d.** Exibir o histograma das correlações medidas no teste de permutação. Lembre-se que o valor da correlação estará contido no intervalo [-1,1]."
   ]
  },
  {
   "cell_type": "code",
   "execution_count": 13,
   "metadata": {},
   "outputs": [
    {
     "data": {
      "image/png": "[encoded data removed]",
      "text/plain": [
       "<Figure size 432x288 with 1 Axes>"
      ]
     },
     "metadata": {
      "needs_background": "light"
     },
     "output_type": "display_data"
    }
   ],
   "source": [
    "plt.hist(rperm, density=True, bins=30, color='olivedrab', alpha=0.7)\n",
    "plt.xlabel(\"correlações permutadas\")\n",
    "plt.ylabel(\"Densidade\");"
   ]
  },
  {
   "cell_type": "markdown",
   "metadata": {},
   "source": [
    "**e.** Calcule o intervalo de confiança considerando a lista de correlações obtidas a partir da permutação de uma das listas de dados. Faça uma conclusão em termos do problema. Assuma $\\gamma=95$%."
   ]
  },
  {
   "cell_type": "code",
   "execution_count": 14,
   "metadata": {},
   "outputs": [
    {
     "name": "stdout",
     "output_type": "stream",
     "text": [
      "Lembrando: A correlação OBSERVADA entre x e y vale 0.564751065753215 \n",
      "\n"
     ]
    }
   ],
   "source": [
    "print('Lembrando: A correlação OBSERVADA entre x e y vale', robs, '\\n')"
   ]
  },
  {
   "cell_type": "code",
   "execution_count": 15,
   "metadata": {},
   "outputs": [
    {
     "name": "stdout",
     "output_type": "stream",
     "text": [
      "Intervalo de confiança para representar a verdadeira correlação entre x e y:\n"
     ]
    },
    {
     "data": {
      "text/plain": [
       "(-0.5125695120793193, 0.5057782762556893)"
      ]
     },
     "execution_count": 15,
     "metadata": {},
     "output_type": "execute_result"
    }
   ],
   "source": [
    "print('Intervalo de confiança para representar a verdadeira correlação entre x e y:')\n",
    "(np.percentile(rperm, 2.5), np.percentile(rperm, 97.5))"
   ]
  },
  {
   "cell_type": "markdown",
   "metadata": {},
   "source": [
    "**Conclusão:** Como a correlação observada entras x e y é $0.564751065753215$ não faz parte do intervalo de confiança que representa as correlações entre x e y quando os elementos de uma das listas são embaralhados dando ideia de não correlacionados, então há evidências de que os ruidos são correlacionados com $95$% de confiança."
   ]
  },
  {
   "cell_type": "code",
   "execution_count": null,
   "metadata": {},
   "outputs": [],
   "source": []
  },
  {
   "cell_type": "markdown",
   "metadata": {},
   "source": [
    "**f.** Calcule o valor-p do *teste de permutação*. Faça uma conclusão em termos do problema."
   ]
  },
  {
   "cell_type": "markdown",
   "metadata": {},
   "source": [
    "**Lembre que:** \n",
    "   - O teste é bicaudal de acordo com a hipótese alterativa $H_1:\\rho\\neq0$;\n",
    "   - Interessam os casos em que $r_{permutadas}>|r_{obs}|$, ou seja, a proporção dos casos em que as correlações  obtidas a partir da permutação de uma das listas de dados foram **maiores** do que a correlação observada $|r_{obs}|$ no item a;\n",
    "   - Interessam os casos em que $r_{permutadas}<-|r_{obs}|$, ou seja, a proporção dos casos em que as correlações  obtidas a partir da permutação de uma das listas de dados foram **menores** do que a correlação observada $-|r_{obs}|$ no item a;\n",
    "   - Note que você não pode simplesmente calcular uma das duas caudas e dobrar o valor. **Por quê? Não necessariamente há simetria nas correlações obtidas a partir da permutação de uma das listas de dados.**"
   ]
  },
  {
   "cell_type": "code",
   "execution_count": 16,
   "metadata": {
    "scrolled": true
   },
   "outputs": [
    {
     "name": "stdout",
     "output_type": "stream",
     "text": [
      "Proporção de vezes que rperm>|robs|: 0.01224\n",
      "Proporção de vezes que rperm<-|robs|: 0.01366\n"
     ]
    }
   ],
   "source": [
    "rperm = pd.Series(rperm)\n",
    "pvalue_dir = len(rperm[rperm > np.abs(robs)])/len(rperm)\n",
    "pvalue_esq = len(rperm[rperm < -np.abs(robs)])/len(rperm)\n",
    "\n",
    "print('Proporção de vezes que rperm>|robs|:', pvalue_dir)\n",
    "print('Proporção de vezes que rperm<-|robs|:', pvalue_esq)\n",
    "\n"
   ]
  },
  {
   "cell_type": "code",
   "execution_count": 17,
   "metadata": {},
   "outputs": [
    {
     "name": "stdout",
     "output_type": "stream",
     "text": [
      "Valor-p para teste bicaudal: 0.0259\n"
     ]
    }
   ],
   "source": [
    "pvalue_total = pvalue_dir + pvalue_esq\n",
    "\n",
    "print('Valor-p para teste bicaudal:', pvalue_total)"
   ]
  },
  {
   "cell_type": "markdown",
   "metadata": {},
   "source": [
    "**Conclusão:**\n",
    "Se valor-p < 𝛼, então há evidências de rejeitar H_0!\n",
    "Aqui temos que valor-p < 5%, dando evidências de que calibração alterou tempo média de produção, com 95% de confiança."
   ]
  },
  {
   "cell_type": "code",
   "execution_count": null,
   "metadata": {},
   "outputs": [],
   "source": []
  }
 ],
 "metadata": {
  "kernelspec": {
   "display_name": "Python 3",
   "language": "python",
   "name": "python3"
  },
  "language_info": {
   "codemirror_mode": {
    "name": "ipython",
    "version": 3
   },
   "file_extension": ".py",
   "mimetype": "text/x-python",
   "name": "python",
   "nbconvert_exporter": "python",
   "pygments_lexer": "ipython3",
   "version": "3.7.1"
  }
 },
 "nbformat": 4,
 "nbformat_minor": 2
}
