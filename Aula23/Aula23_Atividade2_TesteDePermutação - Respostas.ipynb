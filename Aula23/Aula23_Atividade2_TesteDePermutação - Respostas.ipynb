{
 "cells": [
  {
   "cell_type": "markdown",
   "metadata": {},
   "source": [
    "___\n",
    "# Atividade: Teste de permutação\n",
    "___\n",
    "\n",
    "## Aula 23\n",
    "\n",
    "## Contexto Prático\n",
    "\n",
    "\n",
    "**Hoje:**\n",
    "1. Entender e implementar o método não paramétrico de permutação com intuito de comparar dois parâmetros populacionais quaisquer a partir de reamostragem.\n",
    "\n",
    "\n",
    "___"
   ]
  },
  {
   "cell_type": "code",
   "execution_count": 1,
   "metadata": {},
   "outputs": [],
   "source": [
    "%matplotlib inline\n",
    "\n",
    "import matplotlib.pyplot as plt\n",
    "import numpy as np\n",
    "import pandas as pd\n",
    "import random"
   ]
  },
  {
   "cell_type": "markdown",
   "metadata": {},
   "source": [
    "___\n",
    "## Exercício 1\n",
    "\n",
    "A senhora Madalozzo, pesquisadora do Insper, estuda, entre outros assuntos, temas ligados à Economia do Trabalho. \n",
    "\n",
    "Acreditando que uma nova política salarial, aprovada no primeiro trimestre de 2018, produziu um aumento no faturamento médio (em unidades monetárias) das empresas, de determinado setor da economia que implantaram essa nova política salarial, a senhora Madalozzo coletou informações sobre o faturamento de empresas, do determinado setor da economia, ao final do terceiro trimestre de 2018, que implantaram e que não implantaram a nova política salarial.\n"
   ]
  },
  {
   "cell_type": "code",
   "execution_count": 12,
   "metadata": {},
   "outputs": [
    {
     "name": "stdout",
     "output_type": "stream",
     "text": [
      "Faturamentos de empresas que implantaram política salarial:\n",
      " [13, 19, 21, 18, 16, 20, 19] \n",
      "\n",
      "Faturamentos de empresas que NÃO implantaram política salarial:\n",
      " [13, 14, 12, 11, 17] \n",
      "\n"
     ]
    }
   ],
   "source": [
    "#dados\n",
    "xA =   [13, 19, 21, 18, 16, 20, 19]\n",
    "xB =   [13, 14, 12, 11, 17]\n",
    "\n",
    "print('Faturamentos de empresas que implantaram política salarial:\\n', xA,'\\n')\n",
    "\n",
    "print('Faturamentos de empresas que NÃO implantaram política salarial:\\n', xB,'\\n')\n"
   ]
  },
  {
   "cell_type": "markdown",
   "metadata": {},
   "source": [
    "**a.** Formule a hipótese nula e a hipótese alternativa em termos do problema e dos parâmetros:\n",
    "\\begin{equation*}\n",
    "   H_0:\\mbox{Nova política não altera faturamento médio} \\Rightarrow \\mu_B=\\mu_A \\rightarrow \\mu_B-\\mu_A=0\n",
    "\\end{equation*}   \n",
    "\\begin{equation*}\n",
    "   H_1:\\mbox{Nova política altera faturamento médio} \\Rightarrow \\mu_B<\\mu_A \\rightarrow \\mu_B-\\mu_A<0\n",
    "\\end{equation*}"
   ]
  },
  {
   "cell_type": "markdown",
   "metadata": {},
   "source": [
    "**b.** Calcular a diferença entre as médias sem e com política salarial implantada. Nomeie essa diferença entre as médias amostrais originais de $d_{obs}$."
   ]
  },
  {
   "cell_type": "code",
   "execution_count": 17,
   "metadata": {},
   "outputs": [
    {
     "name": "stdout",
     "output_type": "stream",
     "text": [
      "A diferença das médias observada dos faturamentos de SEM e COM política salarial: -4.60000000\n"
     ]
    }
   ],
   "source": [
    "#Importante notar a ordem usada entre as listas aqui para a mesma ordem ser consideração entre as reamostras\n",
    "dobs = np.mean(xB) - np.mean(xA)\n",
    "print(\"A diferença das médias observada dos faturamentos de SEM e COM política salarial: %0.8f\" %dobs)"
   ]
  },
  {
   "cell_type": "markdown",
   "metadata": {},
   "source": [
    "**c.** Monte um programa para realizar o teste de permutação para 100 mil permutações. Faça a escolha do CASO do teste de permutação adequado."
   ]
  },
  {
   "cell_type": "code",
   "execution_count": null,
   "metadata": {},
   "outputs": [],
   "source": []
  },
  {
   "cell_type": "markdown",
   "metadata": {},
   "source": [
    "**d.** Exibir o histograma das diferenças entre as **médias** permutadas, ou seja, $d_{permutada}=\\bar{x}_{B_{permutada}}-\\bar{x}_{A_{permutada}}$."
   ]
  },
  {
   "cell_type": "code",
   "execution_count": 15,
   "metadata": {},
   "outputs": [
    {
     "data": {
      "image/png": "[encoded data removed]",
      "text/plain": [
       "<Figure size 432x288 with 1 Axes>"
      ]
     },
     "metadata": {
      "needs_background": "light"
     },
     "output_type": "display_data"
    }
   ],
   "source": [
    "plt.hist(dperm, density=True, bins=30, color='purple', alpha=0.7)\n",
    "plt.xlabel(\"diferença entre as médias permutadas\")\n",
    "plt.ylabel(\"Densidade\");"
   ]
  },
  {
   "cell_type": "markdown",
   "metadata": {},
   "source": [
    "**e.** Calcule o valor-p do *teste de permutação*. Faça uma conclusão em termos do problema."
   ]
  },
  {
   "cell_type": "markdown",
   "metadata": {},
   "source": [
    "**Lembre que:** \n",
    "   - O teste é AQUI unicaudal a esquerda de acordo com a hipótese alterativa $H_1:\\mu_B-\\mu_A<0$;\n",
    "   - Interessam os casos em que $d_{permutada}<d_{obs}$, ou seja, a proporção dos casos em que as diferenças entre as médias permutadas foram **menores** do que a diferença $d_{obs}$ observada no item a."
   ]
  },
  {
   "cell_type": "code",
   "execution_count": 16,
   "metadata": {},
   "outputs": [
    {
     "name": "stdout",
     "output_type": "stream",
     "text": [
      "Valor-p para teste unicaudal a esquerda: 0.00975\n"
     ]
    }
   ],
   "source": [
    "dperm = pd.Series(dperm)\n",
    "pvalue_esq = len(dperm[dperm < dobs])/len(dperm)\n",
    "print('Valor-p para teste unicaudal a esquerda:', pvalue_esq)\n",
    "\n"
   ]
  },
  {
   "cell_type": "markdown",
   "metadata": {},
   "source": [
    "**Conclusão:**\n",
    "Se valor-p < 𝛼, então há evidências de rejeitar H_0!\n",
    "Aqui temos que valor-p < 5%, dando evidências de que nova política salarial aumenta faturamento média para empresas que fazem sua implantação, com 95% de confiança."
   ]
  }
 ],
 "metadata": {
  "kernelspec": {
   "display_name": "Python 3",
   "language": "python",
   "name": "python3"
  },
  "language_info": {
   "codemirror_mode": {
    "name": "ipython",
    "version": 3
   },
   "file_extension": ".py",
   "mimetype": "text/x-python",
   "name": "python",
   "nbconvert_exporter": "python",
   "pygments_lexer": "ipython3",
   "version": "3.7.1"
  }
 },
 "nbformat": 4,
 "nbformat_minor": 2
}
