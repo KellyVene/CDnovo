{
 "cells": [
  {
   "cell_type": "markdown",
   "metadata": {},
   "source": [
    " ___\n",
    "# Atividade: Teste de hipóteses para média populacional μ assumindo variância populacional desconhecida\n",
    "\n",
    "___\n",
    "\n",
    "## Aula 21\n",
    "\n",
    "## Contexto Teórico\n",
    "\n",
    "**Preparo Prévio:**\n",
    "1. Magalhães e Lima, seção 8.2. Final. Erro do tipo beta e função poder\n",
    "1. Magalhães e Lima, seção 8.3. Testes com variância desconhecida\n",
    "1. Montogmery. Seção 4-4.2 - Erro tipo 2 e tamanho de amostra\n",
    "1. Montogmery. Seção 4-5 - Inferência com variância desconhecida\n",
    "\n",
    "**Hoje:**\n",
    "1. Expandir o Teste de Hipóteses para situações com $\\sigma^2$ desconhecida\n",
    "\n",
    "**Próxima aula:**\n",
    "1. Magalhães e Lima, seção 7.4. Concentrar-se em intervalo de confiança para média amostra\n",
    "1. Bootstrapping - https://www.thoughtco.com/example-of-bootstrapping-3126155\n",
    "1. Bootstrapping - https://www.stat.auckland.ac.nz/~wild/BootAnim/\n",
    "___"
   ]
  },
  {
   "cell_type": "code",
   "execution_count": 2,
   "metadata": {},
   "outputs": [],
   "source": [
    "from __future__ import print_function\n",
    "from ipywidgets import interact, interactive, fixed, interact_manual\n",
    "import ipywidgets as widgets\n",
    "\n",
    "import matplotlib.pyplot as plt\n",
    "import pandas as pd\n",
    "import numpy as np\n",
    "from scipy import stats"
   ]
  },
  {
   "cell_type": "markdown",
   "metadata": {},
   "source": [
    "# Simulação 1 - Teórico vs Amostral: #\n",
    "\n",
    "1. Repita 10000 vezes:\n",
    "    1. Gerar 10 números aleatórios com distribuição $N(0,1)$\n",
    "    1. Calcular o desvio padrão usando std() e adicionar na lista L1. \n",
    "       Aqui, o desvio padrão é calculado pela expressão: \n",
    "        $$\\hat{\\sigma}=\\sqrt{\\sum_{i=1}^{n}\\frac{(x_i-\\bar{x})^2}{n}}$$.\n",
    "    1. Calcular o desvio padrão usando std(ddof=1) e adicionar na lista L2.\n",
    "       Aqui, o desvio padrão amostral é calculado pela expressão: \n",
    "        $$s=\\sqrt{\\sum_{i=1}^{n}\\frac{(x_i-\\bar{x})^2}{(n-1)}}$$.\n",
    "1. Calcule as médias de L1 e L2. Compare."
   ]
  },
  {
   "cell_type": "code",
   "execution_count": 3,
   "metadata": {},
   "outputs": [
    {
     "name": "stdout",
     "output_type": "stream",
     "text": [
      "-0.003550250833764583\n",
      "0.9220822558622483\n",
      "0.9719600395169505\n"
     ]
    }
   ],
   "source": [
    "#X ~ Normal sendo E(X)=0 e Var(X)=1\n",
    "L0 = []\n",
    "L1 = []\n",
    "L2 = []\n",
    "for i in range(10000):\n",
    "    X = stats.norm.rvs(loc=0, scale=1, size=10)\n",
    "    L0.append(X.mean())\n",
    "    L1.append(X.std())\n",
    "    L2.append(X.std(ddof=1))\n",
    "print(np.mean(L0))\n",
    "print(np.mean(L1))\n",
    "print(np.mean(L2))"
   ]
  },
  {
   "cell_type": "markdown",
   "metadata": {},
   "source": [
    "___\n",
    "# Simulação 2 - Normal vs T-Student #"
   ]
  },
  {
   "cell_type": "code",
   "execution_count": 4,
   "metadata": {
    "slideshow": {
     "slide_type": "notes"
    }
   },
   "outputs": [
    {
     "data": {
      "application/vnd.jupyter.widget-view+json": {
       "model_id": "908ab1f86cb94f178a3674150e1ad8c6",
       "version_major": 2,
       "version_minor": 0
      },
      "text/plain": [
       "interactive(children=(IntSlider(value=1, description='graus_lib', min=1), Output()), _dom_classes=('widget-int…"
      ]
     },
     "metadata": {},
     "output_type": "display_data"
    }
   ],
   "source": [
    "#Se não visualizar o pywidgets:\n",
    "#conda install -c conda-forge ipywidgets\n",
    "\n",
    "#Função que utiliza o pywidget\n",
    "@interact(graus_lib = (1, 100, 1))\n",
    "def f(graus_lib = 1):\n",
    "    \n",
    "    #Prints\n",
    "    fig = plt.figure(figsize=(15,6))\n",
    "    \n",
    "    ax1 = fig.add_subplot(121)\n",
    "    ax2 = fig.add_subplot(122)\n",
    "    \n",
    "    #Fit e print da pdf\n",
    "    x = np.arange(-5, 5, 0.01)\n",
    "    ax1.plot(x, stats.norm.pdf(x, loc=0, scale=1), color='r')\n",
    "    ax1.plot(x, stats.t.pdf(x, df=graus_lib, loc=0, scale=1), color='b')\n",
    "    ax1.legend(['Normal', 'T-Student'])\n",
    "    \n",
    "    #QQ-Plot\n",
    "    stats.probplot(stats.t.ppf(np.arange(0.01, 1, 0.01), df=graus_lib), dist=stats.norm, sparams=(0, 1), plot=ax2)\n",
    "    \n",
    "    "
   ]
  },
  {
   "cell_type": "markdown",
   "metadata": {},
   "source": [
    "___\n",
    "# Importantíssimo:\n",
    "\n",
    "1. A padronização $t=\\frac{\\bar{X}-\\mu}{S/\\sqrt{n}}$ apenas tem distribuição *t-student* com $n-1$ graus de liberdade se a variável de interesse X segue uma distribuição Normal exata.\n",
    "    \n",
    "    \n",
    "2. Para estimar a variância populacional $\\sigma^2$, utilizamos a variância amostral dada por $s^2=\\frac{1}{n-1}\\sum^n_{i=1}(x_i-\\bar{x})^2$. Note que essa variância divide por $n-1$ e não por $n$. É o que foi discutido na Simulação 1 deste ipynb.\n",
    "\n",
    "   Para melhor compreensão desse novo estimador, **leia Magalhãoes e Lima, 7a. edição - Capítulo 7 - Exemplo 7.10 descrito na pág. 231**."
   ]
  },
  {
   "cell_type": "code",
   "execution_count": null,
   "metadata": {
    "collapsed": true
   },
   "outputs": [],
   "source": []
  }
 ],
 "metadata": {
  "kernelspec": {
   "display_name": "Python 3",
   "language": "python",
   "name": "python3"
  },
  "language_info": {
   "codemirror_mode": {
    "name": "ipython",
    "version": 3
   },
   "file_extension": ".py",
   "mimetype": "text/x-python",
   "name": "python",
   "nbconvert_exporter": "python",
   "pygments_lexer": "ipython3",
   "version": "3.7.1"
  }
 },
 "nbformat": 4,
 "nbformat_minor": 1
}
