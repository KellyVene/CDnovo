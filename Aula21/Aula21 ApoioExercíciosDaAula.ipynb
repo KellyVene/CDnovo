{
 "cells": [
  {
   "cell_type": "markdown",
   "metadata": {},
   "source": [
    " ___\n",
    "# Atividade: Teste de hipóteses para média populacional μ assumindo variância populacional desconhecida\n",
    "\n",
    "___\n",
    "\n",
    "## Aula 21\n",
    "\n",
    "## Contexto Prático"
   ]
  },
  {
   "cell_type": "code",
   "execution_count": null,
   "metadata": {},
   "outputs": [],
   "source": [
    "import scipy.stats as stats\n",
    "import numpy as np"
   ]
  },
  {
   "cell_type": "markdown",
   "metadata": {},
   "source": [
    "___\n",
    "## Exemplo 1"
   ]
  },
  {
   "cell_type": "markdown",
   "metadata": {},
   "source": [
    "**Definição da variável de interesse:**\n",
    "\n",
    "X: número de pontos que um estudante tira em um exame de inglês.\n",
    "\n",
    "Aqui, $E(X)=\\mu \\mbox{ e } Var(X)=\\sigma^2$, \n",
    "sendo ambos desconhecidos pelo contexto do problema!"
   ]
  },
  {
   "cell_type": "markdown",
   "metadata": {},
   "source": [
    "### Hipóteses em termos do problema e em termos estatísticos\n",
    "\n",
    "$H_0:$ Desconfiança não procede $\\Rightarrow H_0: \\mu=80$\n",
    "\n",
    "$H_1:$ Desconfiança procede que rendimento médio caiu $\\Rightarrow H_1: \\mu<80$"
   ]
  },
  {
   "cell_type": "code",
   "execution_count": null,
   "metadata": {
    "scrolled": true
   },
   "outputs": [],
   "source": [
    "#Exemplo1\n",
    "amostra=(65,70,76,86,59,81,75,72,81,83)\n",
    "\n",
    "n=len(amostra)                                                                                                                                                                                                                                                                                                                                                                                                                                                                                                                                                                                                                             \n",
    "x_obs=np.mean(amostra)\n",
    "s=np.std(amostra, ddof=1)\n",
    "\n",
    "print(\"Tamanho da amostral: n=\", n)\n",
    "print(\"Média amostral observada: x_obs=\", x_obs)\n",
    "print(\"Desvio padrão amostral observada: s=\", s)"
   ]
  },
  {
   "cell_type": "code",
   "execution_count": null,
   "metadata": {},
   "outputs": [],
   "source": [
    "#Via Região Crítica quando hipótese alternativa é UNICAUDAL a esquerda\n",
    "𝛼=0.05\n",
    "\n",
    "μ0 = 80 #sob a hipótese nula\n",
    "\n",
    "t_obs=(x_obs-μ0)/(s/np.sqrt(n))\n",
    "t_c=stats.t.ppf(𝛼, df=n-1)\n",
    "\n",
    "print(\"t_obs=\",t_obs)\n",
    "print(\"t_c=\",t_c)\n",
    "\n",
    "print(\"\\nRejeitamos a hipótese nula H0 se t_obs pertencer a Região Crítica (RC)!!\\n\")\n",
    "\n",
    "print(\"RC={t_obs<\", t_c,\"}\\n\")\n",
    "\n",
    "print(\"Conclusão: Como t_obs pertence a RC, então há evidências de que desconfiança procede, com 95% de confiança!!\")\n"
   ]
  },
  {
   "cell_type": "code",
   "execution_count": null,
   "metadata": {},
   "outputs": [],
   "source": [
    "#Valor p\n",
    "valor_p=stats.t.cdf(x_obs, df=n-1, loc=μ0, scale=s/n**(0.5))\n",
    "\n",
    "print(\"𝛼=\",𝛼)\n",
    "print(\"Valor-p=\",valor_p)\n",
    "\n",
    "print(\"\\nRejeitamos a hipótese nula H0 se valor-p < 𝛼!!\\n\")\n",
    "\n",
    "print(\"Conclusão: Como nos resultados acima vemos que valor-p < 𝛼, então há evidências de que desconfiança procede, com 95% de confiança!!\")\n",
    "\n"
   ]
  },
  {
   "cell_type": "markdown",
   "metadata": {},
   "source": [
    "___\n",
    "## Exemplo 2"
   ]
  },
  {
   "cell_type": "markdown",
   "metadata": {},
   "source": [
    "**Definição da variável de interesse:**\n",
    "\n",
    "X: quantidade de refrigerante dentro de uma lata.\n",
    "\n",
    "Aqui, $E(X)=\\mu \\mbox{ e } Var(X)=\\sigma^2$, \n",
    "sendo ambos desconhecidos pelo contexto do problema!"
   ]
  },
  {
   "cell_type": "markdown",
   "metadata": {},
   "source": [
    "### Hipóteses em termos do problema e em termos estatísticos\n",
    "\n",
    "$H_0:$ Máquina está regulada $\\Rightarrow H_0: \\mu=350$\n",
    "\n",
    "$H_1:$ Máquina não está regulada $\\Rightarrow H_1: \\mu\\neq350$"
   ]
  },
  {
   "cell_type": "code",
   "execution_count": null,
   "metadata": {
    "scrolled": true
   },
   "outputs": [],
   "source": [
    "#Exemplo2\n",
    "n=36                                                                                                                                                                                                                                                                                                                                                                                                                                                                                                                                                                                                                             \n",
    "x_obs=347\n",
    "s=10.5\n",
    "\n",
    "print(\"Tamanho da amostral: n=\", n)\n",
    "print(\"Média amostral observada: x_obs=\", x_obs)\n",
    "print(\"Desvio padrão amostral observada: s=\", s)"
   ]
  },
  {
   "cell_type": "code",
   "execution_count": null,
   "metadata": {},
   "outputs": [],
   "source": []
  },
  {
   "cell_type": "code",
   "execution_count": null,
   "metadata": {},
   "outputs": [],
   "source": []
  },
  {
   "cell_type": "code",
   "execution_count": null,
   "metadata": {},
   "outputs": [],
   "source": []
  },
  {
   "cell_type": "markdown",
   "metadata": {},
   "source": [
    "___\n",
    "## Exercício 1"
   ]
  },
  {
   "cell_type": "markdown",
   "metadata": {},
   "source": [
    "**Definição da variável de interesse:**\n",
    "\n",
    "X: COLOQUE AQUI!!\n",
    "\n",
    "Aqui, $E(X)=\\mu \\mbox{ e } Var(X)=\\sigma^2$, \n",
    "sendo ambos desconhecidos pelo contexto do problema!"
   ]
  },
  {
   "cell_type": "markdown",
   "metadata": {},
   "source": [
    "### Hipóteses em termos do problema e em termos estatísticos\n",
    "\n",
    "$H_0:$ COLOQUE AQUI!! $\\Rightarrow H_0: \\mu??$\n",
    "\n",
    "$H_1:$ COLOQUE AQUI!! $\\Rightarrow H_1: \\mu??$"
   ]
  },
  {
   "cell_type": "code",
   "execution_count": null,
   "metadata": {},
   "outputs": [],
   "source": []
  },
  {
   "cell_type": "code",
   "execution_count": null,
   "metadata": {},
   "outputs": [],
   "source": []
  },
  {
   "cell_type": "code",
   "execution_count": null,
   "metadata": {},
   "outputs": [],
   "source": []
  },
  {
   "cell_type": "code",
   "execution_count": null,
   "metadata": {},
   "outputs": [],
   "source": []
  },
  {
   "cell_type": "markdown",
   "metadata": {},
   "source": [
    "___\n",
    "## Exercício 2"
   ]
  },
  {
   "cell_type": "markdown",
   "metadata": {},
   "source": [
    "**Definição da variável de interesse:**\n",
    "\n",
    "X: COLOQUE AQUI!!\n",
    "\n",
    "Aqui, $E(X)=\\mu \\mbox{ e } Var(X)=\\sigma^2$, \n",
    "sendo ambos desconhecidos pelo contexto do problema!"
   ]
  },
  {
   "cell_type": "markdown",
   "metadata": {},
   "source": [
    "### Hipóteses em termos do problema e em termos estatísticos\n",
    "\n",
    "$H_0:$ COLOQUE AQUI!! $\\Rightarrow H_0: \\mu??$\n",
    "\n",
    "$H_1:$ COLOQUE AQUI!! $\\Rightarrow H_1: \\mu??$"
   ]
  },
  {
   "cell_type": "code",
   "execution_count": null,
   "metadata": {},
   "outputs": [],
   "source": []
  },
  {
   "cell_type": "code",
   "execution_count": null,
   "metadata": {},
   "outputs": [],
   "source": []
  },
  {
   "cell_type": "code",
   "execution_count": null,
   "metadata": {},
   "outputs": [],
   "source": []
  },
  {
   "cell_type": "markdown",
   "metadata": {},
   "source": [
    "___\n",
    "## Exercício 3"
   ]
  },
  {
   "cell_type": "markdown",
   "metadata": {},
   "source": [
    "**Definição da variável de interesse:**\n",
    "\n",
    "X: COLOQUE AQUI!!\n",
    "\n",
    "Aqui, $E(X)=\\mu \\mbox{ e } Var(X)=\\sigma^2$, \n",
    "sendo ambos desconhecidos pelo contexto do problema!"
   ]
  },
  {
   "cell_type": "markdown",
   "metadata": {},
   "source": [
    "### Hipóteses em termos do problema e em termos estatísticos\n",
    "\n",
    "$H_0:$ COLOQUE AQUI!! $\\Rightarrow H_0: \\mu??$\n",
    "\n",
    "$H_1:$ COLOQUE AQUI!! $\\Rightarrow H_1: \\mu??$"
   ]
  },
  {
   "cell_type": "code",
   "execution_count": null,
   "metadata": {},
   "outputs": [],
   "source": []
  },
  {
   "cell_type": "code",
   "execution_count": null,
   "metadata": {},
   "outputs": [],
   "source": []
  },
  {
   "cell_type": "code",
   "execution_count": null,
   "metadata": {},
   "outputs": [],
   "source": []
  }
 ],
 "metadata": {
  "kernelspec": {
   "display_name": "Python 3",
   "language": "python",
   "name": "python3"
  },
  "language_info": {
   "codemirror_mode": {
    "name": "ipython",
    "version": 3
   },
   "file_extension": ".py",
   "mimetype": "text/x-python",
   "name": "python",
   "nbconvert_exporter": "python",
   "pygments_lexer": "ipython3",
   "version": "3.7.1"
  }
 },
 "nbformat": 4,
 "nbformat_minor": 2
}
