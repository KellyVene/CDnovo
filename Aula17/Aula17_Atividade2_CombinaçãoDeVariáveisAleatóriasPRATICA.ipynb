{
 "cells": [
  {
   "cell_type": "markdown",
   "metadata": {},
   "source": [
    " ___\n",
    "# Atividade: Combinação linear de variáveis aleatórias \n",
    "\n",
    "## Contexto Prático\n",
    "\n",
    "___\n",
    "\n",
    "## Aula 17\n",
    "\n",
    "**Preparo Prévio:**\n",
    "1. Montgomery e Runger (6ª Edição): Seção 5.4 (págs 148 a 152). \n",
    "\n",
    "**Hoje:**\n",
    "1. Reconhecer as variáveis aleatórias de interesse em um problema qualquer. \n",
    "2. Aplicar propriedades de esperança e variância quando há combinação linear entre variáveis aleatórias.\n",
    "\n",
    "\n",
    "**Próxima aula:**\n",
    "1. Leitura prévia necessária: Magalhães e Lima (7ª Edição): Seção 7.3 (págs 234 a 240).\n",
    "2. Leitura prévia necessária: Montgomery e Runger (6ª Edição): Capítulo 7 (até Seção 7-2) (págs 191 a 198)\n",
    "___"
   ]
  },
  {
   "cell_type": "code",
   "execution_count": null,
   "metadata": {},
   "outputs": [],
   "source": [
    "%matplotlib inline\n",
    "\n",
    "import os\n",
    "import matplotlib.pyplot as plt\n",
    "import pandas as pd\n",
    "import numpy as np\n",
    "from scipy import stats\n"
   ]
  },
  {
   "cell_type": "code",
   "execution_count": null,
   "metadata": {},
   "outputs": [],
   "source": [
    "print('Esperamos trabalhar no diretório')\n",
    "print(os.getcwd())"
   ]
  },
  {
   "cell_type": "markdown",
   "metadata": {
    "collapsed": true
   },
   "source": [
    "___\n",
    "## Motivação \n",
    "\n",
    "## Soma de variáveis INDEPENDENTES e soma de variáveis CORRELACIONADAS: $X + Y$\n",
    "\n",
    "Você foi designado pelo seu grupo de Acionamentos para comprar os componentes para o projeto final. \n",
    "\n",
    "Depois de cotar em diversas lojas, apurou-se que um pacote com mil peças de resistor de carbono 1/8w tem o preço distribuído como uma normal com média 21 reais e desvio padrão de 2 reais, ou seja, $X$~$N(21;4)$.\n",
    "\n",
    "Já um pacote de jumpers/fios macho-fêmea com 40 unidades de 20 cm tem o preço distribuído como uma normal com média 18,90 reais e desvio padrão de 1,50 reais, ou seja, $Y$~$N(18,90;2,25)$.\n",
    "\n",
    "Dado que você vai precisar dos componentes citados acima, se todos os grupos ($n$) comprarem aleatóriamente em alguma loja, qual será a média e o desvio padrão do gasto dos grupos?\n",
    "\n",
    "No fundo, desejamos saber: Qual é $\\mu_G$ e $\\sigma_G$, em que:\n",
    "\n",
    "$$G = X + Y,$$\n",
    "\n",
    "e $X$ e $Y$ são definidos pelos modelos citados acima.\n",
    "\n",
    "**Inicialmente, assuma que os preços dos produtos sejam independentes (itens 1 até 5).**\n",
    "  \n",
    "**Assuma inicialmente que haja 100 grupos. Assim, simule $n=100$ valores de cada uma das variáveis aleatórias ($X$ e $Y$) respeitando as distribuições fornecidas.**\n",
    "\n",
    "Faça:\n",
    "\n",
    "1. Calcule a correlação entre os valores simulados de X e de Y.\n",
    "\n",
    "2. Obtenha o gasto de cada grupo (que é igual ao gasto com a compra de um pacotinho de resistores MAIS um jumper nas especificações acima descritos) e calcule a esperança e a variância do gasto de um grupo. \n",
    "    \n",
    "3. Agora calcule esperança e variância de $G=X+Y$ utilizando propriedades de esperança e variância da soma de variáveis aleatórias, conforme descritos nos slides das aulas. Compare com os resultados do item anterior e tire conclusões.\n",
    "    \n",
    "4. Construa um histograma com os valores do gasto e verifique se tal formato se assemelha a uma distribuição normal.\n",
    "    \n",
    "5. **Repita os itens de (1) a (4), assumindo $n=1.000$ e depois $n=10.000$.**\n",
    "\n",
    "6. **Repita os itens de (1) a (5), assumindo que os preços dos produtos sejam correlacionados e que essa correlação seja de 0,85. Atenção: aqui será necessário consultar o uso do comando `np.random.multivariate_normal( )`.**\n",
    "\n",
    "___\n"
   ]
  },
  {
   "cell_type": "markdown",
   "metadata": {},
   "source": [
    "### SIMULAÇÃO DE X E Y CONSIDERANDO AS MESMAS INDEPENDENTES"
   ]
  },
  {
   "cell_type": "code",
   "execution_count": null,
   "metadata": {},
   "outputs": [],
   "source": [
    "#Informações do enunciado\n",
    "muX = 21\n",
    "varX = 4\n",
    "muY = 18.90\n",
    "varY = 2.25\n",
    "\n",
    "#correlação entre X e Y - FORÇANDO INDEPENDÊNCIA ENTRE AS VARIÁVEIS\n",
    "corXY = 0\n",
    "\n",
    "#covariância entre X e Y\n",
    "covXY = corXY*(varX*varY)**(0.5)\n",
    "\n",
    "#Médias de X e Y e matriz com variâncias e covariância entre X e Y\n",
    "mean = [muX, muY]\n",
    "cov = [[varX, covXY], [covXY, varY]]  # diagonal covariance\n",
    "\n",
    "print('Média de X e Y:', mean)\n",
    "print('Variâncias e Covariância entre X e Y:', cov)"
   ]
  },
  {
   "cell_type": "code",
   "execution_count": null,
   "metadata": {},
   "outputs": [],
   "source": [
    "n=100\n",
    "x = stats.norm.rvs(loc=muX, scale=varX**(1/2), size=n)\n",
    "y = stats.norm.rvs(loc=muY, scale=varY**(1/2), size=n)\n",
    "\n",
    "#OU DA FORMA ABAIXO PARA FORÇAR A INDEPENDÊNCIA NA SIMULAÇÃO MULTIVARIADA\n",
    "#n=100\n",
    "#x, y = np.random.multivariate_normal(mean, cov, n).T\n",
    "\n",
    "#print(\"Matriz de covariâncias a partir dos n valores simulados:\")\n",
    "#print(np.cov(x,y))"
   ]
  },
  {
   "cell_type": "markdown",
   "metadata": {},
   "source": [
    "___\n",
    "**RESPOSTAS PARA OS ITENS 1 A 5:**"
   ]
  },
  {
   "cell_type": "code",
   "execution_count": null,
   "metadata": {},
   "outputs": [],
   "source": [
    "#item 1\n",
    "#Cálculo da Correlação entre X e Y - via Numpy\n",
    "np.corrcoef(x,y)"
   ]
  },
  {
   "cell_type": "code",
   "execution_count": null,
   "metadata": {},
   "outputs": [],
   "source": [
    "#item 1\n",
    "#Cálculo da Correlação entre X e Y - via Pandas\n",
    "pd.Series(x).corr(pd.Series(y))"
   ]
  },
  {
   "cell_type": "code",
   "execution_count": null,
   "metadata": {},
   "outputs": [],
   "source": [
    "#item 2\n",
    "#Construção do Gasto = X+Y\n",
    "g=[]\n",
    "for i in range(n):\n",
    "    g.append(x[i]+y[i])         \n",
    "\n",
    "mediaG=np.mean(g)\n",
    "variG=np.var(g)\n",
    "\n",
    "print(\"Esperança e variância de G usando os novos valores de G:\")\n",
    "print(\"Esperança de G=\",mediaG)\n",
    "print(\"Variância de G=\",variG)\n"
   ]
  },
  {
   "cell_type": "code",
   "execution_count": null,
   "metadata": {},
   "outputs": [],
   "source": []
  },
  {
   "cell_type": "code",
   "execution_count": null,
   "metadata": {},
   "outputs": [],
   "source": [
    "#item 3\n",
    "#Esperança e variância de G usando propriedades de soma de variáveis aleatórias\n"
   ]
  },
  {
   "cell_type": "code",
   "execution_count": null,
   "metadata": {},
   "outputs": [],
   "source": [
    "#item 4\n",
    "f, (ax1,ax2,ax3) = plt.subplots(1,3,figsize=(16,8))\n",
    "\n",
    "xx = sorted(x)\n",
    "ax1.hist(xx, bins=15, density=True, histtype='stepfilled', alpha=0.2)\n",
    "ax1.plot(xx, stats.norm.pdf(xx, loc=muX, scale=varX**0.5), lw=3, alpha=0.6)\n",
    "ax1.set_title('RESISTORES')\n",
    "ax1.set_xlabel('preço resistores')\n",
    "ax1.set_ylabel('Densidade')\n",
    "ax1.set_xlim(10,30)\n",
    "ax1.set_ylim(0,.30)\n",
    "\n",
    "yy = sorted(y)\n",
    "ax2.hist(yy, bins=15, density=True, histtype='stepfilled', alpha=0.2)\n",
    "ax2.plot(yy, stats.norm.pdf(yy, loc=muY, scale=varY**0.5), 'b', lw=3, alpha=0.6)\n",
    "ax2.set_title('JUMPERS')\n",
    "ax2.set_xlabel('preço jumpers')\n",
    "ax2.set_ylabel('Densidade')\n",
    "ax2.set_xlim(10,30)\n",
    "ax2.set_ylim(0,.30)\n",
    "\n",
    "gg = sorted(g)\n",
    "ax3.hist(gg, bins=15, density=True, histtype='stepfilled', alpha=0.2)\n",
    "ax3.plot(gg, stats.norm.pdf(gg, loc=mediaG, scale=variG**0.5), 'r', lw=3, alpha=0.6)\n",
    "ax3.set_title('GASTO')\n",
    "ax3.set_xlabel('preço gasto')\n",
    "ax3.set_ylabel('Densidade')\n",
    "ax3.set_xlim(20,60)\n",
    "ax3.set_ylim(0,.30)\n",
    "\n",
    "plt.tight_layout(1)\n",
    "plt.show()"
   ]
  },
  {
   "cell_type": "code",
   "execution_count": null,
   "metadata": {},
   "outputs": [],
   "source": [
    "#item 5\n",
    "#n=1000 e n=10000"
   ]
  },
  {
   "cell_type": "markdown",
   "metadata": {
    "collapsed": true
   },
   "source": [
    "___\n",
    "### Assumindo correlação igual a 0,85 entre X e Y!"
   ]
  },
  {
   "cell_type": "markdown",
   "metadata": {},
   "source": [
    "### SIMULAÇÃO DE X E Y CONSIDERANDO AS MESMAS DEPENDENTES:"
   ]
  },
  {
   "cell_type": "code",
   "execution_count": null,
   "metadata": {},
   "outputs": [],
   "source": [
    "#item 6"
   ]
  },
  {
   "cell_type": "code",
   "execution_count": null,
   "metadata": {},
   "outputs": [],
   "source": [
    "#Informações do enunciado\n",
    "muX = 21\n",
    "varX = 4\n",
    "muY = 18.90\n",
    "varY = 2.25\n",
    "\n",
    "#correlação entre X e Y - DEPENDÊNCIA\n",
    "corXY = 0.85\n",
    "\n",
    "#covariância entre X e Y\n",
    "covXY = corXY*(varX*varY)**(0.5)\n",
    "\n",
    "#Médias de X e Y e matriz com variâncias e covariância entre X e Y\n",
    "mean = [muX, muY]\n",
    "cov = [[varX, covXY], [covXY, varY]]  # diagonal covariance\n",
    "\n",
    "print('Média de X e Y:', mean)\n",
    "print('Variâncias e Covariância entre X e Y:', cov)"
   ]
  },
  {
   "cell_type": "code",
   "execution_count": null,
   "metadata": {},
   "outputs": [],
   "source": [
    "#Simule x e y\n"
   ]
  },
  {
   "cell_type": "markdown",
   "metadata": {},
   "source": [
    "___\n",
    "**RESPOSTAS PARA ITEM 6 - REPETINDO ITENS 1 A 5 COM DEPENDÊNCIA:**"
   ]
  },
  {
   "cell_type": "code",
   "execution_count": null,
   "metadata": {},
   "outputs": [],
   "source": [
    "#item 6.1\n",
    "#Cálculo da Correlação entre X e Y - via Pandas\n",
    "\n"
   ]
  },
  {
   "cell_type": "code",
   "execution_count": null,
   "metadata": {},
   "outputs": [],
   "source": [
    "#item 6.2\n",
    "#Construção do Gasto = X+Y\n",
    "\n"
   ]
  },
  {
   "cell_type": "code",
   "execution_count": null,
   "metadata": {},
   "outputs": [],
   "source": [
    "#item 6.3\n",
    "#Esperança e variância de G usando propriedades de soma de variáveis aleatórias\n",
    "\n"
   ]
  },
  {
   "cell_type": "code",
   "execution_count": null,
   "metadata": {},
   "outputs": [],
   "source": [
    "#item 6.4\n",
    "\n",
    "\n"
   ]
  },
  {
   "cell_type": "code",
   "execution_count": null,
   "metadata": {},
   "outputs": [],
   "source": [
    "#item 6.5\n",
    "#n=1000 e n=10000\n",
    "\n"
   ]
  },
  {
   "cell_type": "markdown",
   "metadata": {},
   "source": [
    "___\n",
    "# EXERCÍCIOS:"
   ]
  },
  {
   "cell_type": "markdown",
   "metadata": {},
   "source": [
    "___\n",
    "## Exercício 1 \n",
    "\n",
    "Um processo industrial pode ser executado em duas etapas independentes. O tempo gasto em cada etapa segue uma distribuição com média de 5 horas e desvio-padrão de 10 horas. \n",
    "Um engenheiro resolveu modificar o processo de produção fazendo com que seja executado numa única fase, cujo tempo de execução é o dobro da primeira etapa do processo atual.\n",
    "Vale a pena adotar o processo proposto pelo engenheiro?\n"
   ]
  },
  {
   "cell_type": "code",
   "execution_count": null,
   "metadata": {},
   "outputs": [],
   "source": []
  },
  {
   "cell_type": "code",
   "execution_count": null,
   "metadata": {},
   "outputs": [],
   "source": []
  },
  {
   "cell_type": "code",
   "execution_count": null,
   "metadata": {},
   "outputs": [],
   "source": []
  },
  {
   "cell_type": "markdown",
   "metadata": {},
   "source": [
    "___\n",
    "## Exercício 2 \n",
    "\n",
    "Uma pessoa irá comprar uma camisa e uma calça. Os dois produtos serão adquiridos numa mesma loja. O preço da camisa segue uma distribuição aproximadamente normal de média 45,00 reais e desvio-padrão 3,00 reais. O preço da calça segue uma distribuição aproximadamente normal de média 60,00 reais e desvio-padrão 5,00 reais. Sabe-se ainda que a correlação entre os preços da camisa e da calça é da ordem de 0,25 e que o gasto com a compra de uma camisa e uma calça seja modelado por uma distribuição normal.\n",
    "\n",
    "a) Uma pessoa possui apenas 95,00 reais para comprar a camisa e a calça, indo a um único estabelecimento escolhido ao acaso, qual é a probabilidade de conseguir comprar os dois produtos? Considere que o gasto total com a compra de uma calça e uma camisa também segue uma distribuição aproximadamente normal.\n",
    "\n",
    "b) Indo a um único estabelecimento, qual a probabilidade de se pagar mais caro na camisa do que na calça?\n",
    "\n"
   ]
  },
  {
   "cell_type": "code",
   "execution_count": null,
   "metadata": {},
   "outputs": [],
   "source": []
  },
  {
   "cell_type": "code",
   "execution_count": null,
   "metadata": {},
   "outputs": [],
   "source": []
  },
  {
   "cell_type": "code",
   "execution_count": null,
   "metadata": {},
   "outputs": [],
   "source": []
  },
  {
   "cell_type": "markdown",
   "metadata": {},
   "source": [
    "___\n",
    "## Exercício 3\n",
    "\n",
    "O preço de compra, em reais, de cada unidade da matéria-prima M1 não é fixo (único), pois pode variar de região para região brasileira. Neste caso, assuma que o preço de M1 pode ser modelado por uma distribuição normal com média 15 reais e desvio padrão 3 reais. \n",
    "\n",
    "a) Qual é o menor valor cobrado pela matéria-prima M1 referente aos 39% dos locais mais careiros?\n",
    "\n",
    "b) Um determinado produto, que será lançado no mercado, é composto por três unidades de mesmo valor da matéria-prima M1. Ainda, na fabricação desse produto, há um custo fixo de 30 reais por produto produzido. O valor comercializado de cada produto será definido para que se tenha um lucro de 35% sobre o valor da etiqueta. Encontre a esperança, variância e distribuição do valor comercializado de cada produto.\n"
   ]
  },
  {
   "cell_type": "code",
   "execution_count": null,
   "metadata": {},
   "outputs": [],
   "source": []
  },
  {
   "cell_type": "code",
   "execution_count": null,
   "metadata": {},
   "outputs": [],
   "source": []
  },
  {
   "cell_type": "code",
   "execution_count": null,
   "metadata": {},
   "outputs": [],
   "source": []
  }
 ],
 "metadata": {
  "anaconda-cloud": {},
  "kernelspec": {
   "display_name": "Python 3",
   "language": "python",
   "name": "python3"
  },
  "language_info": {
   "codemirror_mode": {
    "name": "ipython",
    "version": 3
   },
   "file_extension": ".py",
   "mimetype": "text/x-python",
   "name": "python",
   "nbconvert_exporter": "python",
   "pygments_lexer": "ipython3",
   "version": "3.7.1"
  }
 },
 "nbformat": 4,
 "nbformat_minor": 1
}
