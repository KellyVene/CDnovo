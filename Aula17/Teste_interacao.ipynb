{
 "cells": [
  {
   "cell_type": "markdown",
   "metadata": {},
   "source": [
    "# Versão interativa"
   ]
  },
  {
   "cell_type": "markdown",
   "metadata": {},
   "source": [
    "Este notebook demostra a distribuição resultante da soma de uma uniforme e uma normal"
   ]
  },
  {
   "cell_type": "code",
   "execution_count": 1,
   "metadata": {},
   "outputs": [],
   "source": [
    "import numpy as np\n",
    "import matplotlib.pyplot as plt\n",
    "from scipy.stats import norm, binom, uniform, expon\n",
    "\n",
    "from ipywidgets import interact, FloatSlider, IntSlider\n",
    "\n",
    "# %matplotlib notebook\n",
    "%matplotlib inline\n"
   ]
  },
  {
   "cell_type": "code",
   "execution_count": 2,
   "metadata": {},
   "outputs": [],
   "source": [
    "eixo_x = np.linspace(-1, 10, 300)\n",
    "def plota(loc_unif, scale_unif, mu_exp, n=400):\n",
    "    x_ = uniform.rvs(loc=loc_unif, scale=scale_unif, size=n)\n",
    "    y_ = expon.rvs(scale=mu_exp, size=n)\n",
    "    z_ = x_ + y_ # note que estamos somando elemento a elemento de x_ e y_ e obtendo um novo array\n",
    "    pdf_unif = uniform.pdf(eixo_x, loc=loc_unif, scale=scale_unif)\n",
    "    pdf_exp = expon.pdf(eixo_x, scale=mu_exp)\n",
    "    plt.plot(eixo_x, pdf_unif, label=\"uniforme\")\n",
    "    plt.plot(eixo_x, pdf_exp, label=\"exponencial\")\n",
    "    plt.hist(z_, label=\"z\", bins=25, density=True)\n",
    "    \n",
    "    plt.legend()"
   ]
  },
  {
   "cell_type": "code",
   "execution_count": 3,
   "metadata": {},
   "outputs": [
    {
     "data": {
      "application/vnd.jupyter.widget-view+json": {
       "model_id": "2d754aeeb2e24bf09fdb9b8d3c66f0b0",
       "version_major": 2,
       "version_minor": 0
      },
      "text/plain": [
       "interactive(children=(FloatSlider(value=2.0, description='loc_unif', max=10.0, min=-4.0, step=0.5), FloatSlide…"
      ]
     },
     "metadata": {},
     "output_type": "display_data"
    }
   ],
   "source": [
    "interact(plota, \n",
    "         loc_unif=FloatSlider(min=-4, max=10, step=0.5, value=2),\n",
    "         scale_unif = FloatSlider(min=5, max=10, step=0.5, value=3),\n",
    "         mu_exp = FloatSlider(min=0.2, max=20, step=0.1, value=3),\n",
    "         n=IntSlider(min=400, max=1600, step=10, value=900, continuous_update=False));"
   ]
  },
  {
   "cell_type": "code",
   "execution_count": null,
   "metadata": {},
   "outputs": [],
   "source": []
  }
 ],
 "metadata": {
  "kernelspec": {
   "display_name": "Python 3",
   "language": "python",
   "name": "python3"
  },
  "language_info": {
   "codemirror_mode": {
    "name": "ipython",
    "version": 3
   },
   "file_extension": ".py",
   "mimetype": "text/x-python",
   "name": "python",
   "nbconvert_exporter": "python",
   "pygments_lexer": "ipython3",
   "version": "3.7.1"
  }
 },
 "nbformat": 4,
 "nbformat_minor": 2
}
