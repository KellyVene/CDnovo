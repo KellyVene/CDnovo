{
 "cells": [
  {
   "cell_type": "markdown",
   "metadata": {},
   "source": [
    "___\n",
    "# Atividade: Combinação linear de variáveis aleatórias \n",
    "\n",
    "## Contexto Teórico\n",
    "___\n",
    "\n",
    "## Aula 17\n",
    "\n",
    "**Preparo Prévio:**\n",
    "1. Montgomery e Runger (6ª Edição): Seção 5.4 (págs 148 a 152). \n",
    "\n",
    "**Hoje:**\n",
    "1. Reconhecer as variáveis aleatórias de interesse em um problema qualquer. \n",
    "2. Aplicar propriedades de esperança e variância quando há combinação linear entre variáveis aleatórias.\n",
    "\n",
    "\n",
    "**Próxima aula:**\n",
    "1. Leitura prévia necessária: Magalhães e Lima (7ª Edição): Seção 7.3 (págs 234 a 240).\n",
    "2. Leitura prévia necessária: Montgomery e Runger (6ª Edição): Capítulo 7 (até Seção 7-2) (págs 191 a 198)\n",
    "___"
   ]
  },
  {
   "cell_type": "markdown",
   "metadata": {},
   "source": [
    "___\n",
    "## Motivação \n",
    "\n",
    "A seguir, considere duas variáveis aleatórias, ambas contínuas, cujo objetivo seja somá-las!"
   ]
  },
  {
   "cell_type": "markdown",
   "metadata": {},
   "source": [
    "Vamos criar um experimento. Sejam:\n",
    "\n",
    " $X \\sim$ Uniforme$(4,7)$, ou seja, $a=4$ e $b=7$\n",
    "\n",
    "e \n",
    "\n",
    " $Y \\sim$ Exponencial$(3)$, ou seja, $\\beta=3$.\n",
    "\n",
    "Inicialmente realizaremos o plot de ambas as distribuições univariadamente. Veja Aula12 caso tenha dúvidas com essas duas distribuições.\n"
   ]
  },
  {
   "cell_type": "code",
   "execution_count": 1,
   "metadata": {},
   "outputs": [],
   "source": [
    "import pandas as pd\n",
    "import numpy as np\n",
    "from scipy.stats import uniform, expon\n",
    "import matplotlib.pyplot as plt\n",
    "%matplotlib inline"
   ]
  },
  {
   "cell_type": "code",
   "execution_count": 2,
   "metadata": {},
   "outputs": [],
   "source": [
    "# Vamos criar uma faixa no eixo x, válida para ambas\n",
    "eixo_x = np.linspace(-1, 15, 300)"
   ]
  },
  {
   "cell_type": "code",
   "execution_count": 3,
   "metadata": {},
   "outputs": [],
   "source": [
    "# X: uniforme entre 4 a 7\n",
    "a = 4\n",
    "b = 7\n",
    "loc_unif = a\n",
    "scale_unif = b - a # Veja o zôo de distribuições\n",
    "pdf_unif = uniform.pdf(eixo_x, loc=loc_unif, scale=scale_unif)"
   ]
  },
  {
   "cell_type": "code",
   "execution_count": 4,
   "metadata": {},
   "outputs": [],
   "source": [
    "# Y: exponencial com média 3\n",
    "scale_exp = 3\n",
    "pdf_exp = expon.pdf(eixo_x, scale=scale_exp)"
   ]
  },
  {
   "cell_type": "markdown",
   "metadata": {},
   "source": [
    "___\n",
    "Agora realizaremos o *plot* de ambas sobre o mesmo eixo:"
   ]
  },
  {
   "cell_type": "code",
   "execution_count": 5,
   "metadata": {
    "scrolled": true
   },
   "outputs": [
    {
     "data": {
      "image/png": "[encoded data removed]",
      "text/plain": [
       "<Figure size 432x288 with 1 Axes>"
      ]
     },
     "metadata": {
      "needs_background": "light"
     },
     "output_type": "display_data"
    }
   ],
   "source": [
    "plt.plot(eixo_x, pdf_unif, label=\"uniforme\")\n",
    "plt.plot(eixo_x, pdf_exp, label=\"exponencial\")\n",
    "plt.legend(loc='upper right');\n"
   ]
  },
  {
   "cell_type": "markdown",
   "metadata": {},
   "source": [
    "## Entretanto, o que significa fazer $Z = X + Y$ ?"
   ]
  },
  {
   "cell_type": "markdown",
   "metadata": {},
   "source": [
    "___\n",
    "## Programando a função X + Y"
   ]
  },
  {
   "cell_type": "markdown",
   "metadata": {},
   "source": [
    "Para vermos como ficaria a função $X + Y$, devemos:\n",
    "* Obter uma amostra de X\n",
    "* Obter uma amostra de Y\n",
    "* Somar ambas as amostras\n",
    "\n",
    "No `scipy.stats`, a função que gera uma amostra conforme uma distribuição é a `rvs()`. Por exemplo, `uniform.rvs()` ou `expon.rvs`\n",
    "\n",
    "Desta forma, vamos programar $Z = X + Y$"
   ]
  },
  {
   "cell_type": "code",
   "execution_count": 6,
   "metadata": {},
   "outputs": [],
   "source": [
    "n = 50000\n",
    "amostras = []\n",
    "\n",
    "for i in range(n):\n",
    "    x = uniform.rvs(loc=loc_unif, scale=scale_unif)\n",
    "    y = expon.rvs(scale=scale_exp)\n",
    "    z = x + y\n",
    "    amostras.append(z)\n"
   ]
  },
  {
   "cell_type": "code",
   "execution_count": 7,
   "metadata": {},
   "outputs": [
    {
     "data": {
      "text/plain": [
       "4.8512621443919395"
      ]
     },
     "execution_count": 7,
     "metadata": {},
     "output_type": "execute_result"
    }
   ],
   "source": [
    "x"
   ]
  },
  {
   "cell_type": "markdown",
   "metadata": {},
   "source": [
    "Dependendo das distribuições somadas, a fórmula da distribuição resultante é conhecida. \n",
    "\n",
    "Agora vamos proceder de forma empírica e visualizar apenas o histograma do resultado, que deve lembrar o formato da distribuição resultante."
   ]
  },
  {
   "cell_type": "code",
   "execution_count": 8,
   "metadata": {},
   "outputs": [
    {
     "data": {
      "image/png": "[encoded data removed]",
      "text/plain": [
       "<Figure size 432x288 with 1 Axes>"
      ]
     },
     "metadata": {
      "needs_background": "light"
     },
     "output_type": "display_data"
    }
   ],
   "source": [
    "plt.hist(amostras, label=\"z\", bins=80, density=True)\n",
    "plt.plot(eixo_x, pdf_unif, label=\"uniforme\")\n",
    "plt.plot(eixo_x, pdf_exp, label=\"exponencial\")\n",
    "plt.legend(loc='upper right');"
   ]
  },
  {
   "cell_type": "markdown",
   "metadata": {},
   "source": [
    "**Pontos importantes:** Implementar $X+Y$ é somar uma amostra de $X$ com uma amostra de $Y$ e obter uma nova distribuição, cuja área também valerá $1$!!!"
   ]
  },
  {
   "cell_type": "markdown",
   "metadata": {},
   "source": [
    "___\n",
    "## Melhorando a performance na simulação\n",
    "\n",
    "Ao invés de fazer o *loop* para gerar $n$ amostrar em Python, podemos já pedir à função `rvs()` que realize $n$ sorteios utilizando argumento `size=n`. "
   ]
  },
  {
   "cell_type": "code",
   "execution_count": 9,
   "metadata": {},
   "outputs": [],
   "source": [
    "x_ = uniform.rvs(loc=loc_unif, scale=scale_unif, size=n)\n",
    "y_ = expon.rvs(scale=scale_exp, size=n)\n",
    "z_ = x_ + y_ # note que estamos somando elemento a elemento de x_ e y_ e obtendo um novo array"
   ]
  },
  {
   "cell_type": "markdown",
   "metadata": {},
   "source": [
    "Analisando associação entre as duas variáveis simuladas X e Y:"
   ]
  },
  {
   "cell_type": "code",
   "execution_count": 10,
   "metadata": {},
   "outputs": [
    {
     "data": {
      "text/plain": [
       "array([[1.00000000e+00, 1.26980801e-04],\n",
       "       [1.26980801e-04, 1.00000000e+00]])"
      ]
     },
     "execution_count": 10,
     "metadata": {},
     "output_type": "execute_result"
    }
   ],
   "source": [
    "#Cálculo da Correlação entre X e Y - via Numpy\n",
    "np.corrcoef(x_,y_)"
   ]
  },
  {
   "cell_type": "code",
   "execution_count": 11,
   "metadata": {},
   "outputs": [
    {
     "data": {
      "text/plain": [
       "0.00012698080091552767"
      ]
     },
     "execution_count": 11,
     "metadata": {},
     "output_type": "execute_result"
    }
   ],
   "source": [
    "#Cálculo da Correlação entre X e Y - via Pandas\n",
    "pd.Series(x_).corr(pd.Series(y_))"
   ]
  },
  {
   "cell_type": "code",
   "execution_count": 12,
   "metadata": {},
   "outputs": [
    {
     "data": {
      "text/plain": [
       "0.00032889902241118956"
      ]
     },
     "execution_count": 12,
     "metadata": {},
     "output_type": "execute_result"
    }
   ],
   "source": [
    "#Cálculo da Covariância entre X e Y - via Pandas\n",
    "pd.Series(x_).cov(pd.Series(y_))"
   ]
  },
  {
   "cell_type": "markdown",
   "metadata": {},
   "source": [
    "Observe que o resultado não se altera, mas o desempenho é melhor"
   ]
  },
  {
   "cell_type": "code",
   "execution_count": 13,
   "metadata": {
    "scrolled": true
   },
   "outputs": [
    {
     "data": {
      "image/png": "[encoded data removed]",
      "text/plain": [
       "<Figure size 432x288 with 1 Axes>"
      ]
     },
     "metadata": {
      "needs_background": "light"
     },
     "output_type": "display_data"
    }
   ],
   "source": [
    "plt.hist(z_, label=\"z\", bins=80, density=True)\n",
    "plt.plot(eixo_x, pdf_unif, label=\"uniforme\")\n",
    "plt.plot(eixo_x, pdf_exp, label=\"exponencial\")\n",
    "plt.legend(loc='upper right');"
   ]
  },
  {
   "cell_type": "markdown",
   "metadata": {},
   "source": [
    "___\n",
    "### ESTUDANDO PROPRIEDADES DE ESPERANÇA E VARIÂNCIA EM COMBINAÇÃO LINEAR DE VARIÁVEIS ALEATÓRIAS:"
   ]
  },
  {
   "cell_type": "markdown",
   "metadata": {},
   "source": [
    "### E(Z): Valor esperado da Z calculada a partir dos dados gerados"
   ]
  },
  {
   "cell_type": "code",
   "execution_count": 14,
   "metadata": {},
   "outputs": [
    {
     "data": {
      "text/plain": [
       "8.52348382837734"
      ]
     },
     "execution_count": 14,
     "metadata": {},
     "output_type": "execute_result"
    }
   ],
   "source": [
    "z_.mean()"
   ]
  },
  {
   "cell_type": "code",
   "execution_count": 15,
   "metadata": {},
   "outputs": [
    {
     "data": {
      "text/plain": [
       "8.52348382837734"
      ]
     },
     "execution_count": 15,
     "metadata": {},
     "output_type": "execute_result"
    }
   ],
   "source": [
    "np.mean(z_)"
   ]
  },
  {
   "cell_type": "markdown",
   "metadata": {},
   "source": [
    "### Var(Z): Variância da Z calculada a partir dos dados gerados"
   ]
  },
  {
   "cell_type": "code",
   "execution_count": 16,
   "metadata": {},
   "outputs": [
    {
     "data": {
      "text/plain": [
       "9.724990329151586"
      ]
     },
     "execution_count": 16,
     "metadata": {},
     "output_type": "execute_result"
    }
   ],
   "source": [
    "z_.var()"
   ]
  },
  {
   "cell_type": "code",
   "execution_count": 17,
   "metadata": {},
   "outputs": [
    {
     "data": {
      "text/plain": [
       "9.724990329151586"
      ]
     },
     "execution_count": 17,
     "metadata": {},
     "output_type": "execute_result"
    }
   ],
   "source": [
    "np.var(z_, ddof=0) # o denominador da variância tem um termo (n - ddof)."
   ]
  },
  {
   "cell_type": "markdown",
   "metadata": {},
   "source": [
    "___\n",
    "## Contrastando com previsão teórica\n",
    "\n",
    "Dica: Veja `Aula12 PARTE 2 Modelos Probabilísticos Contínuos - Uniforme e exponencial.pdf`\n",
    "\n",
    "### E(Z): Valor esperado da Z calculada a partir da teoria\n",
    "\n",
    "**Previsão teórica de E(Z) = E(X)  + E(Y)**\n",
    "\n",
    "Relembrando:\n",
    "\n",
    "- Para a Uniforme temos:\n",
    "\n",
    "$$E(X) = \\frac{a + b}{2} = 5.5$$\n",
    "\n",
    "- Para a Exponencial temos:\n",
    "\n",
    "$$E(Y) = \\beta = 3$$\n",
    "\n",
    "Portanto, \n",
    "\n",
    "$$E(Z) = E(X + Y) = 8.5$$\n",
    "\n",
    "\n",
    "### Var(Z): Variância da Z calculada a partir da teoria\n",
    "\n",
    "**Previsão teórica de Var(Z) = Var(X) + Var(Y) + 2 * Cov(X,Y)**\n",
    "\n",
    "Relembrando:\n",
    "\n",
    "- Para a Uniforme temos:\n",
    "\n",
    "$$ \\sigma^2_X = Var(X) = \\frac{(b-a)^2}{12} = 0.75$$\n",
    "\n",
    "- Para a exponencial temos:\n",
    "\n",
    "$$\\sigma^2_Y = Var(Y) = \\beta^2 = 9$$\n",
    "\n",
    "Portanto, assumindo que as variáveis são INDEPENDENTES até mesmo pela maneira que foram geradas, então:\n",
    "\n",
    "$$Var(Z) = Var(X) + Var(Y) = \\sigma_X^2 + \\sigma_Y^2 =  9.75$$\n",
    "\n",
    "\n",
    "**Os valores de E(Z) e Var(Z) calculados a partir dos dados gerados ficam bem próximos da previsão teórica!**"
   ]
  },
  {
   "cell_type": "markdown",
   "metadata": {},
   "source": [
    "___\n",
    "# EXERCÍCIOS"
   ]
  },
  {
   "cell_type": "markdown",
   "metadata": {},
   "source": [
    "___\n",
    "## Exercício 1"
   ]
  },
  {
   "cell_type": "markdown",
   "metadata": {},
   "source": [
    "Sejam $X \\sim Exp(\\beta=10)$ e $Y \\sim Exp(\\beta=20)$, duas variáveis aleatórias independentes.  \n",
    "\n",
    "Vamos definir a variável aleatória $Z$ como $Z = 2X + 3Y$\n",
    "\n",
    "Responda:\n",
    "\n",
    "**a.** Qual deve ser $E(Z)$ e $Var(Z)$? Responda usando a teoria."
   ]
  },
  {
   "cell_type": "markdown",
   "metadata": {},
   "source": [
    "**Resposta**:\n",
    "\n",
    "### Esperança de Z:\n",
    "\n",
    "$E[Z] = E[2 X + 3 Y] = E[2 X] + E[3 Y] = 2 E[X] + 3 E[Y]$\n",
    "\n",
    "Como $X \\sim Exp(10)$, então $E[X] = 10$.\n",
    "\n",
    "Como $Y \\sim Exp(20)$, então $E[Y] = 20$.\n",
    "\n",
    "Portanto $E[Z] = 2 E[X] + 3 E[Y] = 2 \\times 10 + 3 \\times 20 = 80$\n",
    "\n",
    "\n",
    "### Variância de Z: \n",
    "\n",
    "$Var[Z] = Var[2 X + 3 Y] = Var[2 X] + Var[3 Y] + 2 * Cov(2 X, 3 Y) = 2^2 Var[X] + 3^2 Var[Y] + 2\\times 3\\times 4\\times Cov(X,Y)$\n",
    "\n",
    "Como $X \\sim Exp(10)$, então $Var[X] = 10^2 = 100$.\n",
    "\n",
    "Como $Y \\sim Exp(20)$, então $Var[Y] = 20^2 = 400$.\n",
    "\n",
    "Portanto $Var[Z] = 4 Var[X] + 9 Var[Y] + 24\\times Cov(X,Y) = 4\\times 100 + 9\\times 400 + 24\\times 0 = 4000$\n",
    "\n",
    "**Note que assumiu-se independência entre as duas variáveis X e Y!**"
   ]
  },
  {
   "cell_type": "markdown",
   "metadata": {},
   "source": [
    "**b.** Verifique, através de simulação, o resultado anterior.  Não se esqueça de apresentar os valores de $E(Z)$ e $Var(Z)$ obtidos a partir dos dados"
   ]
  },
  {
   "cell_type": "code",
   "execution_count": 25,
   "metadata": {},
   "outputs": [
    {
     "name": "stdout",
     "output_type": "stream",
     "text": [
      "Esperança: E(X) = 9.99, E(Y) = 19.99, E(Z) = 79.95\n",
      "Variância: V(X) = 100.01, V(Y) = 399.65, V(Z) = 3997.33\n",
      "Covariância: Cov(X,Y) = 0.04\n"
     ]
    },
    {
     "data": {
      "image/png": "[encoded data removed]",
      "text/plain": [
       "<Figure size 432x288 with 1 Axes>"
      ]
     },
     "metadata": {
      "needs_background": "light"
     },
     "output_type": "display_data"
    }
   ],
   "source": [
    "n = 1000000\n",
    "X = expon.rvs(scale=10, size=n)\n",
    "Y = expon.rvs(scale=20, size=n)\n",
    "Z = 2*X + 3*Y\n",
    "\n",
    "print(\"Esperança: E(X) = {0:.2f}, E(Y) = {1:.2f}, E(Z) = {2:.2f}\".format(X.mean(), Y.mean(), Z.mean()))\n",
    "print(\"Variância: V(X) = {0:.2f}, V(Y) = {1:.2f}, V(Z) = {2:.2f}\".format(X.var(), Y.var(), Z.var()))\n",
    "print(\"Covariância: Cov(X,Y) = {0:.2f}\".format(pd.Series(X).cov(pd.Series(Y))))\n",
    "\n",
    "plt.hist(Z, bins=100, density=True);"
   ]
  },
  {
   "cell_type": "markdown",
   "metadata": {},
   "source": [
    "___\n",
    "## Exercício 2\n",
    "\n",
    "Dadas duas variáveis aleatórias normais $X$ e $Y$, não correlacionadas entre si, com médias de 100 e 150, e desvios padrão de 30 e 40, respectivamente:\n",
    "\n",
    "**a** Quais seriam $E(X + Y)$ e $V(X + Y)$ conforme a teoria? Que formato teria a distribuição?"
   ]
  },
  {
   "cell_type": "markdown",
   "metadata": {},
   "source": [
    "**Resposta**: \n",
    "\n",
    "Pelo enunciado temos $X \\sim N(\\mu_X=100, \\sigma_X^2=(30)^2)$ e $Y \\sim N(\\mu_Y=150, \\sigma_Y^2=(40)^2)$. Ademais, $X$ e $Y$ não são correlacionadas entre si, portanto $Cov(X, Y)= 0$.\n",
    "\n",
    "Na teoria vimos que \n",
    "\n",
    "* $E(X + Y) = E(X) + E(Y)$ e \n",
    "* $V(X + Y) = V(X) + V(Y) + 2 Cov(X, Y)$.\n",
    "\n",
    "Portanto, neste exercício temos:\n",
    "\n",
    "$$\n",
    "\\begin{align}\n",
    "E(X + Y) & = E(X) + E(Y) \\\\\n",
    "& = \\mu_X + \\mu_Y \\\\\n",
    "& = 100 + 150 \\\\\n",
    "& = 250\n",
    "\\end{align}\n",
    "$$\n",
    "e \n",
    "$$\n",
    "\\begin{align}\n",
    "V(X + Y) & = V(X) + V(Y) + 2 Cov(X, Y) \\\\\n",
    "& = \\sigma_X^2 + \\sigma_Y^2 + 2 Cov(X, Y) \\\\\n",
    "& = 30^2 + 40^2 + 0 \\\\\n",
    "& = 2500\n",
    "\\end{align}\n",
    "$$\n",
    "\n",
    "Por fim, pela \"Propriedade reprodutiva da normal\", a soma de variáveis aleatórias normais INDEPENDENTES (só vale para a normal!) vai também ser normal. Ou seja, \n",
    "\n",
    "$$\n",
    "\\left\\{\n",
    "\\begin{align}\n",
    "& Z = X + Y \\\\\n",
    "& X \\sim N(\\mu_X=100, \\sigma_X^2=(30)^2) \\\\\n",
    "& Y \\sim N(\\mu_Y=150, \\sigma_Y^2=(40)^2) \\\\\n",
    "& Cov(X, Y) = 0\n",
    "\\end{align}\n",
    "\\right\\}\n",
    "\\Rightarrow\n",
    "Z \\sim N(\\mu_Z=250, \\sigma_Z^2 = 2500)\n",
    "$$"
   ]
  },
  {
   "cell_type": "markdown",
   "metadata": {},
   "source": [
    "**b** Simule este resultado."
   ]
  },
  {
   "cell_type": "code",
   "execution_count": 26,
   "metadata": {},
   "outputs": [
    {
     "name": "stdout",
     "output_type": "stream",
     "text": [
      "Esperança: E(X) = 100.02, E(Y) = 150.03, E(Z) = 250.05\n",
      "Variância: V(X) = 899.44, V(Y) = 1601.71, V(Z) = 2499.33\n",
      "Covariância: Cov(X,Y) = -0.91\n"
     ]
    },
    {
     "data": {
      "image/png": "[encoded data removed]",
      "text/plain": [
       "<Figure size 432x288 with 1 Axes>"
      ]
     },
     "metadata": {
      "needs_background": "light"
     },
     "output_type": "display_data"
    }
   ],
   "source": [
    "from scipy.stats import norm\n",
    "\n",
    "n = 1000000\n",
    "X = norm.rvs(loc=100, scale=30, size=n)\n",
    "Y = norm.rvs(loc=150, scale=40, size=n)\n",
    "Z = X + Y\n",
    "\n",
    "print(\"Esperança: E(X) = {0:.2f}, E(Y) = {1:.2f}, E(Z) = {2:.2f}\".format(X.mean(), Y.mean(), Z.mean()))\n",
    "print(\"Variância: V(X) = {0:.2f}, V(Y) = {1:.2f}, V(Z) = {2:.2f}\".format(X.var(), Y.var(), Z.var()))\n",
    "print(\"Covariância: Cov(X,Y) = {0:.2f}\".format(pd.Series(X).cov(pd.Series(Y))))\n",
    "\n",
    "plt.hist(Z, bins=100, density=True);"
   ]
  },
  {
   "cell_type": "code",
   "execution_count": null,
   "metadata": {},
   "outputs": [],
   "source": []
  }
 ],
 "metadata": {
  "kernelspec": {
   "display_name": "Python 3",
   "language": "python",
   "name": "python3"
  },
  "language_info": {
   "codemirror_mode": {
    "name": "ipython",
    "version": 3
   },
   "file_extension": ".py",
   "mimetype": "text/x-python",
   "name": "python",
   "nbconvert_exporter": "python",
   "pygments_lexer": "ipython3",
   "version": "3.7.1"
  }
 },
 "nbformat": 4,
 "nbformat_minor": 2
}
