{
 "cells": [
  {
   "cell_type": "markdown",
   "metadata": {},
   "source": [
    "# Aula 13 - Atividades com distribuição Normal"
   ]
  },
  {
   "cell_type": "code",
   "execution_count": null,
   "metadata": {},
   "outputs": [],
   "source": [
    "import numpy as np\n",
    "import pandas as pd\n",
    "from scipy.stats import norm, probplot\n",
    "\n",
    "import matplotlib.pyplot as plt\n",
    "\n",
    "%matplotlib inline"
   ]
  },
  {
   "cell_type": "markdown",
   "metadata": {},
   "source": [
    "## Caixa de Galton\n",
    "\n",
    "![Caixa de galton](LegalTameChanticleer-size_restricted.gif)\n",
    "\n",
    "[Fonte: https://www.youtube.com/watch?v=UCmPmkHqHXk](https://www.youtube.com/watch?v=UCmPmkHqHXk&t=271s)"
   ]
  },
  {
   "cell_type": "markdown",
   "metadata": {},
   "source": [
    "## Distribuição normal\n",
    "\n",
    "A função densidade de probabilidade (f.d.p.) da distribuição Normal com média $\\mu$ e desvio padrão $\\sigma$ é dada por:\n",
    "\n",
    "$$f(x) = \\frac{1}{\\sqrt{2 \\pi} \\sigma}e^{\\frac{-(x - \\mu)^2}{2 \\sigma^2}}$$\n",
    "\n",
    "Ou seja, nesse caso, temos que:\n",
    "\n",
    "$$E(X) = \\mu$$\n",
    "\n",
    "e também que:\n",
    "\n",
    "$$Var(X) = \\sigma^2$$\n",
    "\n",
    "*Notação:* $X \\sim N(\\mu, \\sigma^2)$ - diz-se que $X$ segue uma distribuição normal com média $\\mu$ e desvio padrão $\\sigma$.\n",
    "\n",
    "\n",
    "A padronização (converter qualquer curva normal na normal padrão) pode ser feita com a seguinte mudança de variáveis:\n",
    "\n",
    "$$Z = \\frac{X-\\mu}{\\sigma}$$  \n",
    "\n",
    "Nesse caso, a f.d.p. de uma normal padrão é dada por:\n",
    "\n",
    "$$f(z) = \\frac{1}{\\sqrt{2 \\pi} }e^{\\frac{-z^2}{2 }}$$\n",
    "\n",
    "Por fim, a normal padrão tem $\\mu=0$ e $\\sigma=1$."
   ]
  },
  {
   "cell_type": "markdown",
   "metadata": {},
   "source": [
    "## Faixas para valores inteiros de $z$ de $\\sigma$, ou seja, $z\\sigma$\n",
    "\n",
    "*Resultados:*\n",
    "\n",
    "$$P(\\mu-1\\sigma < X < \\mu + 1\\sigma) = 0.6827$$\n",
    "\n",
    "$$P(\\mu- 2\\sigma < X < \\mu + 2 \\sigma) = 0.9545$$\n",
    "\n",
    "$$P(\\mu-3\\sigma < X < \\mu + 3\\sigma) = 0.9973$$\n",
    "\n",
    "E também, dada a simetria da distribuição normal, tem-se que \n",
    "\n",
    "$$P(X<\\mu) = P(X>\\mu) = 0.5$$."
   ]
  },
  {
   "cell_type": "markdown",
   "metadata": {},
   "source": [
    "**Vamos verificar os resultados acima com programação:**"
   ]
  },
  {
   "cell_type": "markdown",
   "metadata": {},
   "source": [
    "Para $1 \\sigma$, ou seja, $P(\\mu-1\\sigma < X < \\mu + 1\\sigma)$:"
   ]
  },
  {
   "cell_type": "code",
   "execution_count": null,
   "metadata": {},
   "outputs": [],
   "source": [
    "norm.cdf(1) - norm.cdf(-1)"
   ]
  },
  {
   "cell_type": "markdown",
   "metadata": {},
   "source": [
    "Para 2$\\sigma$, ou seja, $P(\\mu-2\\sigma < X < \\mu + 2\\sigma)$:"
   ]
  },
  {
   "cell_type": "code",
   "execution_count": null,
   "metadata": {},
   "outputs": [],
   "source": [
    "norm.cdf(2) - norm.cdf(-2)"
   ]
  },
  {
   "cell_type": "markdown",
   "metadata": {},
   "source": [
    "Para $3 \\sigma$, ou seja, $P(\\mu-3\\sigma < X < \\mu + 3\\sigma)$:"
   ]
  },
  {
   "cell_type": "code",
   "execution_count": null,
   "metadata": {},
   "outputs": [],
   "source": [
    "norm.cdf(3) - norm.cdf(-3)"
   ]
  },
  {
   "cell_type": "markdown",
   "metadata": {},
   "source": [
    "___\n",
    "## Exercício 1\n",
    "**Exemplo baseado de Montgomery**\n",
    "\n",
    "Assuma que a medida de corrente num pedaço de fio condutor segue uma distribuição normal com média de 10 $mA$ e variância de 4 $mA^2$. \n",
    "\n",
    "a) Qual a probabilidade de ter uma medida que excede $13 mA$? Queremos: $P(X>13)$"
   ]
  },
  {
   "cell_type": "code",
   "execution_count": null,
   "metadata": {},
   "outputs": [],
   "source": []
  },
  {
   "cell_type": "markdown",
   "metadata": {},
   "source": [
    "b) Qual a probabilidade de uma medida entre $9 mA$ e $11 mA$? "
   ]
  },
  {
   "cell_type": "code",
   "execution_count": null,
   "metadata": {},
   "outputs": [],
   "source": []
  },
  {
   "cell_type": "markdown",
   "metadata": {},
   "source": [
    "c) Qual o maior valor de corrente num fio condutor dos $30\\%$ possíveis menores valores?"
   ]
  },
  {
   "cell_type": "code",
   "execution_count": null,
   "metadata": {},
   "outputs": [],
   "source": []
  },
  {
   "cell_type": "markdown",
   "metadata": {},
   "source": [
    "___\n",
    "## Exercício 2\n",
    "**Exemplo baseado de Montgomery**\n",
    "\n",
    "O tempo sem precisar de recarga para bateria de um *laptop*, em condições normais, é distribuído conforme uma normal com média de $260$ min e desvio padrão de $50$ min.\n",
    "\n",
    "a) Qual a probabilidade que a bateria dure mais de 4 horas?"
   ]
  },
  {
   "cell_type": "code",
   "execution_count": null,
   "metadata": {},
   "outputs": [],
   "source": []
  },
  {
   "cell_type": "code",
   "execution_count": null,
   "metadata": {},
   "outputs": [],
   "source": []
  },
  {
   "cell_type": "markdown",
   "metadata": {},
   "source": [
    "b) Quais são os quartis da vida média de bateria? (encontre Q1 e Q3)"
   ]
  },
  {
   "cell_type": "code",
   "execution_count": null,
   "metadata": {},
   "outputs": [],
   "source": []
  },
  {
   "cell_type": "code",
   "execution_count": null,
   "metadata": {},
   "outputs": [],
   "source": []
  },
  {
   "cell_type": "markdown",
   "metadata": {},
   "source": [
    "c) Qual o maior valor de duração de bateria que é atendido em 95% das piores situações?"
   ]
  },
  {
   "cell_type": "code",
   "execution_count": null,
   "metadata": {},
   "outputs": [],
   "source": []
  },
  {
   "cell_type": "markdown",
   "metadata": {},
   "source": [
    "d) Se a bateria durar mais do qu $300$ min, qual a probabilidade de que não ultrapasse $350$ min?"
   ]
  },
  {
   "cell_type": "code",
   "execution_count": null,
   "metadata": {},
   "outputs": [],
   "source": []
  },
  {
   "cell_type": "markdown",
   "metadata": {},
   "source": [
    "___\n",
    "## Exercício 3\n",
    "**Exemplo baseado de Montgomery**\n",
    "\n",
    "Colesterol é um ácido graxo que é componente importante da membrana das células dos animais. A faixa normal para um adulto é entre $120-240$ mg/dl. \n",
    "\n",
    "O Instituto de Nutrição e Saúde das Filipinas descobriu que os adultos daquele país têm média de $159.2$ mg/dl e $84.1$% dos adultos têm um nível de menos que $200$ mg/dl. Suponha que o colesterol é distribuído normalmente."
   ]
  },
  {
   "cell_type": "code",
   "execution_count": null,
   "metadata": {},
   "outputs": [],
   "source": []
  },
  {
   "cell_type": "markdown",
   "metadata": {},
   "source": [
    "a) Encontre o desvio padrão desta distribuição"
   ]
  },
  {
   "cell_type": "code",
   "execution_count": null,
   "metadata": {},
   "outputs": [],
   "source": []
  },
  {
   "cell_type": "code",
   "execution_count": null,
   "metadata": {},
   "outputs": [],
   "source": []
  },
  {
   "cell_type": "markdown",
   "metadata": {},
   "source": [
    "b) Quais são os quartis da distribuição?"
   ]
  },
  {
   "cell_type": "code",
   "execution_count": null,
   "metadata": {},
   "outputs": [],
   "source": []
  },
  {
   "cell_type": "code",
   "execution_count": null,
   "metadata": {},
   "outputs": [],
   "source": []
  },
  {
   "cell_type": "markdown",
   "metadata": {},
   "source": [
    "c) Qual o menor valor de colesterol de 90% da população com piores resultados?"
   ]
  },
  {
   "cell_type": "code",
   "execution_count": null,
   "metadata": {},
   "outputs": [],
   "source": []
  },
  {
   "cell_type": "markdown",
   "metadata": {},
   "source": [
    "d) Um adulto tem risco moderado se está com mais que 2 desvios padrão acima da média. Qual a porcentagem da população que está em risco?"
   ]
  },
  {
   "cell_type": "code",
   "execution_count": null,
   "metadata": {},
   "outputs": [],
   "source": []
  },
  {
   "cell_type": "markdown",
   "metadata": {},
   "source": [
    "___\n",
    "## Exercício 4\n",
    "\n",
    "As notas no quiz final de Ciência dos Dados distribuem-se segundo uma variável aleatória normal com média $6.5$ e desvio padrão $1.6$. O professor deseja dividir a classe em 3 categorias, da seguinte forma: os $30$% que tiveram as melhores notas serão aprovados, os $50$% com notas intermediárias ficarão de exame e os $20$% que tiveram as piores notas serão reprovados. "
   ]
  },
  {
   "cell_type": "code",
   "execution_count": null,
   "metadata": {},
   "outputs": [],
   "source": []
  },
  {
   "cell_type": "markdown",
   "metadata": {},
   "source": [
    "a) Quais os limites de nota entre cada uma das categorias?"
   ]
  },
  {
   "cell_type": "code",
   "execution_count": null,
   "metadata": {},
   "outputs": [],
   "source": []
  },
  {
   "cell_type": "code",
   "execution_count": null,
   "metadata": {},
   "outputs": [],
   "source": []
  },
  {
   "cell_type": "code",
   "execution_count": null,
   "metadata": {},
   "outputs": [],
   "source": []
  },
  {
   "cell_type": "markdown",
   "metadata": {},
   "source": [
    "b) Caso a nota para aprovação (sem ir para exame) fosse igual a $7.0$ e uma turma tivesse $50$ alunos, quantos desses seriam aprovados, em média, sem ir para o exame? "
   ]
  },
  {
   "cell_type": "code",
   "execution_count": null,
   "metadata": {},
   "outputs": [],
   "source": []
  },
  {
   "cell_type": "markdown",
   "metadata": {},
   "source": [
    "___\n",
    "## Exercício 5\n",
    "\n",
    "![](uzumaki_momochi.png)\n",
    "\n",
    "*Esta questão caiu na P1 2016*\n",
    "\n",
    "Você foi selecionado para comprar projetores para sua empresa. Depois de uma pesquisa extensa no mercado, a decisão final será tomada entre modelos de duas marcas: *Uzumaki* e *Momochi*.\n",
    "\n",
    "Os modelos da marca Uzumaki têm um tempo de duração da lâmpada que pode ser modelado com uma distribuição normal com média de $675$ horas e um desvio padrão de $125$\n",
    "\n",
    "Os modelos da marca Momochi pode ser modelados por uma normal com média de $625$ horas e um desvio padrão de $200$."
   ]
  },
  {
   "cell_type": "code",
   "execution_count": null,
   "metadata": {},
   "outputs": [],
   "source": []
  },
  {
   "cell_type": "markdown",
   "metadata": {},
   "source": [
    "a)\tA meta de duração para as lâmpadas é de $830$ horas. Qual marca de projetor você compraria baseado na probabilidade de cada um atingir a meta de duração? Justifique os cálculos."
   ]
  },
  {
   "cell_type": "code",
   "execution_count": null,
   "metadata": {},
   "outputs": [],
   "source": []
  },
  {
   "cell_type": "markdown",
   "metadata": {},
   "source": [
    "b)\tAssuma, independentemente da resposta de (a), que você comprou um projetor Uzumaki e que ele já durou $675$ horas. Qual a probabilidade deste projetor então durar até $925$ horas? "
   ]
  },
  {
   "cell_type": "code",
   "execution_count": null,
   "metadata": {},
   "outputs": [],
   "source": []
  },
  {
   "cell_type": "markdown",
   "metadata": {},
   "source": [
    "c)\tQual a probabilidade de um projetor Momochi durar até $300$ horas? "
   ]
  },
  {
   "cell_type": "code",
   "execution_count": null,
   "metadata": {},
   "outputs": [],
   "source": []
  },
  {
   "cell_type": "markdown",
   "metadata": {},
   "source": [
    "___\n",
    "## Exercício 6"
   ]
  },
  {
   "cell_type": "markdown",
   "metadata": {},
   "source": [
    "Você recebeu o arquivo `dados_normal_1000.txt` com dados de concentração (em $\\mu g/L$) de um determinado poluente em um tanque de combustível\n",
    "\n",
    "Pede-se:\n",
    "\n",
    "1. Visualize o histograma dos dados\n",
    "1. Usando um plot de probabilidade, ou QQ-Plot, verifique se os dados aparentam seguir uma distribuição normal\n",
    "1. Realize o `fit`  de uma distribuição normal, e faça o plot da `pdf` sobre o histograma de densidade da distribuição"
   ]
  },
  {
   "cell_type": "code",
   "execution_count": null,
   "metadata": {},
   "outputs": [],
   "source": [
    "dados = \"\"\n",
    "with open(\"dados_normal_1000.txt\") as f:\n",
    "    dados = \" \".join(f.readlines()) "
   ]
  },
  {
   "cell_type": "code",
   "execution_count": null,
   "metadata": {},
   "outputs": [],
   "source": [
    "dados_float = [float(val) for val in dados.split()]"
   ]
  },
  {
   "cell_type": "code",
   "execution_count": null,
   "metadata": {},
   "outputs": [],
   "source": [
    "# Item 1.\n"
   ]
  },
  {
   "cell_type": "code",
   "execution_count": null,
   "metadata": {},
   "outputs": [],
   "source": [
    "# Item 2.\n"
   ]
  },
  {
   "cell_type": "code",
   "execution_count": null,
   "metadata": {},
   "outputs": [],
   "source": [
    "# Item 3.\n"
   ]
  },
  {
   "cell_type": "code",
   "execution_count": null,
   "metadata": {},
   "outputs": [],
   "source": []
  },
  {
   "cell_type": "code",
   "execution_count": null,
   "metadata": {},
   "outputs": [],
   "source": []
  }
 ],
 "metadata": {
  "kernelspec": {
   "display_name": "Python 3",
   "language": "python",
   "name": "python3"
  },
  "language_info": {
   "codemirror_mode": {
    "name": "ipython",
    "version": 3
   },
   "file_extension": ".py",
   "mimetype": "text/x-python",
   "name": "python",
   "nbconvert_exporter": "python",
   "pygments_lexer": "ipython3",
   "version": "3.7.1"
  }
 },
 "nbformat": 4,
 "nbformat_minor": 2
}
