{
 "cells": [
  {
   "cell_type": "markdown",
   "metadata": {},
   "source": [
    "# Boostrapping - Intervalo de confiança para algum parâmetro para tomada de decisão"
   ]
  },
  {
   "cell_type": "markdown",
   "metadata": {},
   "source": [
    "## Aula 22\n",
    "\n",
    "## Contexto Prático\n",
    "\n",
    "\n",
    "**Preparo Prévio:**\n",
    "1. Magalhães e Lima, seção 7.4. Concentrar-se em intervalo de confiança para média amostra\n",
    "1. Bootstrapping - https://www.thoughtco.com/example-of-bootstrapping-3126155\n",
    "1. Bootstrapping - https://www.stat.auckland.ac.nz/~wild/BootAnim/\n",
    "\n",
    "**Hoje:**\n",
    "1. Entender e implementar o método não paramétrico de Bootstrapping com intuito de avaliar se um parâmetro é igual a um determinado valor ou se parâmetro é $\\neq$ que esse determinado valor.\n",
    "\n",
    "___"
   ]
  },
  {
   "cell_type": "code",
   "execution_count": 1,
   "metadata": {},
   "outputs": [],
   "source": [
    "%matplotlib inline\n",
    "\n",
    "import pandas as pd\n",
    "import numpy as np\n",
    "import matplotlib.pyplot as plt"
   ]
  },
  {
   "cell_type": "markdown",
   "metadata": {},
   "source": [
    "___\n",
    "## Exercício 1\n",
    "\n",
    "# Qualidade do Termopar\n",
    "\n",
    "O tempo de vida, em horas, de um termopar* usado em fornalhas tem distribuição desconhecida. \n",
    "\n",
    "Uma amostra aleatória de 15 termopares resultaram nos seguintes tempos:\n",
    "\n",
    "`553, 552, 567, 579, 550, 541, 537, 553, 552, 546, 538, 553, 581, 539, 529`"
   ]
  },
  {
   "cell_type": "markdown",
   "metadata": {},
   "source": [
    "___\n",
    "**Pergunta 1:** A empresa diz que um termopar deve durar, em média, 560 horas. Há evidências de que essa afirmação seja verdadeira? Considere um coeficiente de confiança de 95%."
   ]
  },
  {
   "cell_type": "markdown",
   "metadata": {},
   "source": [
    "**Deixe claro:**\n",
    "\n",
    "  1. Reconstruir a medida amostral usando o bootstrapping, considerando os dados.\n",
    "\n",
    "  2. Montar as Hipóteses e o intervalo de confiança para o parâmetro de interesse com um nível de confiança de $\\gamma$% recomendado. Concluir em termos do problema!"
   ]
  },
  {
   "cell_type": "markdown",
   "metadata": {},
   "source": [
    "**Resposta:**"
   ]
  },
  {
   "cell_type": "markdown",
   "metadata": {},
   "source": [
    "Parâmetro de interesse aqui: **Média populacional**"
   ]
  },
  {
   "cell_type": "markdown",
   "metadata": {},
   "source": [
    "### Hipóteses em termos do problema e em termos estatísticos\n",
    "\n",
    "$H_0:$ A afirmação da empresa quanto tempo médio de duração procede $\\Rightarrow H_0: \\mu=560$\n",
    "\n",
    "$H_1:$ A afirmação da empresa quanto tempo médio de duração NÃO procede   $\\Rightarrow H_1: \\mu\\neq560$"
   ]
  },
  {
   "cell_type": "code",
   "execution_count": 2,
   "metadata": {},
   "outputs": [
    {
     "name": "stdout",
     "output_type": "stream",
     "text": [
      "Tamanho da Amostra: 15\n",
      "Média amostral: 551.3333333333334\n",
      "Desvio Padrão amostral: 14.811514182586208\n"
     ]
    }
   ],
   "source": [
    "x = [553, 552, 567, 579, 550, 541, 537, 553, 552, 546, 538, 553, 581, 539, 529]\n",
    "x = pd.Series(x)\n",
    "n = len(x)\n",
    "\n",
    "print(\"Tamanho da Amostra: {0}\".format(n))\n",
    "print(\"Média amostral: {0}\".format(np.mean(x)))\n",
    "print(\"Desvio Padrão amostral: {0}\".format(np.std(x, ddof=1)))"
   ]
  },
  {
   "cell_type": "code",
   "execution_count": 3,
   "metadata": {},
   "outputs": [
    {
     "data": {
      "image/png": "[encoded data removed]",
      "text/plain": [
       "<Figure size 432x288 with 1 Axes>"
      ]
     },
     "metadata": {
      "needs_background": "light"
     },
     "output_type": "display_data"
    }
   ],
   "source": [
    "plt.hist(x, density=True, color='orange', alpha=0.8)\n",
    "plt.xlabel(\"Tempo de vida de cada termopar\")\n",
    "plt.ylabel(\"Densidade\");"
   ]
  },
  {
   "cell_type": "code",
   "execution_count": 4,
   "metadata": {},
   "outputs": [
    {
     "name": "stdout",
     "output_type": "stream",
     "text": [
      "Média das médias amostrais:  551.3305693333334\n",
      "Variância das médias amostrais:  13.646418493637336\n"
     ]
    }
   ],
   "source": [
    "#Calculando as médias em cada reamostra JÁ QUE MÉDIA É A CARACTERÍSTICA DE INTERESSE\n",
    "B = 100000\n",
    "X_ = []\n",
    "for i in range(B):\n",
    "    reamostra_x = np.random.choice(x, size=n, replace=True)\n",
    "    X_.append(reamostra_x.mean())\n",
    "\n",
    "print(\"Média das médias amostrais: \", np.mean(X_))\n",
    "print(\"Variância das médias amostrais: \", np.var(X_))"
   ]
  },
  {
   "cell_type": "code",
   "execution_count": 5,
   "metadata": {
    "scrolled": true
   },
   "outputs": [
    {
     "data": {
      "image/png": "[encoded data removed]",
      "text/plain": [
       "<Figure size 432x288 with 1 Axes>"
      ]
     },
     "metadata": {
      "needs_background": "light"
     },
     "output_type": "display_data"
    }
   ],
   "source": [
    "plt.hist(X_, density=True)\n",
    "plt.xlabel(\"médias amostrais geradas pelo Bootstrap\")\n",
    "plt.ylabel(\"Densidade\");"
   ]
  },
  {
   "cell_type": "code",
   "execution_count": 6,
   "metadata": {},
   "outputs": [
    {
     "name": "stdout",
     "output_type": "stream",
     "text": [
      "Limite inferior: 544.4666666666667\n",
      "Limite superior: 558.8666666666667\n"
     ]
    }
   ],
   "source": [
    "#Intervalo de confiança Bootstrap Percentil (ou Quantil)\n",
    "𝛾 = 0.95\n",
    "𝛼 = 1 - 𝛾\n",
    "\n",
    "Lim_inf = np.percentile(X_, (𝛼/2)*100)\n",
    "Lim_sup = np.percentile(X_, (1-𝛼/2)*100)\n",
    "print('Limite inferior:', Lim_inf)\n",
    "print('Limite superior:', Lim_sup)\n"
   ]
  },
  {
   "cell_type": "markdown",
   "metadata": {},
   "source": [
    "**Conclusão:** Como o tempo médio duração desejável de $560$ não faz parte do intervalo de confiança que representa o ATUAL comportamento do tempo médio de duração de termopares, então há evidências de que a afirmação NÃO procede, com 95% de confiança."
   ]
  },
  {
   "cell_type": "markdown",
   "metadata": {},
   "source": [
    "___\n",
    "**Pergunta 2:** A empresa deseja saber se tempo mediano de duração dos termopares é igual a $555$ horas. Assim, verifique se há evidências de que a afirmação procede considerando um coeficiente de confiança de 99%."
   ]
  },
  {
   "cell_type": "markdown",
   "metadata": {},
   "source": [
    "**Deixe claro:**\n",
    "\n",
    "  1. Reconstruir a medida amostral usando o bootstrapping, considerando os dados.\n",
    "\n",
    "  2. Montar as Hipóteses e o intervalo de confiança para o parâmetro de interesse com um nível de confiança de $\\gamma$% recomendado. Concluir em termos do problema!"
   ]
  },
  {
   "cell_type": "markdown",
   "metadata": {},
   "source": [
    "**Resposta:**"
   ]
  },
  {
   "cell_type": "markdown",
   "metadata": {},
   "source": [
    "Parâmetro de interesse aqui: **Mediana populacional**"
   ]
  },
  {
   "cell_type": "markdown",
   "metadata": {},
   "source": [
    "### Hipóteses em termos do problema e em termos estatísticos\n",
    "\n",
    "$H_0:$ Tempo mediano de duração do termopar vale  $\\Rightarrow H_0:$ mediana populacional $=555$\n",
    "\n",
    "$H_1:$ Tempo mediano de duração do termopar não vale   $\\Rightarrow H_1:$ mediana populacional $\\neq555$"
   ]
  },
  {
   "cell_type": "code",
   "execution_count": 7,
   "metadata": {},
   "outputs": [],
   "source": [
    "x = [553, 552, 567, 579, 550, 541, 537, 553, 552, 546, 538, 553, 581, 539, 529]\n",
    "x = pd.Series(x)\n",
    "n = len(x)\n"
   ]
  },
  {
   "cell_type": "code",
   "execution_count": 8,
   "metadata": {},
   "outputs": [
    {
     "name": "stdout",
     "output_type": "stream",
     "text": [
      "Tamanho da Amostra: 15\n",
      "Mediana amostral: 552.0\n"
     ]
    }
   ],
   "source": [
    "print(\"Tamanho da Amostra: {0}\".format(n))\n",
    "print(\"Mediana amostral: {0}\".format(np.median(x)))\n"
   ]
  },
  {
   "cell_type": "code",
   "execution_count": 9,
   "metadata": {},
   "outputs": [
    {
     "name": "stdout",
     "output_type": "stream",
     "text": [
      "Média das medianas amostrais:  550.13783\n"
     ]
    }
   ],
   "source": [
    "#Calculando as MEDIANAS em cada reamostra JÁ QUE MEDIANA É A CARACTERÍSTICA DE INTERESSE\n",
    "B = 100000\n",
    "Med = []\n",
    "for i in range(B):\n",
    "    reamostra_x = np.random.choice(x, size=n, replace=True)\n",
    "    Med.append(np.median(reamostra_x))\n",
    "\n",
    "print(\"Média das medianas amostrais: \", np.mean(Med))\n"
   ]
  },
  {
   "cell_type": "code",
   "execution_count": 10,
   "metadata": {},
   "outputs": [
    {
     "data": {
      "image/png": "[encoded data removed]",
      "text/plain": [
       "<Figure size 432x288 with 1 Axes>"
      ]
     },
     "metadata": {
      "needs_background": "light"
     },
     "output_type": "display_data"
    }
   ],
   "source": [
    "plt.hist(Med, density=True, bins=15, color='red', alpha=0.5)\n",
    "plt.xlabel(\"medianas amostrais geradas pelo Bootstrap\")\n",
    "plt.ylabel(\"Densidade\");"
   ]
  },
  {
   "cell_type": "code",
   "execution_count": 11,
   "metadata": {},
   "outputs": [
    {
     "name": "stdout",
     "output_type": "stream",
     "text": [
      "Limite inferior: 539.0\n",
      "Limite superior: 553.0\n"
     ]
    }
   ],
   "source": [
    "#Intervalo de confiança Bootstrap Percentil (ou Quantil)\n",
    "𝛾 = 0.99\n",
    "𝛼 = 1 - 𝛾\n",
    "\n",
    "Lim_inf = np.percentile(Med, (𝛼/2)*100)\n",
    "Lim_sup = np.percentile(Med, (1-𝛼/2)*100)\n",
    "print('Limite inferior:', Lim_inf)\n",
    "print('Limite superior:', Lim_sup)\n"
   ]
  },
  {
   "cell_type": "markdown",
   "metadata": {},
   "source": [
    "**Conclusão:** Como o tempo de duração desejável de $555$h não faz parte do intervalo de confiança que representa o ATUAL comportamento do tempo MEDIANO de duração de termopares, então há evidências de que a afirmação NÃO procede, com 99% de confiança."
   ]
  },
  {
   "cell_type": "code",
   "execution_count": null,
   "metadata": {},
   "outputs": [],
   "source": []
  },
  {
   "cell_type": "markdown",
   "metadata": {},
   "source": [
    "___\n",
    "**Pergunta 3:** A empresa diz que a dispersão no tempo de duração dos termopares deve ter desvio padrão IDEAL igual a 16 horas. Há evidências de que a variância do tempo de duração dos termopares produzidos está igual ou diferente do valor IDEAL afirmado pela empresa? Considere um coeficiente de confiança de 90%."
   ]
  },
  {
   "cell_type": "markdown",
   "metadata": {},
   "source": [
    "**Deixe claro:**\n",
    "\n",
    "  1. Reconstruir a medida amostral usando o bootstrapping, considerando os dados.\n",
    "\n",
    "  2. Montar as Hipóteses e o intervalo de confiança para o parâmetro de interesse com um nível de confiança de $\\gamma$% recomendado. Concluir em termos do problema!"
   ]
  },
  {
   "cell_type": "markdown",
   "metadata": {},
   "source": [
    "**Resposta:**"
   ]
  },
  {
   "cell_type": "markdown",
   "metadata": {},
   "source": [
    "Parâmetro de interesse aqui: **Variância populacional**"
   ]
  },
  {
   "cell_type": "markdown",
   "metadata": {},
   "source": [
    "### Hipóteses em termos do problema e em termos estatísticos\n",
    "\n",
    "$H_0:$ A variância do tempo de duração dos termopares produzidos está igual ao valor IDEAL $\\Rightarrow H_0: \\sigma^2=16^2$\n",
    "\n",
    "$H_1:$ A variância do tempo de duração dos termopares produzidos NÃO está igual ao valor IDEAL $\\Rightarrow H_0: \\sigma^2\\neq16^2$"
   ]
  },
  {
   "cell_type": "code",
   "execution_count": 12,
   "metadata": {},
   "outputs": [],
   "source": [
    "x = [553, 552, 567, 579, 550, 541, 537, 553, 552, 546, 538, 553, 581, 539, 529]\n",
    "x = pd.Series(x)\n",
    "n = len(x)\n"
   ]
  },
  {
   "cell_type": "code",
   "execution_count": 13,
   "metadata": {},
   "outputs": [
    {
     "name": "stdout",
     "output_type": "stream",
     "text": [
      "Tamanho da Amostra: 15\n",
      "Variância amostral: 219.38095238095238\n",
      "Desvio Padrão amostral: 14.811514182586208\n"
     ]
    }
   ],
   "source": [
    "print(\"Tamanho da Amostra: {0}\".format(n))\n",
    "print(\"Variância amostral: {0}\".format(np.var(x, ddof=1)))\n",
    "print(\"Desvio Padrão amostral: {0}\".format(np.std(x, ddof=1)))"
   ]
  },
  {
   "cell_type": "code",
   "execution_count": 14,
   "metadata": {},
   "outputs": [
    {
     "name": "stdout",
     "output_type": "stream",
     "text": [
      "Média das variâncias amostrais:  204.70183504761906\n"
     ]
    }
   ],
   "source": [
    "#Calculando as VARIÂNCIAS AMOSTRAIS em cada reamostra JÁ QUE VARIÂNCIA É A CARACTERÍSTICA DE INTERESSE\n",
    "B = 100000\n",
    "S2 = []\n",
    "for i in range(B):\n",
    "    reamostra_x = np.random.choice(x, size=n, replace=True)\n",
    "    S2.append(reamostra_x.var(ddof=1)) #Considerando a variância amostral não viesada\n",
    "\n",
    "print(\"Média das variâncias amostrais: \", np.mean(S2))"
   ]
  },
  {
   "cell_type": "code",
   "execution_count": 15,
   "metadata": {},
   "outputs": [
    {
     "data": {
      "image/png": "[encoded data removed]",
      "text/plain": [
       "<Figure size 432x288 with 1 Axes>"
      ]
     },
     "metadata": {
      "needs_background": "light"
     },
     "output_type": "display_data"
    }
   ],
   "source": [
    "plt.hist(S2, density=True, bins=20, color='cyan')\n",
    "plt.xlabel(\"variâncias amostrais geradas pelo Bootstrap\")\n",
    "plt.ylabel(\"Densidade\");"
   ]
  },
  {
   "cell_type": "code",
   "execution_count": 16,
   "metadata": {},
   "outputs": [
    {
     "name": "stdout",
     "output_type": "stream",
     "text": [
      "Limite inferior: 81.06666666666669\n",
      "Limite superior: 328.63809523809533\n"
     ]
    }
   ],
   "source": [
    "#Intervalo de confiança Bootstrap Percentil (ou Quantil)\n",
    "𝛾 = 0.9\n",
    "𝛼 = 1 - 𝛾\n",
    "\n",
    "Lim_inf = np.percentile(S2, (𝛼/2)*100)\n",
    "Lim_sup = np.percentile(S2, (1-𝛼/2)*100)\n",
    "print('Limite inferior:', Lim_inf)\n",
    "print('Limite superior:', Lim_sup)\n"
   ]
  },
  {
   "cell_type": "code",
   "execution_count": 17,
   "metadata": {},
   "outputs": [
    {
     "name": "stdout",
     "output_type": "stream",
     "text": [
      "Valor IDEAL para variância no tempo de duração dos termopares segundo afirmação deve ser  256 horas^2\n"
     ]
    }
   ],
   "source": [
    "#Valor IDEAL\n",
    "print(\"Valor IDEAL para variância no tempo de duração dos termopares segundo afirmação deve ser \", 16**2, \"horas^2\")"
   ]
  },
  {
   "cell_type": "markdown",
   "metadata": {},
   "source": [
    "**Conclusão:** Como a variância IDEAL desejável de $256$ faz parte do intervalo de confiança que representa o ATUAL comportamento da variância do tempo de duração dos termopares, então há evidências de que variância ATUAL não difere da IDEAL, com 90% de confiança."
   ]
  },
  {
   "cell_type": "code",
   "execution_count": null,
   "metadata": {},
   "outputs": [],
   "source": []
  },
  {
   "cell_type": "markdown",
   "metadata": {},
   "source": [
    "___\n",
    "\n",
    "## Exercício 2\n",
    "\n",
    "# Qualidade da linha de produção\n",
    "\n",
    "As latas de certa marca de refrigerante apresentam em seu rótulo o volume de 350 ml. Ainda, um órgão regulador diz que a dispersão (mensurada pelo desvio padrão) dessas quantidades deve ser de 10 ml em seu conteúdo. \n",
    "\n",
    "** Linha de produção deve ser parada? **\n",
    "\n",
    "**Conjectura 1:** O fabricante deseja testar se o conteúdo médio das latas é igual a 350 ml, como anunciado no rótulo. Isto equivale a verificar se a máquina está regulada para colocar 350 ml, ou não, nas latas. \n",
    "\n",
    "**Conjectura 2:** O fabricante deseja avaliar se a variabilidade dos conteúdos está sendo respeitada ou não. *Fazer considerando variância.*"
   ]
  },
  {
   "cell_type": "markdown",
   "metadata": {},
   "source": [
    "Para averiguar tais hipóteses do fabricante, foi coletada uma amostra de 36 latas do refrigerante em pontos de comercialização e mediu-se o conteúdo destas latas.\n",
    "\n",
    "Os resultados obtidos na amostra foram:\n",
    "\n",
    "dados = [344.5,  352.9,  355.0,  348.8,\n",
    "        \t342.0,  344.7,  346.9,  340.9,\n",
    "            357.7,  341.2,  347.1,  365.3,\n",
    "            340.3,  343.2,  342.6,  333.7,\n",
    "        \t341.9,  351.0,  348.0,  354.3,\n",
    "        \t344.9,  348.0,  346.4,  358.0,\n",
    "        \t340.2,  354.4,  349.7,  339.4,\n",
    "        \t338.8,  344.9,  330.4,  341.7,\n",
    "        \t336.7,  363.2,  355.9,  357.4]\n",
    "\n",
    "\n",
    "Avalie tais hipóteses com 95% de confiança?\n",
    "\n",
    "Responda se a linha de produção deve ser interrompida e por qual motivo?"
   ]
  },
  {
   "cell_type": "code",
   "execution_count": 18,
   "metadata": {},
   "outputs": [
    {
     "name": "stdout",
     "output_type": "stream",
     "text": [
      "Tamanho da Amostra: 36\n",
      "Média: 347.0\n",
      "Desvio Padrão: 7.990601622263139\n"
     ]
    }
   ],
   "source": [
    "dados = [344.5,  352.9,  355.0,  348.8,\n",
    "            342.0,  344.7,  346.9,  340.9,\n",
    "            357.7,  341.2,  347.1,  365.3,\n",
    "            340.3,  343.2,  342.6,  333.7,\n",
    "            341.9,  351.0,  348.0,  354.3,\n",
    "            344.9,  348.0,  346.4,  358.0,\n",
    "            340.2,  354.4,  349.7,  339.4,\n",
    "            338.8,  344.9,  330.4,  341.7,\n",
    "            336.7,  363.2,  355.9,  357.4]\n",
    "\n",
    "dados = pd.Series(dados)\n",
    "n = len(dados)\n",
    "\n",
    "print(\"Tamanho da Amostra: {0}\".format(n))\n",
    "print(\"Média: {0}\".format(np.mean(dados)))\n",
    "print(\"Desvio Padrão: {0}\".format(np.std(dados, ddof=1)))"
   ]
  },
  {
   "cell_type": "code",
   "execution_count": 19,
   "metadata": {},
   "outputs": [
    {
     "data": {
      "image/png": "[encoded data removed]",
      "text/plain": [
       "<Figure size 432x288 with 1 Axes>"
      ]
     },
     "metadata": {
      "needs_background": "light"
     },
     "output_type": "display_data"
    }
   ],
   "source": [
    "plt.hist(dados, density=True, color='orange', alpha=0.8)\n",
    "plt.xlabel(\"Quantidade em lata de refrigerante\")\n",
    "plt.ylabel(\"Densidade\");"
   ]
  },
  {
   "cell_type": "markdown",
   "metadata": {},
   "source": [
    "___\n",
    "**Resposta: Conjectura 1**"
   ]
  },
  {
   "cell_type": "markdown",
   "metadata": {},
   "source": [
    "### Analisando a medida Média - Boostrap"
   ]
  },
  {
   "cell_type": "markdown",
   "metadata": {},
   "source": [
    "Parâmetro de interesse aqui: **Média populacional**"
   ]
  },
  {
   "cell_type": "markdown",
   "metadata": {},
   "source": [
    "### Hipóteses em termos do problema e em termos estatísticos\n",
    "\n",
    "$H_0:$ Máquina está regulada $\\Rightarrow H_0: \\mu=350$\n",
    "\n",
    "$H_1:$ Máquina NÃO está regulada  $\\Rightarrow H_1: \\mu\\neq350$"
   ]
  },
  {
   "cell_type": "code",
   "execution_count": 20,
   "metadata": {},
   "outputs": [
    {
     "name": "stdout",
     "output_type": "stream",
     "text": [
      "Média das médias amostrais:  347.00361166666664\n",
      "Variância das médias amostrais:  1.7263103092589471\n"
     ]
    }
   ],
   "source": [
    "#Calculando as médias em cada reamostra JÁ QUE MÉDIA É A CARACTERÍSTICA DE INTERESSE\n",
    "B = 100000\n",
    "X_ = []\n",
    "for i in range(B):\n",
    "    reamostra_x = np.random.choice(dados, size=n, replace=True)\n",
    "    X_.append(reamostra_x.mean())\n",
    "\n",
    "print(\"Média das médias amostrais: \", np.mean(X_))\n",
    "print(\"Variância das médias amostrais: \", np.var(X_))"
   ]
  },
  {
   "cell_type": "code",
   "execution_count": 21,
   "metadata": {
    "scrolled": true
   },
   "outputs": [
    {
     "data": {
      "image/png": "[encoded data removed]",
      "text/plain": [
       "<Figure size 432x288 with 1 Axes>"
      ]
     },
     "metadata": {
      "needs_background": "light"
     },
     "output_type": "display_data"
    }
   ],
   "source": [
    "plt.hist(X_, density=True)\n",
    "plt.xlabel(\"médias amostrais geradas pelo Bootstrap\")\n",
    "plt.ylabel(\"Densidade\");"
   ]
  },
  {
   "cell_type": "code",
   "execution_count": 22,
   "metadata": {},
   "outputs": [
    {
     "name": "stdout",
     "output_type": "stream",
     "text": [
      "Limite inferior: 344.46388888888885\n",
      "Limite superior: 349.6111111111111\n"
     ]
    }
   ],
   "source": [
    "#Intervalo de confiança Bootstrap Percentil (ou Quantil)\n",
    "𝛾 = 0.95\n",
    "𝛼 = 1 - 𝛾\n",
    "\n",
    "Lim_inf = np.percentile(X_, (𝛼/2)*100)\n",
    "Lim_sup = np.percentile(X_, (1-𝛼/2)*100)\n",
    "print('Limite inferior:', Lim_inf)\n",
    "print('Limite superior:', Lim_sup)\n"
   ]
  },
  {
   "cell_type": "markdown",
   "metadata": {},
   "source": [
    "**Conclusão:** Como a quantidade média desejável pelo rótulo $350$ml não faz parte do intervalo de confiança que representa o ATUAL comportamento da quantidade média de refrigerante nas latas, então há evidências de que a afirmação NÃO procede, com 95% de confiança."
   ]
  },
  {
   "cell_type": "markdown",
   "metadata": {},
   "source": [
    "___\n",
    "**Resposta: Conjectura 2**"
   ]
  },
  {
   "cell_type": "markdown",
   "metadata": {},
   "source": [
    "### Analisando a medida Variância - Boostrap"
   ]
  },
  {
   "cell_type": "markdown",
   "metadata": {},
   "source": [
    "Parâmetro de interesse aqui: **Variância populacional**"
   ]
  },
  {
   "cell_type": "markdown",
   "metadata": {},
   "source": [
    "### Hipóteses em termos do problema e em termos estatísticos\n",
    "\n",
    "$H_0:$ A variância da quantidade de refrigerantes está igual ao valor IDEAL $\\Rightarrow H_0: \\sigma^2=10^2$\n",
    "\n",
    "$H_1:$ A variância da quantidade de refrigerantes está igual ao valor IDEAL $\\Rightarrow H_0: \\sigma^2\\neq10^2$"
   ]
  },
  {
   "cell_type": "code",
   "execution_count": 23,
   "metadata": {},
   "outputs": [
    {
     "name": "stdout",
     "output_type": "stream",
     "text": [
      "Tamanho da Amostra: 36\n",
      "Variância amostral: 63.849714285714306\n",
      "Desvio Padrão amostral: 7.990601622263139\n"
     ]
    }
   ],
   "source": [
    "print(\"Tamanho da Amostra: {0}\".format(n))\n",
    "print(\"Variância amostral: {0}\".format(np.var(dados, ddof=1)))\n",
    "print(\"Desvio Padrão amostral: {0}\".format(np.std(dados, ddof=1)))"
   ]
  },
  {
   "cell_type": "code",
   "execution_count": 24,
   "metadata": {},
   "outputs": [
    {
     "name": "stdout",
     "output_type": "stream",
     "text": [
      "Média das variâncias amostrais:  62.03665950682542\n"
     ]
    }
   ],
   "source": [
    "#Calculando as VARIÂNCIAS AMOSTRAIS em cada reamostra JÁ QUE VARIÂNCIA É A CARACTERÍSTICA DE INTERESSE\n",
    "B = 100000\n",
    "S2 = []\n",
    "for i in range(B):\n",
    "    reamostra_x = np.random.choice(dados, size=n, replace=True)\n",
    "    S2.append(reamostra_x.var(ddof=1)) #Considerando a variância amostral não viesada\n",
    "\n",
    "print(\"Média das variâncias amostrais: \", np.mean(S2))"
   ]
  },
  {
   "cell_type": "code",
   "execution_count": 25,
   "metadata": {},
   "outputs": [
    {
     "data": {
      "image/png": "[encoded data removed]",
      "text/plain": [
       "<Figure size 432x288 with 1 Axes>"
      ]
     },
     "metadata": {
      "needs_background": "light"
     },
     "output_type": "display_data"
    }
   ],
   "source": [
    "plt.hist(S2, density=True, bins=20, color='cyan')\n",
    "plt.xlabel(\"variâncias amostrais geradas pelo Bootstrap\")\n",
    "plt.ylabel(\"Densidade\");"
   ]
  },
  {
   "cell_type": "code",
   "execution_count": 26,
   "metadata": {},
   "outputs": [
    {
     "name": "stdout",
     "output_type": "stream",
     "text": [
      "Limite inferior: 37.31317619047616\n",
      "Limite superior: 90.75053968253975\n"
     ]
    }
   ],
   "source": [
    "#Intervalo de confiança Bootstrap Percentil (ou Quantil)\n",
    "𝛾 = 0.95\n",
    "𝛼 = 1 - 𝛾\n",
    "\n",
    "Lim_inf = np.percentile(S2, (𝛼/2)*100)\n",
    "Lim_sup = np.percentile(S2, (1-𝛼/2)*100)\n",
    "print('Limite inferior:', Lim_inf)\n",
    "print('Limite superior:', Lim_sup)\n"
   ]
  },
  {
   "cell_type": "code",
   "execution_count": 27,
   "metadata": {},
   "outputs": [
    {
     "name": "stdout",
     "output_type": "stream",
     "text": [
      "Valor IDEAL para variância na quantidade de refrigerantes nas latas segundo afirmação deve ser  100 ml^2\n"
     ]
    }
   ],
   "source": [
    "#Valor IDEAL\n",
    "print(\"Valor IDEAL para variância na quantidade de refrigerantes nas latas segundo afirmação deve ser \", 10**2, \"ml^2\")"
   ]
  },
  {
   "cell_type": "markdown",
   "metadata": {},
   "source": [
    "**Conclusão:** Como a variância IDEAL desejável de $100$ ml$^2$ NÃO faz parte do intervalo de confiança que representa o ATUAL comportamento da variância da quantidade de refrigerantes nas latas, então há evidências de que variância ATUAL difere da IDEAL, com 95% de confiança."
   ]
  },
  {
   "cell_type": "markdown",
   "metadata": {
    "collapsed": true
   },
   "source": [
    "___\n",
    "## Exercício 3\n",
    "\n",
    "# Experimento dos resistores\n",
    "\n",
    "** Compraria o lote de resistores pelo valor médio e pela tolerância? **\n",
    "\n",
    "Use a sua amostra para concluir se compraria o lote de resistores pelo controle de qualidade tanto quanto aos $1000 k\\Omega$ avaliado pela média e quanto aos $5\\%$ de tolerância avaliado pela variância ($5\\%$ de $1000 = 50$, logo, variância IDEAL igual $50^2$ $k\\Omega^2$.\n",
    "\n",
    "Use 95% de confiança para tomada de decisão!"
   ]
  },
  {
   "cell_type": "code",
   "execution_count": 28,
   "metadata": {},
   "outputs": [],
   "source": [
    "#dados=[COLOQUE SUA AMOSTRA AQUI]"
   ]
  },
  {
   "cell_type": "code",
   "execution_count": null,
   "metadata": {},
   "outputs": [],
   "source": []
  },
  {
   "cell_type": "code",
   "execution_count": null,
   "metadata": {},
   "outputs": [],
   "source": []
  }
 ],
 "metadata": {
  "anaconda-cloud": {},
  "kernelspec": {
   "display_name": "Python 3",
   "language": "python",
   "name": "python3"
  },
  "language_info": {
   "codemirror_mode": {
    "name": "ipython",
    "version": 3
   },
   "file_extension": ".py",
   "mimetype": "text/x-python",
   "name": "python",
   "nbconvert_exporter": "python",
   "pygments_lexer": "ipython3",
   "version": "3.7.1"
  }
 },
 "nbformat": 4,
 "nbformat_minor": 1
}
