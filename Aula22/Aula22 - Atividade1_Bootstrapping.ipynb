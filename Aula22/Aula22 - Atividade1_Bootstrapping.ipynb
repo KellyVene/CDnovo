{
 "cells": [
  {
   "cell_type": "markdown",
   "metadata": {},
   "source": [
    "___\n",
    "# Atividade: Bootstrapping\n",
    "___\n",
    "\n",
    "## Aula 22\n",
    "\n",
    "## Contexto Teórico\n",
    "\n",
    "\n",
    "**Preparo Prévio:**\n",
    "1. Magalhães e Lima, seção 7.4. Concentrar-se em intervalo de confiança para média POPULACIONAL\n",
    "1. Bootstrapping - https://www.thoughtco.com/example-of-bootstrapping-3126155\n",
    "1. Bootstrapping - https://www.stat.auckland.ac.nz/~wild/BootAnim/\n",
    "\n",
    "**Hoje:**\n",
    "1. Entender e implementar o método não paramétrico de Bootstrapping com intuito de avaliar se um parâmetro é igual a um determinado valor ou se parâmetro é  $\\neq$ que esse determinado valor.\n",
    "\n",
    "\n",
    "___"
   ]
  },
  {
   "cell_type": "code",
   "execution_count": null,
   "metadata": {},
   "outputs": [],
   "source": [
    "%matplotlib inline\n",
    "import pandas as pd\n",
    "import numpy as np\n",
    "import matplotlib.pyplot as plt"
   ]
  },
  {
   "cell_type": "markdown",
   "metadata": {},
   "source": [
    "___\n",
    "## Motivação:\n",
    "\n",
    "Uma gerente de uma fábrica decidiu recalibrar uma das máquinas da linha de produção para AJUSTAR o seu tempo médio de execução. A amostra abaixo representa o tempo medido entre a entrada do bloco cru e a saída manufaturada em minutos."
   ]
  },
  {
   "cell_type": "code",
   "execution_count": null,
   "metadata": {},
   "outputs": [],
   "source": [
    "x = [0.69689142,  0.57995802,  0.06450754,  0.61206626,  0.91976314,  0.34363861,  0.82575631,  \n",
    "     0.41666036,  0.62153527,  0.56757104,  0.86683518,  0.28922458,  0.28521698]\n",
    "\n",
    "n = len(x)\n",
    "\n",
    "print(\"Tamanho da Amostra: {0}\".format(n))\n",
    "print(\"Média: {0}\".format(np.mean(x)))\n",
    "print(\"Desvio Padrão: {0}\".format(np.std(x, ddof=1)))"
   ]
  },
  {
   "cell_type": "code",
   "execution_count": null,
   "metadata": {},
   "outputs": [],
   "source": [
    "plt.hist(x, density=True, color='orange', alpha=0.8)\n",
    "plt.xlabel(\"Tempo de execução de cada bloco\")\n",
    "plt.ylabel(\"Densidade\");"
   ]
  },
  {
   "cell_type": "markdown",
   "metadata": {},
   "source": [
    "## Problema: \n",
    "\n",
    "Excepcionalmente hoje, os funcionários estavam reclamando que o tempo médio de execução da linha de produção está com comportamento diferente do usual, pois o tempo de execução histórico demora em média $0.68$ minutos. \n",
    "\n",
    "Avalie se a reclamação dos funcionários procede, com 95% de confiança?\n"
   ]
  },
  {
   "cell_type": "markdown",
   "metadata": {},
   "source": [
    "## Qual técnica inferencial utilizar para resolver tal problema?"
   ]
  },
  {
   "cell_type": "markdown",
   "metadata": {},
   "source": [
    "___\n",
    "## Considerações do que temos até o momento:\n",
    "\n",
    "Como visto em aulas passadas, para poder realizar um Teste de Hipóteses clássico quando o problema questiona a média populacional, ou seja, $\\mu$, temos as seguintes premissas (suposições):\n",
    "\n",
    "   1. **Primeiro resultado:** \n",
    "      -  A variável de interesse $X$ tiver distribuição **EXATA** normal, então **cada $X_i$ é normal** e a distribuição da média amostral $\\overline{X}=\\frac{X_1+X_2+...+X_n}{n}=\\frac{\\sum_{i=1}^nX_i}{n}$ é **EXATA** Normal.\n",
    "            \n",
    "      -  A variável de interesse $X$ tiver distribuição desconhecida ou não normal, então **cada $X_i$ não é normal** e a distribuição da média amostral $\\overline{X}=\\frac{X_1+X_2+...+X_n}{n}=\\frac{\\sum_{i=1}^nX_i}{n}$ é **APROXIMADA** Normal, via TLC, **considerando $n$ suficientemente grande**.  \n",
    "      \n",
    "   \n",
    "   2. **Segundo resultado:**\n",
    "      - Quando a **variância populacional $\\sigma^2$ é conhecida**, pode-se usar:\n",
    "        \n",
    "        $\\Rightarrow$ $\\overline{X}\\sim N(\\mu,\\sigma^2/n)$ $\\Rightarrow$ $\\frac{\\overline{X}-\\mu}{\\sigma/\\sqrt{n}}\\sim N(0,1)$,\n",
    "        quando $X$ tem normal ou quando $n$ é suficientemente grande.\n",
    "      \n",
    "      - Quando a **variância populacional $\\sigma^2$ é DESconhecida**, pode-se usar:\n",
    "        \n",
    "        $\\Rightarrow$ $\\frac{\\overline{X}-\\mu}{S/\\sqrt{n}}\\sim t(n-1)$,\n",
    "        quando $X$ tem normal ou quando $n$ é suficientemente grande, sendo $S$ o desvio padrão AMOSTRAL.\n",
    "      \n",
    "\n",
    "## **Resumindo**: Quando não sabemos qual é a distribuição de $X$ e nem podemos assumir que $n$ é suficientemente grande, uma nova técnica se faz necessária!!!\n",
    "___"
   ]
  },
  {
   "cell_type": "markdown",
   "metadata": {},
   "source": [
    "___\n",
    "\n",
    "# Bootstrapping\n",
    "\n",
    "## Solução: Métodos não paramétricos\n",
    "\n",
    "Bootstrapping é um método de reamostragem com reposição que consiste em recuperar a distribuição de uma medida de interesse a partir de uma amostra mestre. Por exemplo, podemos utilizar a média como medida de interesse, mas a distribuição de outras medidas também pode ser estimadas, como por exemplo variância, mediana, máximo, etc.\n",
    "\n",
    "Reamostragem com reposição significa que um mesmo elemento pode ser selecionado várias vezes, assim como outro elemento pode não ser escolhido. Seria equivalente a sortear um número e colocar de volta na urna.\n",
    "\n",
    "### Como funciona\n",
    "\n",
    "Dada um conjunto com a amostra mestre aleatória $x_1, x_2,..., x_n$ de uma população qualquer, devemos sortear consecutivamente, com reposição, conjuntos de tamanho também $n$ dessa amostra amostra mestre. Esses conjuntos são chamados de reamostragem e esse processo deve ser feito milhares de vezes.\n",
    "\n",
    "A cada reamostragem deve-se aplicar a medida de interesse e guardar em uma lista. Ao fim das milhares de reamostragens, teremos uma distribuição da medida desejada. \n",
    "\n",
    "De posse desta distribuição, podemos calcular o Intervalo de Confiança, por exemplo, através dos seus percentis."
   ]
  },
  {
   "cell_type": "markdown",
   "metadata": {},
   "source": [
    "<img src=\"Bootstrap.png\"/>\n",
    "<center><sup>**Figura 1.** Ilustração da técnica Bootstrap - reamostragens da amostra mestre (extraído e adaptado de http://robertovitillo.com/2015/03/15/confidence-intervals-and-hypothesis-tests-for-engineers/).</sup></center>\n",
    "\n",
    "\n",
    "Devido a sua generalidade, a técnica Bootstrap se encaixa na solução de problemas complexos que queiram utilizar outra informação numérica populacional (parâmetro de interesse) que não seja necessariamente a média populacional. \n",
    "\n",
    "Por meio dessa técnica, os parâmetros como média, variância, proporção e até mesmo parâmetros menos utilizados como o máximo, mínimo ou mediana de uma população podem ser estimados pontualmente e por intervalo.\n"
   ]
  },
  {
   "cell_type": "markdown",
   "metadata": {},
   "source": [
    "___\n",
    "### **Questão 1** - \n",
    "\n",
    "Reconstruir a média amostral $\\bar{X}$ usando o bootstrapping, considerando os dados em `x`.\n",
    "\n",
    "Algoritmo:\n",
    "    1. Repetir 10000 vezes:\n",
    "        1.1. Realizar um sorteio com reposição da amostra mestre. Usar a função choice() do numpy.\n",
    "        1.2. Calcular a média da reamostragem e guardar em uma lista.\n",
    "    2. Plotar o histograma da lista.\n",
    "    3. Exibir a média e o desvio padrão dos elementos da lista."
   ]
  },
  {
   "cell_type": "code",
   "execution_count": null,
   "metadata": {},
   "outputs": [],
   "source": [
    "B = 100000\n",
    "X_ = []\n",
    "for i in range(B):\n",
    "    reamostra_x = np.random.choice(x, size=n, replace=True)\n",
    "    X_.append(reamostra_x.mean())\n",
    "\n",
    "print(\"Média das médias amostrais: \", np.mean(X_))\n",
    "print(\"Variância das médias amostrais: \", np.var(X_))"
   ]
  },
  {
   "cell_type": "code",
   "execution_count": null,
   "metadata": {},
   "outputs": [],
   "source": [
    "plt.hist(X_, density=True, bins=50)\n",
    "plt.xlabel(\"médias amostrais geradas pelo Bootstrap\")\n",
    "plt.ylabel(\"Densidade\");"
   ]
  },
  {
   "cell_type": "markdown",
   "metadata": {},
   "source": [
    "___\n",
    "### **Questão 2** - \n",
    "\n",
    "Montar as Hipóteses e o intervalo de confiança para média populacional (parâmetro de interesse) com um nível de confiança de $\\gamma$% recomendado. Concluir em termos do problema!"
   ]
  },
  {
   "cell_type": "markdown",
   "metadata": {},
   "source": [
    "### Hipóteses em termos do problema e em termos estatísticos\n",
    "\n",
    "$H_0:$ Desconfiança dos funcionários não procede $\\Rightarrow H_0: \\mu=0.68$\n",
    "\n",
    "$H_1:$ Desconfiança dos funcionários procede  $\\Rightarrow H_1: \\mu\\neq0.68$"
   ]
  },
  {
   "cell_type": "code",
   "execution_count": null,
   "metadata": {},
   "outputs": [],
   "source": [
    "(np.percentile(X_, 2.5), np.percentile(X_, 97.5))"
   ]
  },
  {
   "cell_type": "markdown",
   "metadata": {},
   "source": [
    "**Conclusão:** Como o tempo médio de execução histórico $0.68$ não faz parte do intervalo de confiança que representa o ATUAL comportamento da linha de produção, então há evidências de que desconfiança procede, com 95% de confiança."
   ]
  },
  {
   "cell_type": "markdown",
   "metadata": {},
   "source": [
    "___\n",
    "## Para ir além...\n",
    "\n",
    "Como dito anteriormente, o método Bootstrapping pode ser utilizado para avaliar outras medidas númericas da população."
   ]
  },
  {
   "cell_type": "markdown",
   "metadata": {},
   "source": [
    "___\n",
    "### **Questão 3** - \n",
    "\n",
    "**Considere que haja o seguinte questionamento sobre a linha de produção:**\n",
    "\n",
    "Excepcionalmente hoje, os funcionários estavam reclamando que a dispersão no tempo de execução na linha de produção está com comportamento diferente do usual, pois o desvio padrão do tempo de execução histórico era igual a $0.27$ minutos. Ou seja, a variância histórica era igual a $0.0729$ minutos$^2$. \n",
    "\n",
    "Avalie se reclamação dos funcionários procede, com 95% de confiança?\n"
   ]
  },
  {
   "cell_type": "markdown",
   "metadata": {},
   "source": [
    "1.Reconstruir a variância amostral $S^2$ usando o bootstrapping, considerando os dados em `x`."
   ]
  },
  {
   "cell_type": "code",
   "execution_count": null,
   "metadata": {},
   "outputs": [],
   "source": [
    "\n"
   ]
  },
  {
   "cell_type": "code",
   "execution_count": null,
   "metadata": {},
   "outputs": [],
   "source": [
    "\n"
   ]
  },
  {
   "cell_type": "markdown",
   "metadata": {},
   "source": [
    "2. Montar as Hipóteses e o intervalo de confiança para a variância populacional (parâmetro de interesse) com um nível de confiança de $\\gamma$% recomendado. Concluir em termos do problema!"
   ]
  },
  {
   "cell_type": "markdown",
   "metadata": {
    "collapsed": true
   },
   "source": []
  },
  {
   "cell_type": "code",
   "execution_count": null,
   "metadata": {},
   "outputs": [],
   "source": []
  }
 ],
 "metadata": {
  "anaconda-cloud": {},
  "kernelspec": {
   "display_name": "Python 3",
   "language": "python",
   "name": "python3"
  },
  "language_info": {
   "codemirror_mode": {
    "name": "ipython",
    "version": 3
   },
   "file_extension": ".py",
   "mimetype": "text/x-python",
   "name": "python",
   "nbconvert_exporter": "python",
   "pygments_lexer": "ipython3",
   "version": "3.7.1"
  }
 },
 "nbformat": 4,
 "nbformat_minor": 2
}
