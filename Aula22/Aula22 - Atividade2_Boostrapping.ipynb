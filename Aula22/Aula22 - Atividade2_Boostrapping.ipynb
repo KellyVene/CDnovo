{
 "cells": [
  {
   "cell_type": "markdown",
   "metadata": {},
   "source": [
    "# Boostrapping - Intervalo de confiança para algum parâmetro para tomada de decisão"
   ]
  },
  {
   "cell_type": "markdown",
   "metadata": {},
   "source": [
    "## Aula 22\n",
    "\n",
    "## Contexto Prático\n",
    "\n",
    "\n",
    "**Preparo Prévio:**\n",
    "1. Magalhães e Lima, seção 7.4. Concentrar-se em intervalo de confiança para média amostra\n",
    "1. Bootstrapping - https://www.thoughtco.com/example-of-bootstrapping-3126155\n",
    "1. Bootstrapping - https://www.stat.auckland.ac.nz/~wild/BootAnim/\n",
    "\n",
    "**Hoje:**\n",
    "1. Entender e implementar o método não paramétrico de Bootstrapping com intuito de avaliar se um parâmetro é igual a um determinado valor ou se parâmetro é $\\neq$ que esse determinado valor.\n",
    "\n",
    "___"
   ]
  },
  {
   "cell_type": "code",
   "execution_count": null,
   "metadata": {},
   "outputs": [],
   "source": [
    "%matplotlib inline\n",
    "\n",
    "import pandas as pd\n",
    "import numpy as np\n",
    "import matplotlib.pyplot as plt"
   ]
  },
  {
   "cell_type": "markdown",
   "metadata": {},
   "source": [
    "___\n",
    "## Exercício 1\n",
    "\n",
    "# Qualidade do Termopar\n",
    "\n",
    "O tempo de vida, em horas, de um termopar* usado em fornalhas tem distribuição desconhecida. \n",
    "\n",
    "Uma amostra aleatória de 15 termopares resultaram nos seguintes tempos:\n",
    "\n",
    "`553, 552, 567, 579, 550, 541, 537, 553, 552, 546, 538, 553, 581, 539, 529`"
   ]
  },
  {
   "cell_type": "code",
   "execution_count": null,
   "metadata": {},
   "outputs": [],
   "source": [
    "x = [553, 552, 567, 579, 550, 541, 537, 553, 552, 546, 538, 553, 581, 539, 529]\n",
    "x = pd.Series(x)\n",
    "n = len(x)\n",
    "\n",
    "print(\"Tamanho da Amostra: {0}\".format(n))\n",
    "print(\"Média amostral: {0}\".format(np.mean(x)))\n",
    "print(\"Desvio Padrão amostral: {0}\".format(np.std(x, ddof=1)))"
   ]
  },
  {
   "cell_type": "markdown",
   "metadata": {},
   "source": [
    "___\n",
    "**Pergunta 1:** A empresa diz que um termopar deve durar, em média, 560 horas. Há evidências de que essa afirmação seja verdadeira? Considere um coeficiente de confiança de 95%."
   ]
  },
  {
   "cell_type": "markdown",
   "metadata": {},
   "source": [
    "**Deixe claro:**\n",
    "\n",
    "  1. Reconstruir a medida amostral usando o bootstrapping, considerando os dados.\n",
    "\n",
    "  2. Montar as Hipóteses e o intervalo de confiança para o parâmetro de interesse com um nível de confiança de $\\gamma$% recomendado. Concluir em termos do problema!"
   ]
  },
  {
   "cell_type": "markdown",
   "metadata": {},
   "source": [
    "**Resposta:**"
   ]
  },
  {
   "cell_type": "markdown",
   "metadata": {},
   "source": [
    "Parâmetro de interesse aqui: **??**"
   ]
  },
  {
   "cell_type": "markdown",
   "metadata": {},
   "source": [
    "### Hipóteses em termos do problema e em termos estatísticos\n",
    "\n",
    "$H_0:$ ESCREVA AQUI EM TERMOS DO PROBLEMA $\\Rightarrow H_0:$ ESCREVA AQUI EM TERMOS DO PARÂMETRO\n",
    "\n",
    "$H_1:$ ESCREVA AQUI EM TERMOS DO PROBLEMA $\\Rightarrow H_1:$ ESCREVA AQUI EM TERMOS DO PARÂMETRO"
   ]
  },
  {
   "cell_type": "code",
   "execution_count": null,
   "metadata": {},
   "outputs": [],
   "source": []
  },
  {
   "cell_type": "code",
   "execution_count": null,
   "metadata": {},
   "outputs": [],
   "source": []
  },
  {
   "cell_type": "markdown",
   "metadata": {},
   "source": [
    "___\n",
    "**Pergunta 2:** A empresa deseja saber se tempo mediano de duração dos termopares é igual a $555$ horas. Assim, verifique se há evidências de que a afirmação procede considerando um coeficiente de confiança de 99%."
   ]
  },
  {
   "cell_type": "markdown",
   "metadata": {},
   "source": [
    "**Deixe claro:**\n",
    "\n",
    "  1. Reconstruir a medida amostral usando o bootstrapping, considerando os dados.\n",
    "\n",
    "  2. Montar as Hipóteses e o intervalo de confiança para o parâmetro de interesse com um nível de confiança de $\\gamma$% recomendado. Concluir em termos do problema!"
   ]
  },
  {
   "cell_type": "markdown",
   "metadata": {},
   "source": [
    "**Resposta:**"
   ]
  },
  {
   "cell_type": "markdown",
   "metadata": {},
   "source": [
    "Parâmetro de interesse aqui: **??**"
   ]
  },
  {
   "cell_type": "markdown",
   "metadata": {},
   "source": [
    "### Hipóteses em termos do problema e em termos estatísticos\n",
    "\n",
    "$H_0:$ ESCREVA AQUI EM TERMOS DO PROBLEMA $\\Rightarrow H_0:$ ESCREVA AQUI EM TERMOS DO PARÂMETRO\n",
    "\n",
    "$H_1:$ ESCREVA AQUI EM TERMOS DO PROBLEMA $\\Rightarrow H_1:$ ESCREVA AQUI EM TERMOS DO PARÂMETRO"
   ]
  },
  {
   "cell_type": "code",
   "execution_count": null,
   "metadata": {},
   "outputs": [],
   "source": []
  },
  {
   "cell_type": "code",
   "execution_count": null,
   "metadata": {},
   "outputs": [],
   "source": []
  },
  {
   "cell_type": "markdown",
   "metadata": {},
   "source": [
    "___\n",
    "**Pergunta 3:** A empresa diz que a dispersão no tempo de duração dos termopares deve ter desvio padrão IDEAL igual a 16 horas. Há evidências de que a variância do tempo de duração dos termopares produzidos está igual ou diferente do valor IDEAL afirmado pela empresa? Considere um coeficiente de confiança de 90%."
   ]
  },
  {
   "cell_type": "markdown",
   "metadata": {},
   "source": [
    "**Deixe claro:**\n",
    "\n",
    "  1. Reconstruir a medida amostral usando o bootstrapping, considerando os dados.\n",
    "\n",
    "  2. Montar as Hipóteses e o intervalo de confiança para o parâmetro de interesse com um nível de confiança de $\\gamma$% recomendado. Concluir em termos do problema!"
   ]
  },
  {
   "cell_type": "markdown",
   "metadata": {},
   "source": [
    "**Resposta:**"
   ]
  },
  {
   "cell_type": "markdown",
   "metadata": {},
   "source": [
    "Parâmetro de interesse aqui: **??**"
   ]
  },
  {
   "cell_type": "markdown",
   "metadata": {},
   "source": [
    "### Hipóteses em termos do problema e em termos estatísticos\n",
    "\n",
    "$H_0:$ ESCREVA AQUI EM TERMOS DO PROBLEMA $\\Rightarrow H_0:$ ESCREVA AQUI EM TERMOS DO PARÂMETRO\n",
    "\n",
    "$H_1:$ ESCREVA AQUI EM TERMOS DO PROBLEMA $\\Rightarrow H_1:$ ESCREVA AQUI EM TERMOS DO PARÂMETRO"
   ]
  },
  {
   "cell_type": "code",
   "execution_count": null,
   "metadata": {},
   "outputs": [],
   "source": []
  },
  {
   "cell_type": "code",
   "execution_count": null,
   "metadata": {},
   "outputs": [],
   "source": []
  },
  {
   "cell_type": "code",
   "execution_count": null,
   "metadata": {},
   "outputs": [],
   "source": []
  },
  {
   "cell_type": "markdown",
   "metadata": {},
   "source": [
    "___\n",
    "\n",
    "## Exercício 2\n",
    "\n",
    "# Qualidade da linha de produção\n",
    "\n",
    "As latas de certa marca de refrigerante apresentam em seu rótulo o volume de 350 ml. Ainda, um órgão regulador diz que a dispersão (mensurada pelo desvio padrão) dessas quantidades deve ser de 10 ml em seu conteúdo. \n",
    "\n",
    "** Linha de produção deve ser parada? **\n",
    "\n",
    "**Conjectura 1:** O fabricante deseja testar se o conteúdo médio das latas é igual a 350 ml, como anunciado no rótulo. Isto equivale a verificar se a máquina está regulada para colocar 350 ml, ou não, nas latas. \n",
    "\n",
    "**Conjectura 2:** O fabricante deseja avaliar se a variabilidade dos conteúdos está sendo respeitada ou não. *Fazer considerando variância.*"
   ]
  },
  {
   "cell_type": "markdown",
   "metadata": {},
   "source": [
    "Para averiguar tais hipóteses do fabricante, foi coletada uma amostra de 36 latas do refrigerante em pontos de comercialização e mediu-se o conteúdo destas latas.\n",
    "\n",
    "Os resultados obtidos na amostra foram:\n",
    "\n",
    "dados = [344.5,  352.9,  355.0,  348.8,\n",
    "        \t342.0,  344.7,  346.9,  340.9,\n",
    "            357.7,  341.2,  347.1,  365.3,\n",
    "            340.3,  343.2,  342.6,  333.7,\n",
    "        \t341.9,  351.0,  348.0,  354.3,\n",
    "        \t344.9,  348.0,  346.4,  358.0,\n",
    "        \t340.2,  354.4,  349.7,  339.4,\n",
    "        \t338.8,  344.9,  330.4,  341.7,\n",
    "        \t336.7,  363.2,  355.9,  357.4]\n",
    "\n",
    "\n",
    "Avalie tais hipóteses com 95% de confiança?\n",
    "\n",
    "Responda se a linha de produção deve ser interrompida e por qual motivo?"
   ]
  },
  {
   "cell_type": "code",
   "execution_count": null,
   "metadata": {},
   "outputs": [],
   "source": [
    "dados = [344.5,  352.9,  355.0,  348.8,\n",
    "            342.0,  344.7,  346.9,  340.9,\n",
    "            357.7,  341.2,  347.1,  365.3,\n",
    "            340.3,  343.2,  342.6,  333.7,\n",
    "            341.9,  351.0,  348.0,  354.3,\n",
    "            344.9,  348.0,  346.4,  358.0,\n",
    "            340.2,  354.4,  349.7,  339.4,\n",
    "            338.8,  344.9,  330.4,  341.7,\n",
    "            336.7,  363.2,  355.9,  357.4]\n",
    "\n",
    "dados = pd.Series(dados)\n",
    "n = len(dados)\n",
    "\n",
    "print(\"Tamanho da Amostra: {0}\".format(n))\n",
    "print(\"Média: {0}\".format(np.mean(dados)))\n",
    "print(\"Desvio Padrão: {0}\".format(np.std(dados, ddof=1)))"
   ]
  },
  {
   "cell_type": "markdown",
   "metadata": {},
   "source": [
    "___\n",
    "**Resposta: Conjectura 1**"
   ]
  },
  {
   "cell_type": "markdown",
   "metadata": {},
   "source": [
    "Parâmetro de interesse aqui: **??**"
   ]
  },
  {
   "cell_type": "markdown",
   "metadata": {},
   "source": [
    "### Hipóteses em termos do problema e em termos estatísticos\n",
    "\n",
    "$H_0:$ ESCREVA AQUI EM TERMOS DO PROBLEMA $\\Rightarrow H_0:$ ESCREVA AQUI EM TERMOS DO PARÂMETRO\n",
    "\n",
    "$H_1:$ ESCREVA AQUI EM TERMOS DO PROBLEMA $\\Rightarrow H_1:$ ESCREVA AQUI EM TERMOS DO PARÂMETRO"
   ]
  },
  {
   "cell_type": "code",
   "execution_count": null,
   "metadata": {},
   "outputs": [],
   "source": []
  },
  {
   "cell_type": "code",
   "execution_count": null,
   "metadata": {},
   "outputs": [],
   "source": []
  },
  {
   "cell_type": "code",
   "execution_count": null,
   "metadata": {},
   "outputs": [],
   "source": []
  },
  {
   "cell_type": "markdown",
   "metadata": {},
   "source": [
    "___\n",
    "**Resposta: Conjectura 2**"
   ]
  },
  {
   "cell_type": "markdown",
   "metadata": {},
   "source": [
    "Parâmetro de interesse aqui: **??**"
   ]
  },
  {
   "cell_type": "markdown",
   "metadata": {},
   "source": [
    "### Hipóteses em termos do problema e em termos estatísticos\n",
    "\n",
    "$H_0:$ ESCREVA AQUI EM TERMOS DO PROBLEMA $\\Rightarrow H_0:$ ESCREVA AQUI EM TERMOS DO PARÂMETRO\n",
    "\n",
    "$H_1:$ ESCREVA AQUI EM TERMOS DO PROBLEMA $\\Rightarrow H_1:$ ESCREVA AQUI EM TERMOS DO PARÂMETRO"
   ]
  },
  {
   "cell_type": "code",
   "execution_count": null,
   "metadata": {},
   "outputs": [],
   "source": []
  },
  {
   "cell_type": "code",
   "execution_count": null,
   "metadata": {},
   "outputs": [],
   "source": []
  },
  {
   "cell_type": "code",
   "execution_count": null,
   "metadata": {},
   "outputs": [],
   "source": []
  },
  {
   "cell_type": "markdown",
   "metadata": {
    "collapsed": true
   },
   "source": [
    "___\n",
    "## Exercício 3\n",
    "\n",
    "# Experimento dos resistores\n",
    "\n",
    "** Compraria o lote de resistores pelo valor médio e pela tolerância? **\n",
    "\n",
    "Use a sua amostra para concluir se compraria o lote de resistores pelo controle de qualidade tanto quanto aos $1000 k\\Omega$ avaliado pela média e quanto aos $5\\%$ de tolerância avaliado pela variância ($5\\%$ de $1000 = 50$, logo, variância IDEAL igual $50^2$ $k\\Omega^2$.\n",
    "\n",
    "Use 95% de confiança para tomada de decisão!"
   ]
  },
  {
   "cell_type": "code",
   "execution_count": null,
   "metadata": {},
   "outputs": [],
   "source": [
    "#dados=[COLOQUE SUA AMOSTRA AQUI]"
   ]
  },
  {
   "cell_type": "code",
   "execution_count": null,
   "metadata": {},
   "outputs": [],
   "source": []
  },
  {
   "cell_type": "code",
   "execution_count": null,
   "metadata": {},
   "outputs": [],
   "source": []
  }
 ],
 "metadata": {
  "anaconda-cloud": {},
  "kernelspec": {
   "display_name": "Python 3",
   "language": "python",
   "name": "python3"
  },
  "language_info": {
   "codemirror_mode": {
    "name": "ipython",
    "version": 3
   },
   "file_extension": ".py",
   "mimetype": "text/x-python",
   "name": "python",
   "nbconvert_exporter": "python",
   "pygments_lexer": "ipython3",
   "version": "3.7.1"
  }
 },
 "nbformat": 4,
 "nbformat_minor": 1
}
