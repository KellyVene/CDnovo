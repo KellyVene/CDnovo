{
 "cells": [
  {
   "cell_type": "markdown",
   "metadata": {},
   "source": [
    "___\n",
    "# Aula 18: Distribuição da Média Amostral quando X~Normal\n",
    "\n",
    "## Contexto Teórico\n",
    "___\n",
    "\n",
    "**Preparo Prévio:**\n",
    "1. Magalhães e Lima (7ª. Edição): Seção 7.3 (págs 238 a 244).\n",
    "2. Montgomery. Estatística Aplicada e Probabilidade para Engenheiros: Seção 7.2\n",
    "\n",
    "**Hoje:**\n",
    "1. Descrever as propriedades de combinação linear de normais independentes.\n",
    "2. Calcular probabilidades a partir da distribuição da média amostral.\n",
    "3. Tomar decisão sobre comportamento da média populacional a partir de uma estimativa da média.\n",
    "___"
   ]
  },
  {
   "cell_type": "code",
   "execution_count": null,
   "metadata": {},
   "outputs": [],
   "source": [
    "import numpy as np\n",
    "import matplotlib.pyplot as plt\n",
    "import numpy.random as rnd\n",
    "from scipy.stats import norm\n",
    "%matplotlib inline"
   ]
  },
  {
   "cell_type": "markdown",
   "metadata": {
    "collapsed": true
   },
   "source": [
    "___\n",
    "## Distribuição da Média Amostral a partir de X com distribuição Normal"
   ]
  },
  {
   "cell_type": "code",
   "execution_count": null,
   "metadata": {},
   "outputs": [],
   "source": [
    "#População\n",
    "data = norm.rvs(20,4, size=1000000)\n",
    "mu=np.mean(data)\n",
    "sigma=np.var(data)**0.5"
   ]
  },
  {
   "cell_type": "code",
   "execution_count": null,
   "metadata": {},
   "outputs": [],
   "source": [
    "x = np.arange(0,40,0.2)\n",
    "y = norm.pdf(x, loc=mu, scale=sigma)\n",
    "plt.plot(x,y)\n",
    "plt.axvline(mu, color='r')\n",
    "\n",
    "plt.hist(data, bins=20, density=True, histtype='stepfilled', alpha=0.2, color='r')\n",
    "plt.xlabel('Valores populacionais')\n",
    "plt.ylabel('Densidade')\n",
    "plt.xlim(5,35)\n",
    "\n",
    "print('X segue uma distribuição Normal')\n",
    "print('Média de X ==> Valor de mu = ', \"%6.3f\"%np.mean(data))\n",
    "print('Variância de X ==> Valor de sigma2 = :', \"%6.3f\"%np.var(data))\n",
    "print ('-' * 20)"
   ]
  },
  {
   "cell_type": "markdown",
   "metadata": {},
   "source": [
    "### **Construção da distribuição da Média Amostral alterando tamanho amostral n**"
   ]
  },
  {
   "cell_type": "code",
   "execution_count": null,
   "metadata": {},
   "outputs": [],
   "source": [
    "f, axarr = plt.subplots(2,3,figsize=(16,8))\n",
    "i=0\n",
    "j=0\n",
    "for n in [2, 4, 10, 30, 50, 100]:\n",
    "    if (n==30):\n",
    "        i=1\n",
    "        j=0\n",
    "        \n",
    "    sampling = np.random.choice(data,size=(100000,n))\n",
    "    mean_of_sample = np.mean(sampling,1)\n",
    "    mean_of_mean = np.mean(mean_of_sample)\n",
    "    dp_of_mean = np.std(mean_of_sample,ddof=1)\n",
    "\n",
    "    axarr[i,j].hist(mean_of_sample, bins=20, density=True, histtype='stepfilled', alpha=0.2)\n",
    "    x = np.linspace(0,40,100)\n",
    "    y = norm.pdf(x,loc=mean_of_mean,scale=dp_of_mean)\n",
    "    axarr[i,j].plot(x,y,'r')\n",
    "    axarr[i,j].set_title('Tamanho da amostra: n='+str(n))\n",
    "    axarr[i,j].set_xlabel('médias amostrais')\n",
    "    axarr[i,j].set_ylabel('Densidade')\n",
    "    axarr[i,j].set_xlim(5,35)\n",
    "    #ax.set_ylim(0,.30)\n",
    "\n",
    "    j+=1\n",
    "        \n",
    "    print('Tamanho da amostra: n=',n)\n",
    "    print('Média das médias amostrais:', \"%6.3f\"%mean_of_mean)\n",
    "    print('Variância das médias amostrais:', \"%6.3f\"%dp_of_mean**2)\n",
    "    print ('-' * 20)\n",
    "    \n",
    "plt.tight_layout(1)"
   ]
  },
  {
   "cell_type": "code",
   "execution_count": null,
   "metadata": {},
   "outputs": [],
   "source": [
    "#Distribuição de Xi para n=2\n",
    "n=2\n",
    "\n",
    "f, axarr = plt.subplots(4,figsize=(8,8))\n",
    "sampling = np.random.choice(data,size=(100000,n))\n",
    "X1=sampling[:,0]\n",
    "X2=sampling[:,1]\n",
    "\n",
    "mean_of_sample = np.mean(sampling,1)\n",
    "mean_of_mean = np.mean(mean_of_sample)\n",
    "dp_of_mean = np.std(mean_of_sample,ddof=1)\n",
    "\n",
    "axarr[0].hist(data, bins=20, density=True, histtype='stepfilled', alpha=0.2, color='r')\n",
    "x = np.linspace(0,40,100)\n",
    "y = norm.pdf(x,loc=mu,scale=sigma)\n",
    "axarr[0].plot(x,y,'r')\n",
    "axarr[0].axvline(mu, color='r')\n",
    "axarr[0].set_title('População')\n",
    "axarr[0].set_xlabel('Valores populacionais')\n",
    "axarr[0].set_ylabel('Densidade')\n",
    "axarr[0].set_xlim(5,35)\n",
    "\n",
    "axarr[1].hist(X1, bins=20, density=True, histtype='stepfilled', alpha=0.2, color='g')\n",
    "x = np.linspace(0,40,100)\n",
    "y = norm.pdf(x,loc=mu,scale=sigma)\n",
    "axarr[1].plot(x,y,'r')\n",
    "axarr[1].axvline(np.mean(X1), color='r')\n",
    "axarr[1].set_title('Primeiro valor de cada amostra')\n",
    "axarr[1].set_xlabel('Valores de X1')\n",
    "axarr[1].set_ylabel('Densidade')\n",
    "axarr[1].set_xlim(5,35)\n",
    "  \n",
    "axarr[2].hist(X1, bins=20, density=True, histtype='stepfilled', alpha=0.2, color='g')\n",
    "x = np.linspace(0,40,100)\n",
    "y = norm.pdf(x,loc=mu,scale=sigma)\n",
    "axarr[2].plot(x,y,'r')\n",
    "axarr[2].axvline(np.mean(X2), color='r')\n",
    "axarr[2].set_title('Segundo valor de cada amostra')\n",
    "axarr[2].set_xlabel('Valores de X2')\n",
    "axarr[2].set_ylabel('Densidade')\n",
    "axarr[2].set_xlim(5,35)\n",
    "\n",
    "axarr[3].hist(mean_of_sample, bins=20, density=True, histtype='stepfilled', alpha=0.2)\n",
    "x = np.linspace(0,40,100)\n",
    "y = norm.pdf(x,loc=mean_of_mean,scale=dp_of_mean)\n",
    "axarr[3].plot(x,y,'r')\n",
    "axarr[3].axvline(np.mean(mean_of_sample), color='r')\n",
    "axarr[3].set_title('Tamanho da amostra: n='+str(n))\n",
    "axarr[3].set_xlabel('médias amostrais')\n",
    "axarr[3].set_ylabel('Densidade')\n",
    "axarr[3].set_xlim(5,35)\n",
    "\n",
    "plt.tight_layout(1)"
   ]
  },
  {
   "cell_type": "code",
   "execution_count": null,
   "metadata": {},
   "outputs": [],
   "source": [
    "np.corrcoef(X1,X2)"
   ]
  },
  {
   "cell_type": "code",
   "execution_count": null,
   "metadata": {},
   "outputs": [],
   "source": []
  }
 ],
 "metadata": {
  "anaconda-cloud": {},
  "kernelspec": {
   "display_name": "Python 3",
   "language": "python",
   "name": "python3"
  },
  "language_info": {
   "codemirror_mode": {
    "name": "ipython",
    "version": 3
   },
   "file_extension": ".py",
   "mimetype": "text/x-python",
   "name": "python",
   "nbconvert_exporter": "python",
   "pygments_lexer": "ipython3",
   "version": "3.7.1"
  }
 },
 "nbformat": 4,
 "nbformat_minor": 1
}
