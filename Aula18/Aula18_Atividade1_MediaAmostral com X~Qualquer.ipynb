{
 "cells": [
  {
   "cell_type": "markdown",
   "metadata": {},
   "source": [
    "___\n",
    "# Aula 18: Distribuição da Média Amostral quando X~Qualquer distribuição\n",
    "\n",
    "## Contexto Teórico\n",
    "\n",
    "___\n",
    "\n",
    "**Preparo Prévio:**\n",
    "1. Magalhães e Lima (7ª. Edição): Seção 7.3 (págs 238 a 244).\n",
    "2. Montgomery. Estatística Aplicada e Probabilidade para Engenheiros: Seção 7.2\n",
    "\n",
    "**Hoje:**\n",
    "1. Descrever o Teorema do Limite Central quando a variável aleatória populacional $X$ segue uma distribuição qualquer que não seja normal necessariamente.\n",
    "\n",
    "___"
   ]
  },
  {
   "cell_type": "code",
   "execution_count": null,
   "metadata": {},
   "outputs": [],
   "source": [
    "import numpy as np\n",
    "import matplotlib.pyplot as plt\n",
    "import numpy.random as rnd\n",
    "from scipy.stats import norm\n",
    "from scipy.stats import gamma\n",
    "\n",
    "%matplotlib inline"
   ]
  },
  {
   "cell_type": "markdown",
   "metadata": {
    "collapsed": true
   },
   "source": [
    "___\n",
    "## Distribuição da Média Amostral a partir de X com distribuição Gamma"
   ]
  },
  {
   "cell_type": "code",
   "execution_count": null,
   "metadata": {},
   "outputs": [],
   "source": [
    "#População\n",
    "data = gamma.rvs(3, size=1000000)\n",
    "mu=np.mean(data)\n",
    "sigma=np.var(data)**0.5"
   ]
  },
  {
   "cell_type": "code",
   "execution_count": null,
   "metadata": {},
   "outputs": [],
   "source": [
    "x = np.arange(0,15,0.1)\n",
    "y = gamma.pdf(x, a=3)\n",
    "plt.plot(x,y)\n",
    "plt.axvline(mu, color='r')\n",
    "\n",
    "plt.hist(data, bins=20, density=True, histtype='stepfilled', alpha=0.2, color='r')\n",
    "plt.xlabel('Valores populacionais')\n",
    "plt.ylabel('Densidade')\n",
    "plt.xlim(0,15)\n",
    "\n",
    "print('X segue uma distribuição Gamma')\n",
    "print('Média de X ==> Valor de mu = ', \"%6.3f\"%np.mean(data))\n",
    "print('Variância de X ==> Valor de sigma2 = :', \"%6.3f\"%np.var(data))\n",
    "print ('-' * 20)"
   ]
  },
  {
   "cell_type": "markdown",
   "metadata": {},
   "source": [
    "### **Construção da distribuição da Média Amostral alterando tamanho amostral n**"
   ]
  },
  {
   "cell_type": "code",
   "execution_count": null,
   "metadata": {},
   "outputs": [],
   "source": [
    "f, axarr = plt.subplots(2,3,figsize=(16,8))\n",
    "i=0\n",
    "j=0\n",
    "for n in [2, 4, 10, 30, 50, 100]:\n",
    "    if (n==30):\n",
    "        i=1\n",
    "        j=0\n",
    "        \n",
    "    sampling = np.random.choice(data,size=(100000,n))\n",
    "    mean_of_sample = np.mean(sampling,1)\n",
    "    mean_of_mean = np.mean(mean_of_sample)\n",
    "    dp_of_mean = np.std(mean_of_sample,ddof=1)\n",
    "\n",
    "    axarr[i,j].hist(mean_of_sample, bins=20, density=True, histtype='stepfilled', alpha=0.2)\n",
    "    x = np.linspace(0,10,100)\n",
    "    y = norm.pdf(x,loc=mean_of_mean,scale=dp_of_mean)\n",
    "    axarr[i,j].plot(x,y,'r')\n",
    "    axarr[i,j].set_title('Tamanho da amostra: n='+str(n))\n",
    "    axarr[i,j].set_xlabel('médias amostrais')\n",
    "    axarr[i,j].set_ylabel('Densidade')\n",
    "    axarr[i,j].set_xlim(0,10)\n",
    "    #ax.set_ylim(0,.30)\n",
    "\n",
    "    j+=1\n",
    "        \n",
    "    print('Tamanho da amostra: n=',n)\n",
    "    print('Média das médias amostrais:', \"%6.3f\"%mean_of_mean)\n",
    "    print('Variância das médias amostrais:', \"%6.3f\"%dp_of_mean**2)\n",
    "    print ('-' * 20)\n",
    "    \n",
    "plt.tight_layout(1)"
   ]
  },
  {
   "cell_type": "code",
   "execution_count": null,
   "metadata": {},
   "outputs": [],
   "source": [
    "#Distribuição de Xi para n=2\n",
    "n=2\n",
    "\n",
    "f, axarr = plt.subplots(3,figsize=(8,8))\n",
    "sampling = np.random.choice(data,size=(100000,n))\n",
    "X1=sampling[:,0]\n",
    "X2=sampling[:,1]\n",
    "\n",
    "mean_of_sample = np.mean(sampling,1)\n",
    "mean_of_mean = np.mean(mean_of_sample)\n",
    "dp_of_mean = np.std(mean_of_sample,ddof=1)\n",
    "\n",
    "x = np.linspace(0,10,100)\n",
    "y = gamma.pdf(x,a=3)\n",
    "\n",
    "axarr[0].hist(data, bins=20, density=True, histtype='stepfilled', alpha=0.2, color='r')\n",
    "axarr[0].plot(x,y,'r')\n",
    "axarr[0].axvline(mu, color='r')\n",
    "axarr[0].set_title('População')\n",
    "axarr[0].set_xlabel('Valores populacionais')\n",
    "axarr[0].set_ylabel('Densidade')\n",
    "axarr[0].set_xlim(0,15)\n",
    "\n",
    "axarr[1].hist(X1, bins=20, density=True, histtype='stepfilled', alpha=0.2, color='g')\n",
    "axarr[1].plot(x,y,'r')\n",
    "axarr[1].axvline(np.mean(X1), color='r')\n",
    "axarr[1].set_title('Primeiro valor de cada amostra')\n",
    "axarr[1].set_xlabel('Valores de X1')\n",
    "axarr[1].set_ylabel('Densidade')\n",
    "axarr[1].set_xlim(0,15)\n",
    "  \n",
    "axarr[2].hist(X1, bins=20, density=True, histtype='stepfilled', alpha=0.2, color='g')\n",
    "axarr[2].plot(x,y,'r')\n",
    "axarr[2].axvline(np.mean(X2), color='r')\n",
    "axarr[2].set_title('Segundo valor de cada amostra')\n",
    "axarr[2].set_xlabel('Valores de X2')\n",
    "axarr[2].set_ylabel('Densidade')\n",
    "axarr[2].set_xlim(0,15)\n",
    "\n",
    "plt.tight_layout(1)"
   ]
  },
  {
   "cell_type": "code",
   "execution_count": null,
   "metadata": {},
   "outputs": [],
   "source": [
    "np.corrcoef(X1,X2)"
   ]
  },
  {
   "cell_type": "code",
   "execution_count": null,
   "metadata": {},
   "outputs": [],
   "source": []
  }
 ],
 "metadata": {
  "anaconda-cloud": {},
  "kernelspec": {
   "display_name": "Python 3",
   "language": "python",
   "name": "python3"
  },
  "language_info": {
   "codemirror_mode": {
    "name": "ipython",
    "version": 3
   },
   "file_extension": ".py",
   "mimetype": "text/x-python",
   "name": "python",
   "nbconvert_exporter": "python",
   "pygments_lexer": "ipython3",
   "version": "3.7.1"
  }
 },
 "nbformat": 4,
 "nbformat_minor": 1
}
